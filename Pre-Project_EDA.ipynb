{
 "cells": [
  {
   "cell_type": "markdown",
   "id": "3d5ddb47",
   "metadata": {},
   "source": [
    "# Snowpack"
   ]
  },
  {
   "cell_type": "markdown",
   "id": "9d658846",
   "metadata": {},
   "source": [
    "**Metadata and Data Considerations**\n",
    "\n",
    "Data is from the National Water and Climate Center (NWCC)\n",
    "\n",
    "Data is csv format by state. For `AZ`, `CA`, CO, NM, NV, UT, WY\n",
    "Data needs to be cleaned such that it only includes data for the Colorado River Basin.\n",
    "Data contains many metrics. PCA may be necessary to reduce dimensionality of the dataset.\n",
    "\n",
    "Default format = Date | Station | Metric 1 | Metric 2 | ... | Metric n \n",
    "\n",
    "Data split into multiple files per state as a result of the data acquisition process. Master dataset should include all data for the Colorado River Basin.<br>\n",
    "File schema as follows:\n",
    "\n",
    "Snow_\\*.csv\n",
    "- Station Name\n",
    "- Station ID\n",
    "- Snow Water Equivalent\n",
    "- Snow Depth\n",
    "- Snow Density\n",
    "- Precipitation Acumulation\n",
    "- Snow Rain Ratio\n",
    "- Air Temperature Average\n",
    "- Wind Speed Average\n",
    "- Elevation\n",
    "- Latitude\n",
    "- Longitude\n",
    "\n",
    "Soil_\\*.csv\n",
    "- Station Name\n",
    "- Station ID\n",
    "- Soil Temperature Average\n",
    "\n",
    "Data may differ significantly over the period of record because of the effects of climate change in the region. We will attempt to use all period of record, but failing that, we will truncate the data. Data earlier than 2010 is likely not needed for predictions in following years and is likely too enstranged from current weather regimes to be useful and may instead present more error.\n",
    "\n",
    "Target parameter is `suf_water`, which is an engineered binary parameter that will use predicted Snow Water Equivalent (SWE), the amount of water available to the water system from snow melt, and subtract it from water usage. A `0` represents a negative resulting number (not enough water), and a `1` represents a positive resulting number (enough water). \n",
    "\n",
    "According to research, targeting SWE directly is more effective than targeting snow depth. We will attempt to include meteorological data as well as soil temperature measurements and elevation.\n",
    "\n",
    "Because we are comparing with water usage and water stores, reservoir data is required to compare snowpack data to determine whether water is sufficient. Water data is taken from NWCC's RESERVOIR dataset that includes reservoir stages and storage volumes. \n",
    "\n",
    "Water_\\*.csv\n",
    "- Station Name\n",
    "- Station ID\n",
    "- Reservoir Storage Volume (dam^3) Start of Day Values\n",
    "- Elevation\n",
    "- Latitude\n",
    "- Longitude"
   ]
  },
  {
   "cell_type": "markdown",
   "id": "1b9ee663",
   "metadata": {},
   "source": [
    "### Business Problem\n",
    "\n",
    "Colorado River Board wants to be able to predict whether or not there will be sufficient water for the year or not to determine and recommend water use regulations in Colorado River."
   ]
  },
  {
   "cell_type": "code",
   "execution_count": null,
   "id": "a0215a88",
   "metadata": {},
   "outputs": [],
   "source": []
  }
 ],
 "metadata": {
  "kernelspec": {
   "display_name": "Python (learn-env)",
   "language": "python",
   "name": "learn-env"
  },
  "language_info": {
   "codemirror_mode": {
    "name": "ipython",
    "version": 3
   },
   "file_extension": ".py",
   "mimetype": "text/x-python",
   "name": "python",
   "nbconvert_exporter": "python",
   "pygments_lexer": "ipython3",
   "version": "3.9.7"
  }
 },
 "nbformat": 4,
 "nbformat_minor": 5
}
