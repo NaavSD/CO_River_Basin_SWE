{
 "cells": [
  {
   "cell_type": "markdown",
   "id": "3d5ddb47",
   "metadata": {},
   "source": [
    "# Snowpack"
   ]
  },
  {
   "cell_type": "markdown",
   "id": "9d658846",
   "metadata": {},
   "source": [
    "**Metadata and Data Considerations**\n",
    "\n",
    "Data is from the National Water and Climate Center (NWCC)\n",
    "\n",
    "Data is csv format by state. For `AZ`, `CA`, CO, NM, NV, UT, WY\n",
    "Data needs to be cleaned such that it only includes data for the Colorado River Basin.\n",
    "Data contains many metrics. PCA may be necessary to reduce dimensionality of the dataset.\n",
    "\n",
    "Default format = Date | Station | Metric 1 | Metric 2 | ... | Metric n \n",
    "\n",
    "Data split into multiple files per state as a result of the data acquisition process. Master dataset should include all data for the Colorado River Basin.<br>\n",
    "File schema as follows:\n",
    "\n",
    "Snow_\\*.csv\n",
    "- Station Name\n",
    "- Station ID\n",
    "- Snow Water Equivalent\n",
    "- Snow Depth\n",
    "- Snow Density\n",
    "- Precipitation Acumulation\n",
    "- Snow Rain Ratio\n",
    "- Air Temperature Average\n",
    "- Wind Speed Average\n",
    "- Elevation\n",
    "- Latitude\n",
    "- Longitude\n",
    "\n",
    "Soil_\\*.csv\n",
    "- Station Name\n",
    "- Station ID\n",
    "- Soil Temperature Average\n",
    "\n",
    "Data may differ significantly over the period of record because of the effects of climate change in the region. We will attempt to use all period of record, but failing that, we will truncate the data. Data earlier than 2010 is likely not needed for predictions in following years and is likely too enstranged from current weather regimes to be useful and may instead present more error.\n",
    "\n",
    "Target parameter is `suf_water`, which is an engineered binary parameter that will use predicted Snow Water Equivalent (SWE), the amount of water available to the water system from snow melt, and subtract it from water usage. A `0` represents a negative resulting number (not enough water), and a `1` represents a positive resulting number (enough water). \n",
    "\n",
    "According to research, targeting SWE directly is more effective than targeting snow depth. We will attempt to include meteorological data as well as soil temperature measurements and elevation.\n",
    "\n",
    "Because we are comparing with water usage and water stores, reservoir data is required to compare snowpack data to determine whether water is sufficient. Water data is taken from NWCC's RESERVOIR dataset that includes reservoir stages and storage volumes. \n",
    "\n",
    "Water_\\*.csv\n",
    "- Station Name\n",
    "- Station ID\n",
    "- Reservoir Storage Volume (dam^3) Start of Day Values\n",
    "- Elevation\n",
    "- Latitude\n",
    "- Longitude"
   ]
  },
  {
   "cell_type": "markdown",
   "id": "86c836ce",
   "metadata": {},
   "source": [
    "#### Notes and Caveates\n",
    "\n",
    "Snow and water data was clipped geographically using a Colorado River Basin shapefile and ESRI ArcGIS Pro on WGS 1984 Mercator Auxiliary Sphere projection. \n",
    "\n",
    "CA Water and Snow data lies outside the basin boundary and will be excluded from the analysis. We will do some more research into the water resource draw CA puts on the basin system to include at the end.\n",
    "\n",
    "Some NV snow data lies within the basin boundary. NV Water reservoirs lie outside the basin boundary. Water resource draw by NV will have to be assessed similarly to CA."
   ]
  },
  {
   "cell_type": "markdown",
   "id": "a5c7eb27",
   "metadata": {},
   "source": [
    "### File Organizations\n",
    "\n"
   ]
  },
  {
   "cell_type": "markdown",
   "id": "1b9ee663",
   "metadata": {},
   "source": [
    "### Business Problem\n",
    "\n",
    "Colorado River Board wants to be able to predict whether or not there will be sufficient water for the year or not to determine and recommend water use regulations in Colorado River."
   ]
  },
  {
   "cell_type": "code",
   "execution_count": 1,
   "id": "715354b5",
   "metadata": {},
   "outputs": [],
   "source": [
    "# Import general libraries\n",
    "import pandas as pd\n",
    "import matplotlib.pyplot as plt\n",
    "import matplotlib\n",
    "import numpy as np"
   ]
  },
  {
   "cell_type": "code",
   "execution_count": 2,
   "id": "d90b3379",
   "metadata": {},
   "outputs": [],
   "source": [
    "# Importing snow files into dataframes\n",
    "snow_states = ['AZ', 'CO', 'NM', 'NV', 'UT', 'WY']\n",
    "raw_snow = {}\n",
    "\n",
    "for i in snow_states:\n",
    "    raw_snow[i] = pd.read_csv(f'../00_Source_Data/Snowpack/{i}/Snow_{i}_Clip.csv') \n",
    "\n",
    "\n",
    "# Importing water storage files into dataframes\n",
    "water_states = ['AZ', 'CO', 'NM', 'UT', 'WY']\n",
    "raw_water = {}\n",
    "\n",
    "for i in water_states:\n",
    "    raw_water[i] = pd.read_csv(f'../00_Source_Data/Snowpack/{i}/Water_{i}_Clip.csv') \n"
   ]
  },
  {
   "cell_type": "code",
   "execution_count": 3,
   "id": "a04ec9fc",
   "metadata": {},
   "outputs": [
    {
     "data": {
      "text/html": [
       "<div>\n",
       "<style scoped>\n",
       "    .dataframe tbody tr th:only-of-type {\n",
       "        vertical-align: middle;\n",
       "    }\n",
       "\n",
       "    .dataframe tbody tr th {\n",
       "        vertical-align: top;\n",
       "    }\n",
       "\n",
       "    .dataframe thead th {\n",
       "        text-align: right;\n",
       "    }\n",
       "</style>\n",
       "<table border=\"1\" class=\"dataframe\">\n",
       "  <thead>\n",
       "    <tr style=\"text-align: right;\">\n",
       "      <th></th>\n",
       "      <th>Date</th>\n",
       "      <th>Station Name</th>\n",
       "      <th>Station Id</th>\n",
       "      <th>Snow Water Equivalent (mm) Start of Day Values</th>\n",
       "      <th>Snow Depth (cm) Start of Day Values</th>\n",
       "      <th>Snow Density (pct) Start of Day Values</th>\n",
       "      <th>Precipitation Accumulation (mm) Start of Day Values</th>\n",
       "      <th>Snow Rain Ratio (unitless)</th>\n",
       "      <th>Air Temperature Average (degC)</th>\n",
       "      <th>Wind Speed Average (km/hr)</th>\n",
       "      <th>Elevation (ft)</th>\n",
       "      <th>Latitude</th>\n",
       "      <th>Longitude</th>\n",
       "    </tr>\n",
       "  </thead>\n",
       "  <tbody>\n",
       "    <tr>\n",
       "      <th>0</th>\n",
       "      <td>1978-09-30</td>\n",
       "      <td>Baker Butte</td>\n",
       "      <td>308</td>\n",
       "      <td>NaN</td>\n",
       "      <td>NaN</td>\n",
       "      <td>NaN</td>\n",
       "      <td>NaN</td>\n",
       "      <td>NaN</td>\n",
       "      <td>0.0</td>\n",
       "      <td>NaN</td>\n",
       "      <td>7300</td>\n",
       "      <td>34.4566</td>\n",
       "      <td>-111.40643</td>\n",
       "    </tr>\n",
       "    <tr>\n",
       "      <th>1</th>\n",
       "      <td>1978-10-01</td>\n",
       "      <td>Baker Butte</td>\n",
       "      <td>308</td>\n",
       "      <td>NaN</td>\n",
       "      <td>NaN</td>\n",
       "      <td>NaN</td>\n",
       "      <td>NaN</td>\n",
       "      <td>NaN</td>\n",
       "      <td>0.0</td>\n",
       "      <td>NaN</td>\n",
       "      <td>7300</td>\n",
       "      <td>34.4566</td>\n",
       "      <td>-111.40643</td>\n",
       "    </tr>\n",
       "    <tr>\n",
       "      <th>2</th>\n",
       "      <td>1978-10-02</td>\n",
       "      <td>Baker Butte</td>\n",
       "      <td>308</td>\n",
       "      <td>NaN</td>\n",
       "      <td>NaN</td>\n",
       "      <td>NaN</td>\n",
       "      <td>NaN</td>\n",
       "      <td>NaN</td>\n",
       "      <td>0.0</td>\n",
       "      <td>NaN</td>\n",
       "      <td>7300</td>\n",
       "      <td>34.4566</td>\n",
       "      <td>-111.40643</td>\n",
       "    </tr>\n",
       "    <tr>\n",
       "      <th>3</th>\n",
       "      <td>1978-10-03</td>\n",
       "      <td>Baker Butte</td>\n",
       "      <td>308</td>\n",
       "      <td>NaN</td>\n",
       "      <td>NaN</td>\n",
       "      <td>NaN</td>\n",
       "      <td>NaN</td>\n",
       "      <td>NaN</td>\n",
       "      <td>0.0</td>\n",
       "      <td>NaN</td>\n",
       "      <td>7300</td>\n",
       "      <td>34.4566</td>\n",
       "      <td>-111.40643</td>\n",
       "    </tr>\n",
       "    <tr>\n",
       "      <th>4</th>\n",
       "      <td>1978-10-04</td>\n",
       "      <td>Baker Butte</td>\n",
       "      <td>308</td>\n",
       "      <td>NaN</td>\n",
       "      <td>NaN</td>\n",
       "      <td>NaN</td>\n",
       "      <td>NaN</td>\n",
       "      <td>NaN</td>\n",
       "      <td>0.0</td>\n",
       "      <td>NaN</td>\n",
       "      <td>7300</td>\n",
       "      <td>34.4566</td>\n",
       "      <td>-111.40643</td>\n",
       "    </tr>\n",
       "  </tbody>\n",
       "</table>\n",
       "</div>"
      ],
      "text/plain": [
       "         Date Station Name  Station Id  \\\n",
       "0  1978-09-30  Baker Butte         308   \n",
       "1  1978-10-01  Baker Butte         308   \n",
       "2  1978-10-02  Baker Butte         308   \n",
       "3  1978-10-03  Baker Butte         308   \n",
       "4  1978-10-04  Baker Butte         308   \n",
       "\n",
       "   Snow Water Equivalent (mm) Start of Day Values  \\\n",
       "0                                             NaN   \n",
       "1                                             NaN   \n",
       "2                                             NaN   \n",
       "3                                             NaN   \n",
       "4                                             NaN   \n",
       "\n",
       "   Snow Depth (cm) Start of Day Values  \\\n",
       "0                                  NaN   \n",
       "1                                  NaN   \n",
       "2                                  NaN   \n",
       "3                                  NaN   \n",
       "4                                  NaN   \n",
       "\n",
       "   Snow Density (pct) Start of Day Values  \\\n",
       "0                                     NaN   \n",
       "1                                     NaN   \n",
       "2                                     NaN   \n",
       "3                                     NaN   \n",
       "4                                     NaN   \n",
       "\n",
       "   Precipitation Accumulation (mm) Start of Day Values  \\\n",
       "0                                                NaN     \n",
       "1                                                NaN     \n",
       "2                                                NaN     \n",
       "3                                                NaN     \n",
       "4                                                NaN     \n",
       "\n",
       "   Snow Rain Ratio (unitless)  Air Temperature Average (degC)  \\\n",
       "0                         NaN                             0.0   \n",
       "1                         NaN                             0.0   \n",
       "2                         NaN                             0.0   \n",
       "3                         NaN                             0.0   \n",
       "4                         NaN                             0.0   \n",
       "\n",
       "   Wind Speed Average (km/hr)  Elevation (ft)  Latitude  Longitude  \n",
       "0                         NaN            7300   34.4566 -111.40643  \n",
       "1                         NaN            7300   34.4566 -111.40643  \n",
       "2                         NaN            7300   34.4566 -111.40643  \n",
       "3                         NaN            7300   34.4566 -111.40643  \n",
       "4                         NaN            7300   34.4566 -111.40643  "
      ]
     },
     "execution_count": 3,
     "metadata": {},
     "output_type": "execute_result"
    }
   ],
   "source": [
    "raw_snow['AZ'].head()"
   ]
  },
  {
   "cell_type": "code",
   "execution_count": 4,
   "id": "a0215a88",
   "metadata": {},
   "outputs": [],
   "source": [
    "# Standardizing column names for snow data.\n",
    "column_names = {'Station_Name' : 'Station Name',\n",
    "               'Station_Id' : 'Station ID',\n",
    "               'Snow_Water_Equivalent__mm__Start_of_Day_Values' : 'SWE',\n",
    "               'Snow_Depth__cm__Start_of_Day_Values' : 'Snow Depth',\n",
    "               'Elevation__ft_' : 'Elevation',\n",
    "               'Station Id' : 'Station ID',\n",
    "               'Snow Water Equivalent (mm) Start of Day Values' : 'SWE',\n",
    "               'Snow Depth (cm) Start of Day Values' : 'Snow Depth',\n",
    "               'Snow Density (pct) Start of Day Values' : 'Snow Density',\n",
    "               'Precipitation Accumulation (mm) Start of Day Values' : 'Precip Accumulation',\n",
    "               'Snow Rain Ratio (unitless)' : 'Snow / Rain',\n",
    "               'Air Temperature Average (degC)' : 'Average Air Temperature',\n",
    "               'Wind Speed Average (km/hr)' : 'Average Wind Speed',\n",
    "               'Elevation (ft)' : 'Elevation'}\n",
    "\n",
    "for i in snow_states:\n",
    "    raw_snow[i] = raw_snow[i].rename(columns=column_names)\n",
    "    \n",
    "# Standardizing column names for water storage data.\n",
    "wa_column_names = {'Station_Name' : 'Station Name',\n",
    "                   'Station_Id' : 'Station ID',\n",
    "                   'Station Id' : 'Station ID',\n",
    "                   'Reservoir Storage Volume (dam^3) Start of Day Values' : 'Water Storage',\n",
    "                   'Reservoir_Storage_Volume__dam_3__Start_of_Day_Values' : 'Water Storage',\n",
    "                   'Elevation (ft)' : 'Elevation',\n",
    "                   'Elevation__ft_' : 'Elevation'}\n",
    "\n",
    "for i in water_states:\n",
    "    raw_water[i] = raw_water[i].rename(columns=wa_column_names)"
   ]
  },
  {
   "cell_type": "code",
   "execution_count": 5,
   "id": "cba0d534",
   "metadata": {},
   "outputs": [],
   "source": [
    "# Combine the dataframes into one dataframe for snow data.\n",
    "snow_data = pd.concat(raw_snow, axis=0)\n",
    "water_data = pd.concat(raw_water, axis=0)"
   ]
  },
  {
   "cell_type": "code",
   "execution_count": 6,
   "id": "c5ec6a6b",
   "metadata": {},
   "outputs": [
    {
     "data": {
      "text/html": [
       "<div>\n",
       "<style scoped>\n",
       "    .dataframe tbody tr th:only-of-type {\n",
       "        vertical-align: middle;\n",
       "    }\n",
       "\n",
       "    .dataframe tbody tr th {\n",
       "        vertical-align: top;\n",
       "    }\n",
       "\n",
       "    .dataframe thead th {\n",
       "        text-align: right;\n",
       "    }\n",
       "</style>\n",
       "<table border=\"1\" class=\"dataframe\">\n",
       "  <thead>\n",
       "    <tr style=\"text-align: right;\">\n",
       "      <th></th>\n",
       "      <th></th>\n",
       "      <th>Date</th>\n",
       "      <th>Station Name</th>\n",
       "      <th>Station ID</th>\n",
       "      <th>Water Storage</th>\n",
       "      <th>Elevation</th>\n",
       "      <th>Latitude</th>\n",
       "      <th>Longitude</th>\n",
       "      <th>OID_</th>\n",
       "    </tr>\n",
       "  </thead>\n",
       "  <tbody>\n",
       "    <tr>\n",
       "      <th rowspan=\"5\" valign=\"top\">AZ</th>\n",
       "      <th>0</th>\n",
       "      <td>1964-12-21</td>\n",
       "      <td>Cragin Dam Reservoir</td>\n",
       "      <td>9398300.0</td>\n",
       "      <td>0.0</td>\n",
       "      <td>6620.0</td>\n",
       "      <td>34.55528</td>\n",
       "      <td>-111.18333</td>\n",
       "      <td>NaN</td>\n",
       "    </tr>\n",
       "    <tr>\n",
       "      <th>1</th>\n",
       "      <td>1964-12-22</td>\n",
       "      <td>Cragin Dam Reservoir</td>\n",
       "      <td>9398300.0</td>\n",
       "      <td>NaN</td>\n",
       "      <td>6620.0</td>\n",
       "      <td>34.55528</td>\n",
       "      <td>-111.18333</td>\n",
       "      <td>NaN</td>\n",
       "    </tr>\n",
       "    <tr>\n",
       "      <th>2</th>\n",
       "      <td>1964-12-23</td>\n",
       "      <td>Cragin Dam Reservoir</td>\n",
       "      <td>9398300.0</td>\n",
       "      <td>NaN</td>\n",
       "      <td>6620.0</td>\n",
       "      <td>34.55528</td>\n",
       "      <td>-111.18333</td>\n",
       "      <td>NaN</td>\n",
       "    </tr>\n",
       "    <tr>\n",
       "      <th>3</th>\n",
       "      <td>1964-12-24</td>\n",
       "      <td>Cragin Dam Reservoir</td>\n",
       "      <td>9398300.0</td>\n",
       "      <td>NaN</td>\n",
       "      <td>6620.0</td>\n",
       "      <td>34.55528</td>\n",
       "      <td>-111.18333</td>\n",
       "      <td>NaN</td>\n",
       "    </tr>\n",
       "    <tr>\n",
       "      <th>4</th>\n",
       "      <td>1964-12-25</td>\n",
       "      <td>Cragin Dam Reservoir</td>\n",
       "      <td>9398300.0</td>\n",
       "      <td>NaN</td>\n",
       "      <td>6620.0</td>\n",
       "      <td>34.55528</td>\n",
       "      <td>-111.18333</td>\n",
       "      <td>NaN</td>\n",
       "    </tr>\n",
       "    <tr>\n",
       "      <th>...</th>\n",
       "      <th>...</th>\n",
       "      <td>...</td>\n",
       "      <td>...</td>\n",
       "      <td>...</td>\n",
       "      <td>...</td>\n",
       "      <td>...</td>\n",
       "      <td>...</td>\n",
       "      <td>...</td>\n",
       "      <td>...</td>\n",
       "    </tr>\n",
       "    <tr>\n",
       "      <th rowspan=\"5\" valign=\"top\">WY</th>\n",
       "      <th>59795</th>\n",
       "      <td>2022-03-29</td>\n",
       "      <td>Meeks Cabin Reservoir</td>\n",
       "      <td>9218400.0</td>\n",
       "      <td>15393.0</td>\n",
       "      <td>8673.0</td>\n",
       "      <td>41.02583</td>\n",
       "      <td>-110.58067</td>\n",
       "      <td>NaN</td>\n",
       "    </tr>\n",
       "    <tr>\n",
       "      <th>59796</th>\n",
       "      <td>2022-03-30</td>\n",
       "      <td>Meeks Cabin Reservoir</td>\n",
       "      <td>9218400.0</td>\n",
       "      <td>15470.0</td>\n",
       "      <td>8673.0</td>\n",
       "      <td>41.02583</td>\n",
       "      <td>-110.58067</td>\n",
       "      <td>NaN</td>\n",
       "    </tr>\n",
       "    <tr>\n",
       "      <th>59797</th>\n",
       "      <td>2022-03-31</td>\n",
       "      <td>Meeks Cabin Reservoir</td>\n",
       "      <td>9218400.0</td>\n",
       "      <td>15556.0</td>\n",
       "      <td>8673.0</td>\n",
       "      <td>41.02583</td>\n",
       "      <td>-110.58067</td>\n",
       "      <td>NaN</td>\n",
       "    </tr>\n",
       "    <tr>\n",
       "      <th>59798</th>\n",
       "      <td>2022-04-01</td>\n",
       "      <td>Meeks Cabin Reservoir</td>\n",
       "      <td>9218400.0</td>\n",
       "      <td>15642.0</td>\n",
       "      <td>8673.0</td>\n",
       "      <td>41.02583</td>\n",
       "      <td>-110.58067</td>\n",
       "      <td>NaN</td>\n",
       "    </tr>\n",
       "    <tr>\n",
       "      <th>59799</th>\n",
       "      <td>2022-04-02</td>\n",
       "      <td>Meeks Cabin Reservoir</td>\n",
       "      <td>9218400.0</td>\n",
       "      <td>15706.0</td>\n",
       "      <td>8673.0</td>\n",
       "      <td>41.02583</td>\n",
       "      <td>-110.58067</td>\n",
       "      <td>NaN</td>\n",
       "    </tr>\n",
       "  </tbody>\n",
       "</table>\n",
       "<p>1010474 rows × 8 columns</p>\n",
       "</div>"
      ],
      "text/plain": [
       "                Date           Station Name  Station ID  Water Storage  \\\n",
       "AZ 0      1964-12-21   Cragin Dam Reservoir   9398300.0            0.0   \n",
       "   1      1964-12-22   Cragin Dam Reservoir   9398300.0            NaN   \n",
       "   2      1964-12-23   Cragin Dam Reservoir   9398300.0            NaN   \n",
       "   3      1964-12-24   Cragin Dam Reservoir   9398300.0            NaN   \n",
       "   4      1964-12-25   Cragin Dam Reservoir   9398300.0            NaN   \n",
       "...              ...                    ...         ...            ...   \n",
       "WY 59795  2022-03-29  Meeks Cabin Reservoir   9218400.0        15393.0   \n",
       "   59796  2022-03-30  Meeks Cabin Reservoir   9218400.0        15470.0   \n",
       "   59797  2022-03-31  Meeks Cabin Reservoir   9218400.0        15556.0   \n",
       "   59798  2022-04-01  Meeks Cabin Reservoir   9218400.0        15642.0   \n",
       "   59799  2022-04-02  Meeks Cabin Reservoir   9218400.0        15706.0   \n",
       "\n",
       "          Elevation  Latitude  Longitude  OID_  \n",
       "AZ 0         6620.0  34.55528 -111.18333   NaN  \n",
       "   1         6620.0  34.55528 -111.18333   NaN  \n",
       "   2         6620.0  34.55528 -111.18333   NaN  \n",
       "   3         6620.0  34.55528 -111.18333   NaN  \n",
       "   4         6620.0  34.55528 -111.18333   NaN  \n",
       "...             ...       ...        ...   ...  \n",
       "WY 59795     8673.0  41.02583 -110.58067   NaN  \n",
       "   59796     8673.0  41.02583 -110.58067   NaN  \n",
       "   59797     8673.0  41.02583 -110.58067   NaN  \n",
       "   59798     8673.0  41.02583 -110.58067   NaN  \n",
       "   59799     8673.0  41.02583 -110.58067   NaN  \n",
       "\n",
       "[1010474 rows x 8 columns]"
      ]
     },
     "execution_count": 6,
     "metadata": {},
     "output_type": "execute_result"
    }
   ],
   "source": [
    "water_data"
   ]
  },
  {
   "cell_type": "code",
   "execution_count": 7,
   "id": "24f1e702",
   "metadata": {},
   "outputs": [],
   "source": [
    "# Column Selection for master snow dataset\n",
    "junk_columns = ['Station ID', 'Snow Density', 'Precip Accumulation', 'Snow / Rain', 'Average Air Temperature', \n",
    "                'Average Wind Speed', 'Elevation', 'Latitude', 'Longitude', 'OID_']\n",
    "\n",
    "snow_data.drop(columns=junk_columns, inplace=True)\n",
    "\n",
    "# Column Selection for master water storage dataset\n",
    "water_data.drop(columns=['Station ID', 'Elevation', 'Latitude', 'Longitude', 'OID_'], inplace=True)"
   ]
  },
  {
   "cell_type": "code",
   "execution_count": 8,
   "id": "6308e677",
   "metadata": {},
   "outputs": [],
   "source": [
    "# Date time formatting\n",
    "snow_data.index = pd.to_datetime(snow_data['Date'], infer_datetime_format=True)\n",
    "snow_data.drop(columns='Date', inplace=True)\n",
    "\n",
    "water_data.index = pd.to_datetime(water_data['Date'], infer_datetime_format=True)\n",
    "water_data.drop(columns='Date', inplace=True)"
   ]
  },
  {
   "cell_type": "code",
   "execution_count": 9,
   "id": "305cef38",
   "metadata": {
    "scrolled": true
   },
   "outputs": [
    {
     "data": {
      "text/html": [
       "<div>\n",
       "<style scoped>\n",
       "    .dataframe tbody tr th:only-of-type {\n",
       "        vertical-align: middle;\n",
       "    }\n",
       "\n",
       "    .dataframe tbody tr th {\n",
       "        vertical-align: top;\n",
       "    }\n",
       "\n",
       "    .dataframe thead th {\n",
       "        text-align: right;\n",
       "    }\n",
       "</style>\n",
       "<table border=\"1\" class=\"dataframe\">\n",
       "  <thead>\n",
       "    <tr style=\"text-align: right;\">\n",
       "      <th></th>\n",
       "      <th>Station Name</th>\n",
       "      <th>SWE</th>\n",
       "      <th>Snow Depth</th>\n",
       "    </tr>\n",
       "    <tr>\n",
       "      <th>Date</th>\n",
       "      <th></th>\n",
       "      <th></th>\n",
       "      <th></th>\n",
       "    </tr>\n",
       "  </thead>\n",
       "  <tbody>\n",
       "    <tr>\n",
       "      <th>1978-09-30</th>\n",
       "      <td>Baker Butte</td>\n",
       "      <td>NaN</td>\n",
       "      <td>NaN</td>\n",
       "    </tr>\n",
       "    <tr>\n",
       "      <th>1978-10-01</th>\n",
       "      <td>Baker Butte</td>\n",
       "      <td>NaN</td>\n",
       "      <td>NaN</td>\n",
       "    </tr>\n",
       "    <tr>\n",
       "      <th>1978-10-02</th>\n",
       "      <td>Baker Butte</td>\n",
       "      <td>NaN</td>\n",
       "      <td>NaN</td>\n",
       "    </tr>\n",
       "    <tr>\n",
       "      <th>1978-10-03</th>\n",
       "      <td>Baker Butte</td>\n",
       "      <td>NaN</td>\n",
       "      <td>NaN</td>\n",
       "    </tr>\n",
       "    <tr>\n",
       "      <th>1978-10-04</th>\n",
       "      <td>Baker Butte</td>\n",
       "      <td>NaN</td>\n",
       "      <td>NaN</td>\n",
       "    </tr>\n",
       "    <tr>\n",
       "      <th>...</th>\n",
       "      <td>...</td>\n",
       "      <td>...</td>\n",
       "      <td>...</td>\n",
       "    </tr>\n",
       "    <tr>\n",
       "      <th>2022-03-31</th>\n",
       "      <td>Whiskey Park</td>\n",
       "      <td>569.0</td>\n",
       "      <td>155.0</td>\n",
       "    </tr>\n",
       "    <tr>\n",
       "      <th>2022-04-01</th>\n",
       "      <td>Whiskey Park</td>\n",
       "      <td>569.0</td>\n",
       "      <td>152.0</td>\n",
       "    </tr>\n",
       "    <tr>\n",
       "      <th>2022-04-02</th>\n",
       "      <td>Whiskey Park</td>\n",
       "      <td>574.0</td>\n",
       "      <td>150.0</td>\n",
       "    </tr>\n",
       "    <tr>\n",
       "      <th>2022-04-03</th>\n",
       "      <td>Whiskey Park</td>\n",
       "      <td>572.0</td>\n",
       "      <td>147.0</td>\n",
       "    </tr>\n",
       "    <tr>\n",
       "      <th>2022-04-04</th>\n",
       "      <td>Whiskey Park</td>\n",
       "      <td>582.0</td>\n",
       "      <td>147.0</td>\n",
       "    </tr>\n",
       "  </tbody>\n",
       "</table>\n",
       "<p>1963530 rows × 3 columns</p>\n",
       "</div>"
      ],
      "text/plain": [
       "            Station Name    SWE  Snow Depth\n",
       "Date                                       \n",
       "1978-09-30   Baker Butte    NaN         NaN\n",
       "1978-10-01   Baker Butte    NaN         NaN\n",
       "1978-10-02   Baker Butte    NaN         NaN\n",
       "1978-10-03   Baker Butte    NaN         NaN\n",
       "1978-10-04   Baker Butte    NaN         NaN\n",
       "...                  ...    ...         ...\n",
       "2022-03-31  Whiskey Park  569.0       155.0\n",
       "2022-04-01  Whiskey Park  569.0       152.0\n",
       "2022-04-02  Whiskey Park  574.0       150.0\n",
       "2022-04-03  Whiskey Park  572.0       147.0\n",
       "2022-04-04  Whiskey Park  582.0       147.0\n",
       "\n",
       "[1963530 rows x 3 columns]"
      ]
     },
     "execution_count": 9,
     "metadata": {},
     "output_type": "execute_result"
    }
   ],
   "source": [
    "snow_data"
   ]
  },
  {
   "cell_type": "markdown",
   "id": "57600d19",
   "metadata": {},
   "source": [
    "We will backfill and interpolate to fix `NaN` values, then aggregate by date to create values for the entire basin."
   ]
  },
  {
   "cell_type": "code",
   "execution_count": 10,
   "id": "cd3e15e9",
   "metadata": {
    "scrolled": false
   },
   "outputs": [
    {
     "data": {
      "text/html": [
       "<div>\n",
       "<style scoped>\n",
       "    .dataframe tbody tr th:only-of-type {\n",
       "        vertical-align: middle;\n",
       "    }\n",
       "\n",
       "    .dataframe tbody tr th {\n",
       "        vertical-align: top;\n",
       "    }\n",
       "\n",
       "    .dataframe thead th {\n",
       "        text-align: right;\n",
       "    }\n",
       "</style>\n",
       "<table border=\"1\" class=\"dataframe\">\n",
       "  <thead>\n",
       "    <tr style=\"text-align: right;\">\n",
       "      <th></th>\n",
       "      <th>Station Name</th>\n",
       "      <th>Water Storage</th>\n",
       "    </tr>\n",
       "    <tr>\n",
       "      <th>Date</th>\n",
       "      <th></th>\n",
       "      <th></th>\n",
       "    </tr>\n",
       "  </thead>\n",
       "  <tbody>\n",
       "    <tr>\n",
       "      <th>1964-12-21</th>\n",
       "      <td>Cragin Dam Reservoir</td>\n",
       "      <td>0.0</td>\n",
       "    </tr>\n",
       "    <tr>\n",
       "      <th>1964-12-22</th>\n",
       "      <td>Cragin Dam Reservoir</td>\n",
       "      <td>NaN</td>\n",
       "    </tr>\n",
       "    <tr>\n",
       "      <th>1964-12-23</th>\n",
       "      <td>Cragin Dam Reservoir</td>\n",
       "      <td>NaN</td>\n",
       "    </tr>\n",
       "    <tr>\n",
       "      <th>1964-12-24</th>\n",
       "      <td>Cragin Dam Reservoir</td>\n",
       "      <td>NaN</td>\n",
       "    </tr>\n",
       "    <tr>\n",
       "      <th>1964-12-25</th>\n",
       "      <td>Cragin Dam Reservoir</td>\n",
       "      <td>NaN</td>\n",
       "    </tr>\n",
       "    <tr>\n",
       "      <th>...</th>\n",
       "      <td>...</td>\n",
       "      <td>...</td>\n",
       "    </tr>\n",
       "    <tr>\n",
       "      <th>2022-03-29</th>\n",
       "      <td>Meeks Cabin Reservoir</td>\n",
       "      <td>15393.0</td>\n",
       "    </tr>\n",
       "    <tr>\n",
       "      <th>2022-03-30</th>\n",
       "      <td>Meeks Cabin Reservoir</td>\n",
       "      <td>15470.0</td>\n",
       "    </tr>\n",
       "    <tr>\n",
       "      <th>2022-03-31</th>\n",
       "      <td>Meeks Cabin Reservoir</td>\n",
       "      <td>15556.0</td>\n",
       "    </tr>\n",
       "    <tr>\n",
       "      <th>2022-04-01</th>\n",
       "      <td>Meeks Cabin Reservoir</td>\n",
       "      <td>15642.0</td>\n",
       "    </tr>\n",
       "    <tr>\n",
       "      <th>2022-04-02</th>\n",
       "      <td>Meeks Cabin Reservoir</td>\n",
       "      <td>15706.0</td>\n",
       "    </tr>\n",
       "  </tbody>\n",
       "</table>\n",
       "<p>1010474 rows × 2 columns</p>\n",
       "</div>"
      ],
      "text/plain": [
       "                     Station Name  Water Storage\n",
       "Date                                            \n",
       "1964-12-21   Cragin Dam Reservoir            0.0\n",
       "1964-12-22   Cragin Dam Reservoir            NaN\n",
       "1964-12-23   Cragin Dam Reservoir            NaN\n",
       "1964-12-24   Cragin Dam Reservoir            NaN\n",
       "1964-12-25   Cragin Dam Reservoir            NaN\n",
       "...                           ...            ...\n",
       "2022-03-29  Meeks Cabin Reservoir        15393.0\n",
       "2022-03-30  Meeks Cabin Reservoir        15470.0\n",
       "2022-03-31  Meeks Cabin Reservoir        15556.0\n",
       "2022-04-01  Meeks Cabin Reservoir        15642.0\n",
       "2022-04-02  Meeks Cabin Reservoir        15706.0\n",
       "\n",
       "[1010474 rows x 2 columns]"
      ]
     },
     "execution_count": 10,
     "metadata": {},
     "output_type": "execute_result"
    }
   ],
   "source": [
    "water_data"
   ]
  },
  {
   "cell_type": "code",
   "execution_count": 11,
   "id": "3332b729",
   "metadata": {},
   "outputs": [],
   "source": [
    "from statsmodels.tsa.stattools import adfuller\n",
    "\n",
    "def dicky_fuller_test(data, alpha):\n",
    "    is_stationary = adfuller(data)[1] < alpha\n",
    "    if is_stationary == True:\n",
    "        print(f'The data is stationary with a fuller score of {round(adfuller(data)[1],3)}')\n",
    "    else:\n",
    "        print(f'The data is not stationary with a fuller score of {round(adfuller(data)[1],3)}')\n",
    "    return"
   ]
  },
  {
   "cell_type": "markdown",
   "id": "1a0316cf",
   "metadata": {},
   "source": [
    "Imputing and aggregating:"
   ]
  },
  {
   "cell_type": "code",
   "execution_count": 12,
   "id": "29a5f5e4",
   "metadata": {},
   "outputs": [],
   "source": [
    "def fix_na(df, interpolation_method='linear', fill_method='backfill'):\n",
    "    # interpolate and backfill\n",
    "    \n",
    "    df = df.interpolate(method='linear').fillna(value=None, method='backfill', axis=None, limit=None, downcast=None).dropna(axis=1, how='all')\n",
    "    return df"
   ]
  },
  {
   "cell_type": "code",
   "execution_count": 13,
   "id": "0df52ba4",
   "metadata": {
    "scrolled": false
   },
   "outputs": [],
   "source": [
    "fill_snow = fix_na(snow_data)\n",
    "fill_water = fix_na(water_data)\n",
    "\n",
    "ag_snow = snow_data.groupby(fill_snow.index).aggregate({'SWE' : 'sum'})\n",
    "ag_water = water_data.groupby(fill_water.index).aggregate({'Water Storage' : 'sum'})"
   ]
  },
  {
   "cell_type": "code",
   "execution_count": 14,
   "id": "ef46e71e",
   "metadata": {},
   "outputs": [],
   "source": [
    "masterdata = ag_snow.join(ag_water, how='left', on=ag_snow.index)\n",
    "masterdata = fix_na(masterdata)"
   ]
  },
  {
   "cell_type": "code",
   "execution_count": 15,
   "id": "7dbd812d",
   "metadata": {
    "scrolled": true
   },
   "outputs": [
    {
     "data": {
      "text/plain": [
       "<AxesSubplot:xlabel='Date'>"
      ]
     },
     "execution_count": 15,
     "metadata": {},
     "output_type": "execute_result"
    },
    {
     "data": {
      "image/png": "[encoded data removed]",
      "text/plain": [
       "<Figure size 432x288 with 1 Axes>"
      ]
     },
     "metadata": {
      "needs_background": "light"
     },
     "output_type": "display_data"
    }
   ],
   "source": [
    "masterdata.plot()"
   ]
  },
  {
   "cell_type": "markdown",
   "id": "ef443cbe",
   "metadata": {},
   "source": [
    "Without interpolating SWE over the areas between stations where snow accumulates, the values of SWE don't match or compare with the changes in water storage. Thus we may look at water storage and water withdrawals directly."
   ]
  },
  {
   "cell_type": "code",
   "execution_count": 16,
   "id": "dc0837be",
   "metadata": {
    "scrolled": false
   },
   "outputs": [
    {
     "name": "stderr",
     "output_type": "stream",
     "text": [
      "C:\\Users\\bjere\\anaconda\\lib\\site-packages\\IPython\\core\\interactiveshell.py:3444: DtypeWarning: Columns (3,7) have mixed types.Specify dtype option on import or set low_memory=False.\n",
      "  exec(code_obj, self.user_global_ns, self.user_ns)\n"
     ]
    }
   ],
   "source": [
    "# Bringing in water withdrawal data\n",
    "\n",
    "aquaculture_withdrawals = pd.read_csv(f'../00_Source_Data/Snowpack/Water Usage/CRB_HUC8_TAF_19852010_Aquaculture.csv')\n",
    "commercial_withdrawals = pd.read_csv(f'../00_Source_Data/Snowpack/Water Usage/CRB_HUC8_TAF_19852010_Commercial.csv')\n",
    "hydropower_withdrawals = pd.read_csv(f'../00_Source_Data/Snowpack/Water Usage/CRB_HUC8_TAF_19852010_Hydro_Power.csv')\n",
    "irrigation_withdrawals = pd.read_csv(f'../00_Source_Data/Snowpack/Water Usage/CRB_HUC8_TAF_19852010_Irrigation.csv')\n",
    "livestock_withdrawals = pd.read_csv(f'../00_Source_Data/Snowpack/Water Usage/CRB_HUC8_TAF_19852010_Livestock.csv')\n",
    "mining_withdrawals = pd.read_csv(f'../00_Source_Data/Snowpack/Water Usage/CRB_HUC8_TAF_19852010_Mining.csv')\n",
    "public_withdrawals = pd.read_csv(f'../00_Source_Data/Snowpack/Water Usage/CRB_HUC8_TAF_19852010_PublicSupply.csv')\n",
    "ss_domestic_withdrawals = pd.read_csv(f'../00_Source_Data/Snowpack/Water Usage/CRB_HUC8_TAF_19852010_SS_Domestic.csv')\n",
    "ss_industrial_withdrawals = pd.read_csv(f'../00_Source_Data/Snowpack/Water Usage/CRB_HUC8_TAF_19852010_SS_Industrial.csv')\n",
    "thermoelectric_withdrawals = pd.read_csv(f'../00_Source_Data/Snowpack/Water Usage/CRB_HUC8_TAF_19852010_Total_Thermoelectric.csv')\n",
    "wastewater_withdrawals = pd.read_csv(f'../00_Source_Data/Snowpack/Water Usage/CRB_HUC8_TAF_19852010_Wastewater.csv')"
   ]
  },
  {
   "cell_type": "code",
   "execution_count": 17,
   "id": "3fa3ff7c",
   "metadata": {},
   "outputs": [],
   "source": [
    "# Define a function to remove XLS file artifacts from dataframes.\n",
    "\n",
    "def del_unnamed(df):\n",
    "    cols = df.columns.tolist()\n",
    "    to_remove = []\n",
    "    \n",
    "    for i in cols:\n",
    "        if i.startswith('Unnamed'):\n",
    "            to_remove.append(i)\n",
    "    return df.drop(columns=to_remove)"
   ]
  },
  {
   "cell_type": "code",
   "execution_count": 18,
   "id": "60be8fe7",
   "metadata": {},
   "outputs": [],
   "source": [
    "# Remove all artifact columns from all withdrawal datasets\n",
    "\n",
    "aquaculture_withdrawals = del_unnamed(aquaculture_withdrawals)\n",
    "commercial_withdrawals = del_unnamed(commercial_withdrawals)\n",
    "hydropower_withdrawals = del_unnamed(hydropower_withdrawals)\n",
    "irrigation_withdrawals = del_unnamed(irrigation_withdrawals)\n",
    "livestock_withdrawals = del_unnamed(livestock_withdrawals)\n",
    "mining_withdrawals = del_unnamed(mining_withdrawals)\n",
    "public_withdrawals = del_unnamed(public_withdrawals)\n",
    "ss_domestic_withdrawals = del_unnamed(ss_domestic_withdrawals)\n",
    "ss_industrial_withdrawals = del_unnamed(ss_industrial_withdrawals)\n",
    "thermoelectric_withdrawals = del_unnamed(thermoelectric_withdrawals)\n",
    "wastewater_withdrawals = del_unnamed(wastewater_withdrawals)"
   ]
  },
  {
   "cell_type": "markdown",
   "id": "6d921593",
   "metadata": {},
   "source": [
    " Each dataset has differing columns but the premise of how to put it all together is relatively simple. The total amount of consumed water is subtracted from total water storage. Water reclaimed is added to water storage. Each time period is treated as independant from the previous as the resulting storage is actual and thus should already include the values in the withdrawals data sets.\n",
    " \n",
    " Most dams have a minimum water level they maintain, so we will reduce the total storage per time figure by an amount equal to a percentage of the maximum (estimated by maximum in our dataset) to account for minimum operating depths in reservoirs and hydroelectric dams."
   ]
  },
  {
   "cell_type": "code",
   "execution_count": 19,
   "id": "5e3b673d",
   "metadata": {},
   "outputs": [
    {
     "name": "stdout",
     "output_type": "stream",
     "text": [
      "Glen Canyon Dam has a minimum operating depth of 30% of the full depth.\n",
      "Glen Canyon Dam has a minimum flow-through depth of 46% of the full depth. Also called the \"dead pool\" depth.\n"
     ]
    }
   ],
   "source": [
    "# doing some quick math because facts are in different scales.\n",
    "# Depth is in feet.\n",
    "\n",
    "total_water_depth = 710\n",
    "min_operating = 3490\n",
    "dead_pool = 3370\n",
    "lake_elevation = 3700\n",
    "\n",
    "per_to_dead = (lake_elevation - dead_pool)/total_water_depth\n",
    "per_to_non_op = (lake_elevation - min_operating)/total_water_depth\n",
    "\n",
    "print(f'Glen Canyon Dam has a minimum operating depth of {round(per_to_non_op*100)}% of the full depth.')\n",
    "print(f'Glen Canyon Dam has a minimum flow-through depth of {round(per_to_dead*100)}% of the full depth. Also called the \"dead pool\" depth.')"
   ]
  },
  {
   "cell_type": "markdown",
   "id": "c0709227",
   "metadata": {},
   "source": [
    "We will use Glen Canyon as our model dam, as it is difficult to find information on the dead pool and minimum operating depths of most other dams and reservoirs on the Colorado.\n",
    "\n",
    "Thus, we can generalize that all water storage cannot drop below 46% percent of the maximum idealy. Dropping below 30% of the maximum storage is dire."
   ]
  },
  {
   "cell_type": "markdown",
   "id": "3e40b9b3",
   "metadata": {},
   "source": [
    "#### Formatting procedures\n",
    "\n",
    "- Index to year as datetime.\n",
    "- groupby date and aggregate total consumptive water withdrawal and total water reclaimed\n",
    "\n",
    "Columns of interest by dataframe (units in TAF unless stated otherwise):\n",
    "\n",
    "- Aquaculture: `'AQ-WTotl'` total fresh and saline withdrawals\n",
    "- Commercial: `'CO-WFrTotl'` total water usage fresh\n",
    "- Hydro power: `'HY-ToUse'` total instream and offstream water withdrawals defined by producer\n",
    "        - Not differentiated between consumed and reclaimed.\n",
    "        - Assuming all hydro power 'withdrawals' are flowthrough and not consumptive\n",
    "- Irrigation: `'IR-WFrTo'` total fresh water withdrawls\n",
    "        - Not differentiated between consumptive, conveyance losses, and evap.\n",
    "- Livestock: `'LS-WTotl'` total fresh water withdrawals\n",
    "        - Saline withdrawals not included.\n",
    "- Mining: `'MI-WTotl'` total fresh and saline withdrawals\n",
    "- Public: `'PS-WTotl'` total fresh and saline withdrawals\n",
    "        - Public water totals appear to be delivered and included in other categories.\n",
    "- SS Domestic: `'DO-WTotl'` total self-supplied withdrawals\n",
    "- SS Industrial: `'IN-WTotl'` total self-supplied fresh and saline withdrawals\n",
    "- Thermoelectric: `'PT-CUTot'` total fresh and saline consumptive use\n",
    "- Wastewater: `'WW-PuRet'` total return flow"
   ]
  },
  {
   "cell_type": "code",
   "execution_count": 20,
   "id": "c3534b04",
   "metadata": {},
   "outputs": [],
   "source": [
    "def format_water_data(df, column):\n",
    "    df.index = pd.to_datetime(df['YEAR'], format='%Y', infer_datetime_format=True)\n",
    "    return df.groupby(df.index).aggregate({column : 'sum'})\n",
    "        "
   ]
  },
  {
   "cell_type": "raw",
   "id": "90fb7d3f",
   "metadata": {},
   "source": [
    "aquaculture_withdrawals.index = pd.to_datetime(aquaculture_withdrawals['YEAR'], format='%Y', infer_datetime_format=True)"
   ]
  },
  {
   "cell_type": "code",
   "execution_count": 21,
   "id": "6435f130",
   "metadata": {},
   "outputs": [],
   "source": [
    "# format water withdrawal data \n",
    "aq_totls = format_water_data(aquaculture_withdrawals, 'AQ-WTotl')\n",
    "com_totls = format_water_data(commercial_withdrawals, 'CO-WFrTotl')\n",
    "hydro_totls = format_water_data(hydropower_withdrawals, 'HY-ToUse')\n",
    "irr_totls = format_water_data(irrigation_withdrawals, 'IR-WFrTo')\n",
    "ls_totls = format_water_data(livestock_withdrawals, 'LS-WTotl')\n",
    "mi_totls = format_water_data(mining_withdrawals, 'MI-WTotl')\n",
    "pub_totls = format_water_data(public_withdrawals, 'PS-WTotl')\n",
    "ss_dom_totls = format_water_data(ss_domestic_withdrawals, 'DO-WTotl')\n",
    "ss_ind_totls = format_water_data(ss_industrial_withdrawals, 'IN-WTotl')\n",
    "te_totls = format_water_data(thermoelectric_withdrawals, 'PT-CUTot')\n",
    "ww_totls = format_water_data(wastewater_withdrawals, 'WW-PuRet')"
   ]
  },
  {
   "cell_type": "code",
   "execution_count": 22,
   "id": "30e91411",
   "metadata": {},
   "outputs": [],
   "source": [
    "water_withdrawals = aq_totls.join([com_totls, hydro_totls, irr_totls, ls_totls, mi_totls,\n",
    "                                   pub_totls, ss_dom_totls, ss_ind_totls, te_totls, ww_totls])"
   ]
  },
  {
   "cell_type": "code",
   "execution_count": 23,
   "id": "6dc638d7",
   "metadata": {},
   "outputs": [
    {
     "data": {
      "text/html": [
       "<div>\n",
       "<style scoped>\n",
       "    .dataframe tbody tr th:only-of-type {\n",
       "        vertical-align: middle;\n",
       "    }\n",
       "\n",
       "    .dataframe tbody tr th {\n",
       "        vertical-align: top;\n",
       "    }\n",
       "\n",
       "    .dataframe thead th {\n",
       "        text-align: right;\n",
       "    }\n",
       "</style>\n",
       "<table border=\"1\" class=\"dataframe\">\n",
       "  <thead>\n",
       "    <tr style=\"text-align: right;\">\n",
       "      <th></th>\n",
       "      <th>AQ-WTotl</th>\n",
       "      <th>CO-WFrTotl</th>\n",
       "      <th>HY-ToUse</th>\n",
       "      <th>IR-WFrTo</th>\n",
       "      <th>LS-WTotl</th>\n",
       "      <th>MI-WTotl</th>\n",
       "      <th>PS-WTotl</th>\n",
       "      <th>DO-WTotl</th>\n",
       "      <th>IN-WTotl</th>\n",
       "      <th>PT-CUTot</th>\n",
       "      <th>WW-PuRet</th>\n",
       "    </tr>\n",
       "    <tr>\n",
       "      <th>YEAR</th>\n",
       "      <th></th>\n",
       "      <th></th>\n",
       "      <th></th>\n",
       "      <th></th>\n",
       "      <th></th>\n",
       "      <th></th>\n",
       "      <th></th>\n",
       "      <th></th>\n",
       "      <th></th>\n",
       "      <th></th>\n",
       "      <th></th>\n",
       "    </tr>\n",
       "  </thead>\n",
       "  <tbody>\n",
       "    <tr>\n",
       "      <th>2000-01-01</th>\n",
       "      <td>154.62</td>\n",
       "      <td>22.29</td>\n",
       "      <td>52485.04</td>\n",
       "      <td>14975.81</td>\n",
       "      <td>45.54</td>\n",
       "      <td>231.62</td>\n",
       "      <td>1910.20</td>\n",
       "      <td>66.68</td>\n",
       "      <td>33.00</td>\n",
       "      <td>235.90</td>\n",
       "      <td>1786.04</td>\n",
       "    </tr>\n",
       "    <tr>\n",
       "      <th>2005-01-01</th>\n",
       "      <td>142.15</td>\n",
       "      <td>26.94</td>\n",
       "      <td>43617.69</td>\n",
       "      <td>14818.85</td>\n",
       "      <td>41.35</td>\n",
       "      <td>183.30</td>\n",
       "      <td>1988.93</td>\n",
       "      <td>75.60</td>\n",
       "      <td>31.35</td>\n",
       "      <td>332.57</td>\n",
       "      <td>1699.78</td>\n",
       "    </tr>\n",
       "    <tr>\n",
       "      <th>2010-01-01</th>\n",
       "      <td>151.35</td>\n",
       "      <td>30.49</td>\n",
       "      <td>46076.89</td>\n",
       "      <td>13648.80</td>\n",
       "      <td>43.77</td>\n",
       "      <td>176.37</td>\n",
       "      <td>2096.00</td>\n",
       "      <td>69.44</td>\n",
       "      <td>31.67</td>\n",
       "      <td>328.20</td>\n",
       "      <td>1753.24</td>\n",
       "    </tr>\n",
       "  </tbody>\n",
       "</table>\n",
       "</div>"
      ],
      "text/plain": [
       "            AQ-WTotl  CO-WFrTotl  HY-ToUse  IR-WFrTo  LS-WTotl  MI-WTotl  \\\n",
       "YEAR                                                                       \n",
       "2000-01-01    154.62       22.29  52485.04  14975.81     45.54    231.62   \n",
       "2005-01-01    142.15       26.94  43617.69  14818.85     41.35    183.30   \n",
       "2010-01-01    151.35       30.49  46076.89  13648.80     43.77    176.37   \n",
       "\n",
       "            PS-WTotl  DO-WTotl  IN-WTotl  PT-CUTot  WW-PuRet  \n",
       "YEAR                                                          \n",
       "2000-01-01   1910.20     66.68     33.00    235.90   1786.04  \n",
       "2005-01-01   1988.93     75.60     31.35    332.57   1699.78  \n",
       "2010-01-01   2096.00     69.44     31.67    328.20   1753.24  "
      ]
     },
     "execution_count": 23,
     "metadata": {},
     "output_type": "execute_result"
    }
   ],
   "source": [
    "water_withdrawals"
   ]
  },
  {
   "cell_type": "code",
   "execution_count": 24,
   "id": "27164cfd",
   "metadata": {},
   "outputs": [],
   "source": [
    "# turn withdrawals into negative numbers and returns into positive numbers.\n",
    "\n",
    "if water_withdrawals['AQ-WTotl'][0] > 0:\n",
    "    for i in water_withdrawals.columns:\n",
    "        water_withdrawals[i] = water_withdrawals[i]*-1\n",
    "\n",
    "if water_withdrawals['WW-PuRet'][0] < 0:\n",
    "    water_withdrawals['WW-PuRet'] = water_withdrawals['WW-PuRet']*-1"
   ]
  },
  {
   "cell_type": "code",
   "execution_count": 25,
   "id": "58c0eece",
   "metadata": {
    "scrolled": true
   },
   "outputs": [
    {
     "data": {
      "text/html": [
       "<div>\n",
       "<style scoped>\n",
       "    .dataframe tbody tr th:only-of-type {\n",
       "        vertical-align: middle;\n",
       "    }\n",
       "\n",
       "    .dataframe tbody tr th {\n",
       "        vertical-align: top;\n",
       "    }\n",
       "\n",
       "    .dataframe thead th {\n",
       "        text-align: right;\n",
       "    }\n",
       "</style>\n",
       "<table border=\"1\" class=\"dataframe\">\n",
       "  <thead>\n",
       "    <tr style=\"text-align: right;\">\n",
       "      <th></th>\n",
       "      <th>AQ-WTotl</th>\n",
       "      <th>CO-WFrTotl</th>\n",
       "      <th>HY-ToUse</th>\n",
       "      <th>IR-WFrTo</th>\n",
       "      <th>LS-WTotl</th>\n",
       "      <th>MI-WTotl</th>\n",
       "      <th>PS-WTotl</th>\n",
       "      <th>DO-WTotl</th>\n",
       "      <th>IN-WTotl</th>\n",
       "      <th>PT-CUTot</th>\n",
       "      <th>WW-PuRet</th>\n",
       "    </tr>\n",
       "    <tr>\n",
       "      <th>YEAR</th>\n",
       "      <th></th>\n",
       "      <th></th>\n",
       "      <th></th>\n",
       "      <th></th>\n",
       "      <th></th>\n",
       "      <th></th>\n",
       "      <th></th>\n",
       "      <th></th>\n",
       "      <th></th>\n",
       "      <th></th>\n",
       "      <th></th>\n",
       "    </tr>\n",
       "  </thead>\n",
       "  <tbody>\n",
       "    <tr>\n",
       "      <th>2000-01-01</th>\n",
       "      <td>-154.62</td>\n",
       "      <td>-22.29</td>\n",
       "      <td>-52485.04</td>\n",
       "      <td>-14975.81</td>\n",
       "      <td>-45.54</td>\n",
       "      <td>-231.62</td>\n",
       "      <td>-1910.20</td>\n",
       "      <td>-66.68</td>\n",
       "      <td>-33.00</td>\n",
       "      <td>-235.90</td>\n",
       "      <td>1786.04</td>\n",
       "    </tr>\n",
       "    <tr>\n",
       "      <th>2005-01-01</th>\n",
       "      <td>-142.15</td>\n",
       "      <td>-26.94</td>\n",
       "      <td>-43617.69</td>\n",
       "      <td>-14818.85</td>\n",
       "      <td>-41.35</td>\n",
       "      <td>-183.30</td>\n",
       "      <td>-1988.93</td>\n",
       "      <td>-75.60</td>\n",
       "      <td>-31.35</td>\n",
       "      <td>-332.57</td>\n",
       "      <td>1699.78</td>\n",
       "    </tr>\n",
       "    <tr>\n",
       "      <th>2010-01-01</th>\n",
       "      <td>-151.35</td>\n",
       "      <td>-30.49</td>\n",
       "      <td>-46076.89</td>\n",
       "      <td>-13648.80</td>\n",
       "      <td>-43.77</td>\n",
       "      <td>-176.37</td>\n",
       "      <td>-2096.00</td>\n",
       "      <td>-69.44</td>\n",
       "      <td>-31.67</td>\n",
       "      <td>-328.20</td>\n",
       "      <td>1753.24</td>\n",
       "    </tr>\n",
       "  </tbody>\n",
       "</table>\n",
       "</div>"
      ],
      "text/plain": [
       "            AQ-WTotl  CO-WFrTotl  HY-ToUse  IR-WFrTo  LS-WTotl  MI-WTotl  \\\n",
       "YEAR                                                                       \n",
       "2000-01-01   -154.62      -22.29 -52485.04 -14975.81    -45.54   -231.62   \n",
       "2005-01-01   -142.15      -26.94 -43617.69 -14818.85    -41.35   -183.30   \n",
       "2010-01-01   -151.35      -30.49 -46076.89 -13648.80    -43.77   -176.37   \n",
       "\n",
       "            PS-WTotl  DO-WTotl  IN-WTotl  PT-CUTot  WW-PuRet  \n",
       "YEAR                                                          \n",
       "2000-01-01  -1910.20    -66.68    -33.00   -235.90   1786.04  \n",
       "2005-01-01  -1988.93    -75.60    -31.35   -332.57   1699.78  \n",
       "2010-01-01  -2096.00    -69.44    -31.67   -328.20   1753.24  "
      ]
     },
     "execution_count": 25,
     "metadata": {},
     "output_type": "execute_result"
    }
   ],
   "source": [
    "water_withdrawals"
   ]
  },
  {
   "cell_type": "raw",
   "id": "76c14c93",
   "metadata": {},
   "source": [
    "\n",
    "                                         water_withdrawals['HY-ToUse'] + \\\n",
    "                                         water_withdrawals['PS-WTotl'] + \\"
   ]
  },
  {
   "cell_type": "code",
   "execution_count": 26,
   "id": "b388aa71",
   "metadata": {},
   "outputs": [],
   "source": [
    "water_withdrawals['Total Withdrawals'] = water_withdrawals['AQ-WTotl'] + \\\n",
    "                                         water_withdrawals['CO-WFrTotl'] + \\\n",
    "                                         water_withdrawals['IR-WFrTo'] + \\\n",
    "                                         water_withdrawals['LS-WTotl'] + \\\n",
    "                                         water_withdrawals['MI-WTotl'] + \\\n",
    "                                         water_withdrawals['DO-WTotl'] + \\\n",
    "                                         water_withdrawals['IN-WTotl'] + \\\n",
    "                                         water_withdrawals['PT-CUTot'] + \\\n",
    "                                         water_withdrawals['WW-PuRet']"
   ]
  },
  {
   "cell_type": "code",
   "execution_count": 27,
   "id": "3fa63516",
   "metadata": {
    "scrolled": true
   },
   "outputs": [
    {
     "data": {
      "text/html": [
       "<div>\n",
       "<style scoped>\n",
       "    .dataframe tbody tr th:only-of-type {\n",
       "        vertical-align: middle;\n",
       "    }\n",
       "\n",
       "    .dataframe tbody tr th {\n",
       "        vertical-align: top;\n",
       "    }\n",
       "\n",
       "    .dataframe thead th {\n",
       "        text-align: right;\n",
       "    }\n",
       "</style>\n",
       "<table border=\"1\" class=\"dataframe\">\n",
       "  <thead>\n",
       "    <tr style=\"text-align: right;\">\n",
       "      <th></th>\n",
       "      <th>AQ-WTotl</th>\n",
       "      <th>CO-WFrTotl</th>\n",
       "      <th>HY-ToUse</th>\n",
       "      <th>IR-WFrTo</th>\n",
       "      <th>LS-WTotl</th>\n",
       "      <th>MI-WTotl</th>\n",
       "      <th>PS-WTotl</th>\n",
       "      <th>DO-WTotl</th>\n",
       "      <th>IN-WTotl</th>\n",
       "      <th>PT-CUTot</th>\n",
       "      <th>WW-PuRet</th>\n",
       "      <th>Total Withdrawals</th>\n",
       "    </tr>\n",
       "    <tr>\n",
       "      <th>YEAR</th>\n",
       "      <th></th>\n",
       "      <th></th>\n",
       "      <th></th>\n",
       "      <th></th>\n",
       "      <th></th>\n",
       "      <th></th>\n",
       "      <th></th>\n",
       "      <th></th>\n",
       "      <th></th>\n",
       "      <th></th>\n",
       "      <th></th>\n",
       "      <th></th>\n",
       "    </tr>\n",
       "  </thead>\n",
       "  <tbody>\n",
       "    <tr>\n",
       "      <th>2000-01-01</th>\n",
       "      <td>-154.62</td>\n",
       "      <td>-22.29</td>\n",
       "      <td>-52485.04</td>\n",
       "      <td>-14975.81</td>\n",
       "      <td>-45.54</td>\n",
       "      <td>-231.62</td>\n",
       "      <td>-1910.20</td>\n",
       "      <td>-66.68</td>\n",
       "      <td>-33.00</td>\n",
       "      <td>-235.90</td>\n",
       "      <td>1786.04</td>\n",
       "      <td>-13979.42</td>\n",
       "    </tr>\n",
       "    <tr>\n",
       "      <th>2005-01-01</th>\n",
       "      <td>-142.15</td>\n",
       "      <td>-26.94</td>\n",
       "      <td>-43617.69</td>\n",
       "      <td>-14818.85</td>\n",
       "      <td>-41.35</td>\n",
       "      <td>-183.30</td>\n",
       "      <td>-1988.93</td>\n",
       "      <td>-75.60</td>\n",
       "      <td>-31.35</td>\n",
       "      <td>-332.57</td>\n",
       "      <td>1699.78</td>\n",
       "      <td>-13952.33</td>\n",
       "    </tr>\n",
       "    <tr>\n",
       "      <th>2010-01-01</th>\n",
       "      <td>-151.35</td>\n",
       "      <td>-30.49</td>\n",
       "      <td>-46076.89</td>\n",
       "      <td>-13648.80</td>\n",
       "      <td>-43.77</td>\n",
       "      <td>-176.37</td>\n",
       "      <td>-2096.00</td>\n",
       "      <td>-69.44</td>\n",
       "      <td>-31.67</td>\n",
       "      <td>-328.20</td>\n",
       "      <td>1753.24</td>\n",
       "      <td>-12726.85</td>\n",
       "    </tr>\n",
       "  </tbody>\n",
       "</table>\n",
       "</div>"
      ],
      "text/plain": [
       "            AQ-WTotl  CO-WFrTotl  HY-ToUse  IR-WFrTo  LS-WTotl  MI-WTotl  \\\n",
       "YEAR                                                                       \n",
       "2000-01-01   -154.62      -22.29 -52485.04 -14975.81    -45.54   -231.62   \n",
       "2005-01-01   -142.15      -26.94 -43617.69 -14818.85    -41.35   -183.30   \n",
       "2010-01-01   -151.35      -30.49 -46076.89 -13648.80    -43.77   -176.37   \n",
       "\n",
       "            PS-WTotl  DO-WTotl  IN-WTotl  PT-CUTot  WW-PuRet  \\\n",
       "YEAR                                                           \n",
       "2000-01-01  -1910.20    -66.68    -33.00   -235.90   1786.04   \n",
       "2005-01-01  -1988.93    -75.60    -31.35   -332.57   1699.78   \n",
       "2010-01-01  -2096.00    -69.44    -31.67   -328.20   1753.24   \n",
       "\n",
       "            Total Withdrawals  \n",
       "YEAR                           \n",
       "2000-01-01          -13979.42  \n",
       "2005-01-01          -13952.33  \n",
       "2010-01-01          -12726.85  "
      ]
     },
     "execution_count": 27,
     "metadata": {},
     "output_type": "execute_result"
    }
   ],
   "source": [
    "water_withdrawals"
   ]
  },
  {
   "cell_type": "markdown",
   "id": "a6fe908c",
   "metadata": {},
   "source": [
    "#### Addressing differences in units\n",
    "\n",
    "The master dataset has water in dam^3 and our water withdrawals are in TAFs.\n",
    "\n",
    "So, we will convert our withdrawals to dam^3.\n",
    "\n",
    "$\\dfrac {1233.48 \\text{dam}^3}{1000 \\text{acre-feet}}$\n",
    "\n",
    "so simply multiply the rows by 1233.48"
   ]
  },
  {
   "cell_type": "code",
   "execution_count": 28,
   "id": "522980b8",
   "metadata": {},
   "outputs": [],
   "source": [
    "for i in water_withdrawals.columns:\n",
    "        water_withdrawals[i] = water_withdrawals[i]*1233.48"
   ]
  },
  {
   "cell_type": "markdown",
   "id": "0cb54508",
   "metadata": {},
   "source": [
    "Now all measurements of water are in cubic decameters ($\\text{dam}^3$)"
   ]
  },
  {
   "cell_type": "markdown",
   "id": "d929bd0e",
   "metadata": {},
   "source": [
    "### Resampling and visualizing"
   ]
  },
  {
   "cell_type": "code",
   "execution_count": 29,
   "id": "d44e8c38",
   "metadata": {},
   "outputs": [],
   "source": [
    "graphing = masterdata.join(water_withdrawals.drop(columns=['HY-ToUse', 'PS-WTotl'])).resample('1D').median()"
   ]
  },
  {
   "cell_type": "code",
   "execution_count": 30,
   "id": "d79fe279",
   "metadata": {},
   "outputs": [],
   "source": [
    "graphing = graphing.fillna(value=None, method='backfill', axis=None, limit=None, downcast=None)\n",
    "graphing = graphing.fillna(value=None, method='ffill', axis=None, limit=None, downcast=None)"
   ]
  },
  {
   "cell_type": "code",
   "execution_count": 31,
   "id": "15c15f86",
   "metadata": {},
   "outputs": [
    {
     "data": {
      "text/html": [
       "<div>\n",
       "<style scoped>\n",
       "    .dataframe tbody tr th:only-of-type {\n",
       "        vertical-align: middle;\n",
       "    }\n",
       "\n",
       "    .dataframe tbody tr th {\n",
       "        vertical-align: top;\n",
       "    }\n",
       "\n",
       "    .dataframe thead th {\n",
       "        text-align: right;\n",
       "    }\n",
       "</style>\n",
       "<table border=\"1\" class=\"dataframe\">\n",
       "  <thead>\n",
       "    <tr style=\"text-align: right;\">\n",
       "      <th></th>\n",
       "      <th>SWE</th>\n",
       "      <th>Water Storage</th>\n",
       "      <th>AQ-WTotl</th>\n",
       "      <th>CO-WFrTotl</th>\n",
       "      <th>IR-WFrTo</th>\n",
       "      <th>LS-WTotl</th>\n",
       "      <th>MI-WTotl</th>\n",
       "      <th>DO-WTotl</th>\n",
       "      <th>IN-WTotl</th>\n",
       "      <th>PT-CUTot</th>\n",
       "      <th>WW-PuRet</th>\n",
       "      <th>Total Withdrawals</th>\n",
       "    </tr>\n",
       "    <tr>\n",
       "      <th>Date</th>\n",
       "      <th></th>\n",
       "      <th></th>\n",
       "      <th></th>\n",
       "      <th></th>\n",
       "      <th></th>\n",
       "      <th></th>\n",
       "      <th></th>\n",
       "      <th></th>\n",
       "      <th></th>\n",
       "      <th></th>\n",
       "      <th></th>\n",
       "      <th></th>\n",
       "    </tr>\n",
       "  </thead>\n",
       "  <tbody>\n",
       "    <tr>\n",
       "      <th>1978-09-30</th>\n",
       "      <td>0.0</td>\n",
       "      <td>29913012.0</td>\n",
       "      <td>-190720.6776</td>\n",
       "      <td>-27494.2692</td>\n",
       "      <td>-1.847236e+07</td>\n",
       "      <td>-56172.6792</td>\n",
       "      <td>-285698.6376</td>\n",
       "      <td>-82248.4464</td>\n",
       "      <td>-40704.8400</td>\n",
       "      <td>-290977.932</td>\n",
       "      <td>2.203045e+06</td>\n",
       "      <td>-1.724333e+07</td>\n",
       "    </tr>\n",
       "    <tr>\n",
       "      <th>1978-10-01</th>\n",
       "      <td>2354.0</td>\n",
       "      <td>29894823.0</td>\n",
       "      <td>-190720.6776</td>\n",
       "      <td>-27494.2692</td>\n",
       "      <td>-1.847236e+07</td>\n",
       "      <td>-56172.6792</td>\n",
       "      <td>-285698.6376</td>\n",
       "      <td>-82248.4464</td>\n",
       "      <td>-40704.8400</td>\n",
       "      <td>-290977.932</td>\n",
       "      <td>2.203045e+06</td>\n",
       "      <td>-1.724333e+07</td>\n",
       "    </tr>\n",
       "    <tr>\n",
       "      <th>1978-10-02</th>\n",
       "      <td>0.0</td>\n",
       "      <td>29800335.0</td>\n",
       "      <td>-190720.6776</td>\n",
       "      <td>-27494.2692</td>\n",
       "      <td>-1.847236e+07</td>\n",
       "      <td>-56172.6792</td>\n",
       "      <td>-285698.6376</td>\n",
       "      <td>-82248.4464</td>\n",
       "      <td>-40704.8400</td>\n",
       "      <td>-290977.932</td>\n",
       "      <td>2.203045e+06</td>\n",
       "      <td>-1.724333e+07</td>\n",
       "    </tr>\n",
       "    <tr>\n",
       "      <th>1978-10-03</th>\n",
       "      <td>0.0</td>\n",
       "      <td>29826110.0</td>\n",
       "      <td>-190720.6776</td>\n",
       "      <td>-27494.2692</td>\n",
       "      <td>-1.847236e+07</td>\n",
       "      <td>-56172.6792</td>\n",
       "      <td>-285698.6376</td>\n",
       "      <td>-82248.4464</td>\n",
       "      <td>-40704.8400</td>\n",
       "      <td>-290977.932</td>\n",
       "      <td>2.203045e+06</td>\n",
       "      <td>-1.724333e+07</td>\n",
       "    </tr>\n",
       "    <tr>\n",
       "      <th>1978-10-04</th>\n",
       "      <td>0.0</td>\n",
       "      <td>29754881.0</td>\n",
       "      <td>-190720.6776</td>\n",
       "      <td>-27494.2692</td>\n",
       "      <td>-1.847236e+07</td>\n",
       "      <td>-56172.6792</td>\n",
       "      <td>-285698.6376</td>\n",
       "      <td>-82248.4464</td>\n",
       "      <td>-40704.8400</td>\n",
       "      <td>-290977.932</td>\n",
       "      <td>2.203045e+06</td>\n",
       "      <td>-1.724333e+07</td>\n",
       "    </tr>\n",
       "    <tr>\n",
       "      <th>...</th>\n",
       "      <td>...</td>\n",
       "      <td>...</td>\n",
       "      <td>...</td>\n",
       "      <td>...</td>\n",
       "      <td>...</td>\n",
       "      <td>...</td>\n",
       "      <td>...</td>\n",
       "      <td>...</td>\n",
       "      <td>...</td>\n",
       "      <td>...</td>\n",
       "      <td>...</td>\n",
       "      <td>...</td>\n",
       "    </tr>\n",
       "    <tr>\n",
       "      <th>2022-03-31</th>\n",
       "      <td>45372.0</td>\n",
       "      <td>17685824.0</td>\n",
       "      <td>-186687.1980</td>\n",
       "      <td>-37608.8052</td>\n",
       "      <td>-1.683552e+07</td>\n",
       "      <td>-53989.4196</td>\n",
       "      <td>-217548.8676</td>\n",
       "      <td>-85652.8512</td>\n",
       "      <td>-39064.3116</td>\n",
       "      <td>-404828.136</td>\n",
       "      <td>2.162586e+06</td>\n",
       "      <td>-1.569831e+07</td>\n",
       "    </tr>\n",
       "    <tr>\n",
       "      <th>2022-04-01</th>\n",
       "      <td>45536.0</td>\n",
       "      <td>17639916.0</td>\n",
       "      <td>-186687.1980</td>\n",
       "      <td>-37608.8052</td>\n",
       "      <td>-1.683552e+07</td>\n",
       "      <td>-53989.4196</td>\n",
       "      <td>-217548.8676</td>\n",
       "      <td>-85652.8512</td>\n",
       "      <td>-39064.3116</td>\n",
       "      <td>-404828.136</td>\n",
       "      <td>2.162586e+06</td>\n",
       "      <td>-1.569831e+07</td>\n",
       "    </tr>\n",
       "    <tr>\n",
       "      <th>2022-04-02</th>\n",
       "      <td>44888.0</td>\n",
       "      <td>17641640.0</td>\n",
       "      <td>-186687.1980</td>\n",
       "      <td>-37608.8052</td>\n",
       "      <td>-1.683552e+07</td>\n",
       "      <td>-53989.4196</td>\n",
       "      <td>-217548.8676</td>\n",
       "      <td>-85652.8512</td>\n",
       "      <td>-39064.3116</td>\n",
       "      <td>-404828.136</td>\n",
       "      <td>2.162586e+06</td>\n",
       "      <td>-1.569831e+07</td>\n",
       "    </tr>\n",
       "    <tr>\n",
       "      <th>2022-04-03</th>\n",
       "      <td>44031.0</td>\n",
       "      <td>17641640.0</td>\n",
       "      <td>-186687.1980</td>\n",
       "      <td>-37608.8052</td>\n",
       "      <td>-1.683552e+07</td>\n",
       "      <td>-53989.4196</td>\n",
       "      <td>-217548.8676</td>\n",
       "      <td>-85652.8512</td>\n",
       "      <td>-39064.3116</td>\n",
       "      <td>-404828.136</td>\n",
       "      <td>2.162586e+06</td>\n",
       "      <td>-1.569831e+07</td>\n",
       "    </tr>\n",
       "    <tr>\n",
       "      <th>2022-04-04</th>\n",
       "      <td>42545.0</td>\n",
       "      <td>17641640.0</td>\n",
       "      <td>-186687.1980</td>\n",
       "      <td>-37608.8052</td>\n",
       "      <td>-1.683552e+07</td>\n",
       "      <td>-53989.4196</td>\n",
       "      <td>-217548.8676</td>\n",
       "      <td>-85652.8512</td>\n",
       "      <td>-39064.3116</td>\n",
       "      <td>-404828.136</td>\n",
       "      <td>2.162586e+06</td>\n",
       "      <td>-1.569831e+07</td>\n",
       "    </tr>\n",
       "  </tbody>\n",
       "</table>\n",
       "<p>15893 rows × 12 columns</p>\n",
       "</div>"
      ],
      "text/plain": [
       "                SWE  Water Storage     AQ-WTotl  CO-WFrTotl      IR-WFrTo  \\\n",
       "Date                                                                        \n",
       "1978-09-30      0.0     29913012.0 -190720.6776 -27494.2692 -1.847236e+07   \n",
       "1978-10-01   2354.0     29894823.0 -190720.6776 -27494.2692 -1.847236e+07   \n",
       "1978-10-02      0.0     29800335.0 -190720.6776 -27494.2692 -1.847236e+07   \n",
       "1978-10-03      0.0     29826110.0 -190720.6776 -27494.2692 -1.847236e+07   \n",
       "1978-10-04      0.0     29754881.0 -190720.6776 -27494.2692 -1.847236e+07   \n",
       "...             ...            ...          ...         ...           ...   \n",
       "2022-03-31  45372.0     17685824.0 -186687.1980 -37608.8052 -1.683552e+07   \n",
       "2022-04-01  45536.0     17639916.0 -186687.1980 -37608.8052 -1.683552e+07   \n",
       "2022-04-02  44888.0     17641640.0 -186687.1980 -37608.8052 -1.683552e+07   \n",
       "2022-04-03  44031.0     17641640.0 -186687.1980 -37608.8052 -1.683552e+07   \n",
       "2022-04-04  42545.0     17641640.0 -186687.1980 -37608.8052 -1.683552e+07   \n",
       "\n",
       "              LS-WTotl     MI-WTotl    DO-WTotl    IN-WTotl    PT-CUTot  \\\n",
       "Date                                                                      \n",
       "1978-09-30 -56172.6792 -285698.6376 -82248.4464 -40704.8400 -290977.932   \n",
       "1978-10-01 -56172.6792 -285698.6376 -82248.4464 -40704.8400 -290977.932   \n",
       "1978-10-02 -56172.6792 -285698.6376 -82248.4464 -40704.8400 -290977.932   \n",
       "1978-10-03 -56172.6792 -285698.6376 -82248.4464 -40704.8400 -290977.932   \n",
       "1978-10-04 -56172.6792 -285698.6376 -82248.4464 -40704.8400 -290977.932   \n",
       "...                ...          ...         ...         ...         ...   \n",
       "2022-03-31 -53989.4196 -217548.8676 -85652.8512 -39064.3116 -404828.136   \n",
       "2022-04-01 -53989.4196 -217548.8676 -85652.8512 -39064.3116 -404828.136   \n",
       "2022-04-02 -53989.4196 -217548.8676 -85652.8512 -39064.3116 -404828.136   \n",
       "2022-04-03 -53989.4196 -217548.8676 -85652.8512 -39064.3116 -404828.136   \n",
       "2022-04-04 -53989.4196 -217548.8676 -85652.8512 -39064.3116 -404828.136   \n",
       "\n",
       "                WW-PuRet  Total Withdrawals  \n",
       "Date                                         \n",
       "1978-09-30  2.203045e+06      -1.724333e+07  \n",
       "1978-10-01  2.203045e+06      -1.724333e+07  \n",
       "1978-10-02  2.203045e+06      -1.724333e+07  \n",
       "1978-10-03  2.203045e+06      -1.724333e+07  \n",
       "1978-10-04  2.203045e+06      -1.724333e+07  \n",
       "...                  ...                ...  \n",
       "2022-03-31  2.162586e+06      -1.569831e+07  \n",
       "2022-04-01  2.162586e+06      -1.569831e+07  \n",
       "2022-04-02  2.162586e+06      -1.569831e+07  \n",
       "2022-04-03  2.162586e+06      -1.569831e+07  \n",
       "2022-04-04  2.162586e+06      -1.569831e+07  \n",
       "\n",
       "[15893 rows x 12 columns]"
      ]
     },
     "execution_count": 31,
     "metadata": {},
     "output_type": "execute_result"
    }
   ],
   "source": [
    "graphing"
   ]
  },
  {
   "cell_type": "code",
   "execution_count": 32,
   "id": "071d79ef",
   "metadata": {},
   "outputs": [],
   "source": [
    "graphing['Remaining Water'] = graphing['Water Storage'] + graphing['Total Withdrawals']"
   ]
  },
  {
   "cell_type": "code",
   "execution_count": 33,
   "id": "a6b93c43",
   "metadata": {},
   "outputs": [
    {
     "data": {
      "text/plain": [
       "Date\n",
       "1978-09-30    1.266968e+07\n",
       "1978-10-01    1.265149e+07\n",
       "1978-10-02    1.255700e+07\n",
       "1978-10-03    1.258278e+07\n",
       "1978-10-04    1.251155e+07\n",
       "                  ...     \n",
       "2022-03-31    1.987509e+06\n",
       "2022-04-01    1.941601e+06\n",
       "2022-04-02    1.943325e+06\n",
       "2022-04-03    1.943325e+06\n",
       "2022-04-04    1.943325e+06\n",
       "Freq: D, Name: Remaining Water, Length: 15893, dtype: float64"
      ]
     },
     "execution_count": 33,
     "metadata": {},
     "output_type": "execute_result"
    }
   ],
   "source": [
    "graphing['Remaining Water']"
   ]
  },
  {
   "cell_type": "code",
   "execution_count": 34,
   "id": "f40b7817",
   "metadata": {
    "scrolled": true
   },
   "outputs": [
    {
     "data": {
      "image/png": "[encoded data removed]",
      "text/plain": [
       "<Figure size 1200x500 with 1 Axes>"
      ]
     },
     "metadata": {
      "needs_background": "light"
     },
     "output_type": "display_data"
    }
   ],
   "source": [
    "# Plot\n",
    "plt.figure(figsize=(12,5), dpi=100)\n",
    "plt.plot(graphing['Remaining Water'], label='Remaining Water', color = 'c' )\n",
    "plt.plot(graphing['Water Storage'], label='Average Water Storage at Start of Period')\n",
    "#plt.plot(graphing['Total Withdrawals'], label='Withdrawals', color='r')\n",
    "plt.axhline(graphing['Water Storage'].max()*0.46, color='y', linestyle='--', label= 'Non-operable')\n",
    "plt.axhline(graphing['Water Storage'].max()*0.30, color='r', linestyle='--', label= 'Dead pool')\n",
    "plt.title('Water Storage vs Water Remaining after withdrawals')\n",
    "plt.legend(loc='upper left', fontsize=8)\n",
    "plt.show();"
   ]
  },
  {
   "cell_type": "markdown",
   "id": "c2255b71",
   "metadata": {},
   "source": [
    "### Creating a target columns\n",
    "\n",
    "Definitions for Trinary targets\n",
    " - 0 = Dead pool\n",
    " - 1 = Non-op for hydroelectric dams\n",
    " - 2 = Enough water for operation\n",
    " \n",
    "Definitions for Binary targets\n",
    " - 0 = Dead pool\n",
    " - 1 = Enough water for operation"
   ]
  },
  {
   "cell_type": "code",
   "execution_count": 35,
   "id": "6cf25167",
   "metadata": {},
   "outputs": [],
   "source": [
    "nonop = graphing['Water Storage'].max()*0.46\n",
    "dead = graphing['Water Storage'].max()*0.30\n",
    "\n",
    "graphing['target_binary'] = np.where(graphing['Remaining Water'] > dead, 1, 0)\n",
    "\n",
    "graphing['target_trinary'] = np.where(graphing['Remaining Water'] > nonop, 2, \n",
    "                                      np.where(graphing['Remaining Water'] > dead, 1, 0))"
   ]
  },
  {
   "cell_type": "code",
   "execution_count": 36,
   "id": "4deb0ab6",
   "metadata": {
    "scrolled": false
   },
   "outputs": [
    {
     "data": {
      "text/plain": [
       "1    6196\n",
       "0    5732\n",
       "2    3965\n",
       "Name: target_trinary, dtype: int64"
      ]
     },
     "execution_count": 36,
     "metadata": {},
     "output_type": "execute_result"
    }
   ],
   "source": [
    "graphing.target_trinary.value_counts()"
   ]
  },
  {
   "cell_type": "markdown",
   "id": "9790e081",
   "metadata": {},
   "source": [
    "# Modeling\n",
    "\n",
    "#### Metrics of interest\n",
    "\n",
    "We are interested in precision because we are discussing water resources"
   ]
  },
  {
   "cell_type": "markdown",
   "id": "edb17ddb",
   "metadata": {},
   "source": [
    "## Train-test split\n",
    "\n",
    "Performing train test split by time.\n",
    "\n",
    "Train will contain 80% of the oldest data.\n",
    "\n",
    "Test will contain 20% of the newest data.\n",
    "\n",
    "This ratio may change for future models if stuff gets weird."
   ]
  },
  {
   "cell_type": "code",
   "execution_count": 37,
   "id": "59b90874",
   "metadata": {},
   "outputs": [],
   "source": [
    "# We will use 20% of the most recent data as a test set\n",
    "cutoff = round(graphing.shape[0]*0.8)\n",
    "\n",
    "# splitting train and test\n",
    "train = graphing[:cutoff]\n",
    "test = graphing[cutoff:]\n",
    "\n",
    "# splitting into dataframes with predictors and dataframes with targets\n",
    "X_train = train.drop(columns=['Remaining Water', 'target_binary', 'target_trinary'])\n",
    "X_test = test.drop(columns=['Remaining Water', 'target_binary', 'target_trinary'])\n",
    "\n",
    "y_train = train[['target_binary', 'target_trinary']]\n",
    "y_test = test[['target_binary', 'target_trinary']]"
   ]
  },
  {
   "cell_type": "code",
   "execution_count": 38,
   "id": "1594bad4",
   "metadata": {},
   "outputs": [],
   "source": [
    "# scoring function\n",
    "def score(model, target, predictor):\n",
    "    mod_type = str(model).split('(')[0]\n",
    "    print(f'Our {mod_type} model has a precision of: \\\n",
    "      {round(precision_score(target, model.predict(predictor), average = \"weighted\", zero_division=0),3)*100}%')"
   ]
  },
  {
   "cell_type": "markdown",
   "id": "257f31d8",
   "metadata": {},
   "source": [
    "## Dummy Model"
   ]
  },
  {
   "cell_type": "code",
   "execution_count": 39,
   "id": "9303e393",
   "metadata": {},
   "outputs": [],
   "source": [
    "# Importing dummy model library\n",
    "from sklearn.dummy import DummyClassifier\n",
    "from sklearn.metrics import precision_score\n",
    "from sklearn.metrics import confusion_matrix\n",
    "from sklearn.metrics import ConfusionMatrixDisplay"
   ]
  },
  {
   "cell_type": "markdown",
   "id": "e02c5815",
   "metadata": {},
   "source": [
    "#### Binary target"
   ]
  },
  {
   "cell_type": "code",
   "execution_count": 40,
   "id": "842c2808",
   "metadata": {},
   "outputs": [
    {
     "data": {
      "text/plain": [
       "DummyClassifier(random_state=42, strategy='most_frequent')"
      ]
     },
     "execution_count": 40,
     "metadata": {},
     "output_type": "execute_result"
    }
   ],
   "source": [
    "# instantiate the dummy model\n",
    "b_model_0 = DummyClassifier(random_state=42, strategy='most_frequent')\n",
    "\n",
    "# Fit the model to the training set\n",
    "b_model_0.fit(X_train, y_train['target_binary'])"
   ]
  },
  {
   "cell_type": "code",
   "execution_count": 41,
   "id": "c7d94c71",
   "metadata": {
    "scrolled": true
   },
   "outputs": [
    {
     "name": "stdout",
     "output_type": "stream",
     "text": [
      "Our DummyClassifier model has a precision of:       1.3%\n"
     ]
    }
   ],
   "source": [
    "score(b_model_0, y_test['target_binary'], X_test)"
   ]
  },
  {
   "cell_type": "code",
   "execution_count": 42,
   "id": "fb08e222",
   "metadata": {},
   "outputs": [
    {
     "data": {
      "text/plain": [
       "<sklearn.metrics._plot.confusion_matrix.ConfusionMatrixDisplay at 0x20104fc0460>"
      ]
     },
     "execution_count": 42,
     "metadata": {},
     "output_type": "execute_result"
    },
    {
     "data": {
      "image/png": "[encoded data removed]",
      "text/plain": [
       "<Figure size 432x288 with 2 Axes>"
      ]
     },
     "metadata": {
      "needs_background": "light"
     },
     "output_type": "display_data"
    }
   ],
   "source": [
    "ConfusionMatrixDisplay(confusion_matrix(y_test['target_binary'],b_model_0.predict(X_test))).plot()"
   ]
  },
  {
   "cell_type": "markdown",
   "id": "4f365d1a",
   "metadata": {},
   "source": [
    "#### Trinary target"
   ]
  },
  {
   "cell_type": "code",
   "execution_count": 43,
   "id": "3605f548",
   "metadata": {},
   "outputs": [
    {
     "data": {
      "text/plain": [
       "DummyClassifier(random_state=42, strategy='most_frequent')"
      ]
     },
     "execution_count": 43,
     "metadata": {},
     "output_type": "execute_result"
    }
   ],
   "source": [
    "# instantiate the dummy model\n",
    "t_model_0 = DummyClassifier(random_state=42, strategy='most_frequent')\n",
    "\n",
    "# Fit the model to the training set\n",
    "t_model_0.fit(X_train, y_train['target_trinary'])"
   ]
  },
  {
   "cell_type": "code",
   "execution_count": 44,
   "id": "9adeaaa2",
   "metadata": {
    "scrolled": true
   },
   "outputs": [
    {
     "name": "stdout",
     "output_type": "stream",
     "text": [
      "Our DummyClassifier model has a precision of:       1.3%\n"
     ]
    }
   ],
   "source": [
    "score(t_model_0, y_test['target_trinary'], X_test)"
   ]
  },
  {
   "cell_type": "markdown",
   "id": "6ff9c5c8",
   "metadata": {},
   "source": [
    "### As a time series"
   ]
  },
  {
   "cell_type": "code",
   "execution_count": null,
   "id": "d528b102",
   "metadata": {},
   "outputs": [],
   "source": []
  },
  {
   "cell_type": "markdown",
   "id": "2f042619",
   "metadata": {},
   "source": [
    "## First Simple Model (FSM)"
   ]
  },
  {
   "cell_type": "markdown",
   "id": "bb90794b",
   "metadata": {},
   "source": [
    "We will do a simple logistic regression to model the status of water in the Colorado Basin"
   ]
  },
  {
   "cell_type": "code",
   "execution_count": 54,
   "id": "95a8e31b",
   "metadata": {},
   "outputs": [],
   "source": [
    "# importing relevant libraries\n",
    "from sklearn.linear_model import LogisticRegression\n",
    "from sklearn.preprocessing import StandardScaler"
   ]
  },
  {
   "cell_type": "markdown",
   "id": "f1ee7248",
   "metadata": {},
   "source": [
    "#### Scaling predictors"
   ]
  },
  {
   "cell_type": "code",
   "execution_count": 56,
   "id": "aa9550e1",
   "metadata": {},
   "outputs": [],
   "source": [
    "ss = StandardScaler()\n",
    "\n",
    "X_tr_scaled = ss.fit_transform(X_train)\n",
    "X_te_scaled = ss.transform(X_test)"
   ]
  },
  {
   "cell_type": "markdown",
   "id": "c99c84aa",
   "metadata": {},
   "source": [
    "#### Binary Target"
   ]
  },
  {
   "cell_type": "code",
   "execution_count": 66,
   "id": "6ac4f174",
   "metadata": {
    "scrolled": true
   },
   "outputs": [
    {
     "data": {
      "text/plain": [
       "LogisticRegression(random_state=42, solver='newton-cg')"
      ]
     },
     "execution_count": 66,
     "metadata": {},
     "output_type": "execute_result"
    }
   ],
   "source": [
    "# instantiate the logistic model\n",
    "b_model_1 = LogisticRegression(random_state=42, solver='newton-cg')\n",
    "\n",
    "# Fit the model to the training set\n",
    "b_model_1.fit(X_tr_scaled, y_train['target_binary'])"
   ]
  },
  {
   "cell_type": "code",
   "execution_count": 67,
   "id": "6a1d87e7",
   "metadata": {},
   "outputs": [
    {
     "name": "stdout",
     "output_type": "stream",
     "text": [
      "Our LogisticRegression model has a precision of:       99.7%\n"
     ]
    }
   ],
   "source": [
    "# Score the model\n",
    "score(b_model_1, y_test['target_binary'], X_te_scaled)"
   ]
  },
  {
   "cell_type": "code",
   "execution_count": 68,
   "id": "500a12de",
   "metadata": {},
   "outputs": [
    {
     "data": {
      "text/plain": [
       "<sklearn.metrics._plot.confusion_matrix.ConfusionMatrixDisplay at 0x20104fd6bb0>"
      ]
     },
     "execution_count": 68,
     "metadata": {},
     "output_type": "execute_result"
    },
    {
     "data": {
      "image/png": "[encoded data removed]",
      "text/plain": [
       "<Figure size 432x288 with 2 Axes>"
      ]
     },
     "metadata": {
      "needs_background": "light"
     },
     "output_type": "display_data"
    }
   ],
   "source": [
    "ConfusionMatrixDisplay(confusion_matrix(y_test['target_binary'],b_model_1.predict(X_te_scaled))).plot()"
   ]
  },
  {
   "cell_type": "markdown",
   "id": "69f86aa6",
   "metadata": {},
   "source": [
    "#### Trinary Target"
   ]
  },
  {
   "cell_type": "code",
   "execution_count": 69,
   "id": "57d3fe4d",
   "metadata": {},
   "outputs": [
    {
     "data": {
      "text/plain": [
       "LogisticRegression(multi_class='multinomial', solver='newton-cg')"
      ]
     },
     "execution_count": 69,
     "metadata": {},
     "output_type": "execute_result"
    }
   ],
   "source": [
    "# instantiate the logistic model\n",
    "t_model_1 = LogisticRegression(multi_class='multinomial',\n",
    "                               solver='newton-cg')\n",
    "\n",
    "# Fit the model to the training set\n",
    "t_model_1.fit(X_tr_scaled, y_train['target_trinary'])"
   ]
  },
  {
   "cell_type": "code",
   "execution_count": 70,
   "id": "53372800",
   "metadata": {},
   "outputs": [
    {
     "name": "stdout",
     "output_type": "stream",
     "text": [
      "Our LogisticRegression model has a precision of:       99.7%\n"
     ]
    }
   ],
   "source": [
    "# Score the model\n",
    "score(t_model_1, y_test['target_trinary'], X_te_scaled)"
   ]
  },
  {
   "cell_type": "code",
   "execution_count": 71,
   "id": "8e587247",
   "metadata": {},
   "outputs": [
    {
     "data": {
      "text/plain": [
       "<sklearn.metrics._plot.confusion_matrix.ConfusionMatrixDisplay at 0x20104fd65b0>"
      ]
     },
     "execution_count": 71,
     "metadata": {},
     "output_type": "execute_result"
    },
    {
     "data": {
      "image/png": "[encoded data removed]",
      "text/plain": [
       "<Figure size 432x288 with 2 Axes>"
      ]
     },
     "metadata": {
      "needs_background": "light"
     },
     "output_type": "display_data"
    }
   ],
   "source": [
    "ConfusionMatrixDisplay(confusion_matrix(y_test['target_trinary'],t_model_1.predict(X_te_scaled))).plot()"
   ]
  },
  {
   "cell_type": "code",
   "execution_count": 72,
   "id": "317e0368",
   "metadata": {},
   "outputs": [
    {
     "data": {
      "text/plain": [
       "1    5839\n",
       "2    3965\n",
       "0    2910\n",
       "Name: target_trinary, dtype: int64"
      ]
     },
     "execution_count": 72,
     "metadata": {},
     "output_type": "execute_result"
    }
   ],
   "source": [
    "y_train['target_trinary'].value_counts()"
   ]
  },
  {
   "cell_type": "code",
   "execution_count": 74,
   "id": "919d3bbd",
   "metadata": {},
   "outputs": [
    {
     "data": {
      "text/plain": [
       "array([-5.07651317,  9.00879465, -3.93228148])"
      ]
     },
     "execution_count": 74,
     "metadata": {},
     "output_type": "execute_result"
    }
   ],
   "source": [
    "t_model_1.intercept_"
   ]
  },
  {
   "cell_type": "code",
   "execution_count": 76,
   "id": "7931253a",
   "metadata": {},
   "outputs": [
    {
     "data": {
      "text/plain": [
       "array([[2822,    0],\n",
       "       [  11,  346]], dtype=int64)"
      ]
     },
     "execution_count": 76,
     "metadata": {},
     "output_type": "execute_result"
    }
   ],
   "source": [
    "confusion_matrix(y_test['target_trinary'], t_model_1.predict(X_te_scaled))"
   ]
  },
  {
   "cell_type": "code",
   "execution_count": 78,
   "id": "e3c9f101",
   "metadata": {},
   "outputs": [
    {
     "data": {
      "text/plain": [
       "0    2822\n",
       "1     357\n",
       "Name: target_trinary, dtype: int64"
      ]
     },
     "execution_count": 78,
     "metadata": {},
     "output_type": "execute_result"
    }
   ],
   "source": []
  },
  {
   "cell_type": "code",
   "execution_count": null,
   "id": "f6411eb7",
   "metadata": {},
   "outputs": [],
   "source": []
  }
 ],
 "metadata": {
  "kernelspec": {
   "display_name": "Python (learn-env)",
   "language": "python",
   "name": "learn-env"
  },
  "language_info": {
   "codemirror_mode": {
    "name": "ipython",
    "version": 3
   },
   "file_extension": ".py",
   "mimetype": "text/x-python",
   "name": "python",
   "nbconvert_exporter": "python",
   "pygments_lexer": "ipython3",
   "version": "3.9.7"
  }
 },
 "nbformat": 4,
 "nbformat_minor": 5
}
