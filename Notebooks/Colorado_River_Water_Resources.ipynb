{
 "cells": [
  {
   "cell_type": "markdown",
   "id": "3d5ddb47",
   "metadata": {
    "id": "3d5ddb47",
    "pycharm": {
     "name": "#%% md\n"
    }
   },
   "source": [
    "# Water Resources"
   ]
  },
  {
   "cell_type": "markdown",
   "source": [
    "### Table of Contents\n",
    "1. [Data](#data)\n",
    "2. [Modeling](#modeling)\n",
    "3. [Conclusions](#conclusion-and-future-considerations)\n",
    "4. [Visualizations](#finalizing-visualizations)"
   ],
   "metadata": {
    "collapsed": false,
    "pycharm": {
     "name": "#%% md\n"
    }
   }
  },
  {
   "cell_type": "markdown",
   "source": [
    "# Data"
   ],
   "metadata": {
    "collapsed": false,
    "pycharm": {
     "name": "#%% md\n"
    }
   }
  },
  {
   "cell_type": "markdown",
   "source": [
    "**Metadata and Data Considerations**\n",
    "\n",
    "Data is from the National Water and Climate Center (NWCC)\n",
    "\n",
    "Data is csv format by state. For `AZ`, `CA`, CO, NM, NV, UT, WY\n",
    "Data needs to be cleaned such that it only includes data for the Colorado River Basin.\n",
    "Data contains many metrics. PCA may be necessary to reduce dimensionality of the dataset.\n",
    "\n",
    "Default format = Date | Station | Metric 1 | Metric 2 | ... | Metric n\n",
    "\n",
    "Data split into multiple files per state as a result of the data acquisition process. Master dataset should include all data for the Colorado River Basin.<br>\n",
    "File schema as follows:\n",
    "\n",
    "Snow_\\*.csv\n",
    "- Station Name\n",
    "- Station ID\n",
    "- Snow Water Equivalent\n",
    "- Elevation\n",
    "- Latitude\n",
    "- Longitude\n",
    "\n",
    "Data may differ significantly over the period of record because of the effects of climate change in the region. We will attempt to use all period of record, but failing that, we will truncate the data. Data earlier than 2010 is likely not needed for predictions in following years and is likely too enstranged from current weather regimes to be useful and may instead present more error.\n",
    "\n",
    "Target parameter is `Tot_water`, which is an engineered binary or trinary parameter that will use predicted the amount of water available to the water system after withdrawals. In the case of the binary target a `0` represents water below operating depth and a `1` represents water above operating depth. In the case of the trinary target a `0` represents a number below the dead-pool threshhold, a `1` represents non-operable water with flow-through potential, and a `2` represents water at operable depths.\n",
    "\n",
    "According to research, targeting SWE directly is more effective than targeting snow depth. We will attempt to include meteorological data as well as soil temperature measurements and elevation.\n",
    "\n",
    "Because we are comparing with water withdrawals and water stores, reservoir data is required to compare snowpack data to determine whether water is sufficient. Water data is taken from NWCC's RESERVOIR dataset that includes reservoir stages and storage volumes.\n",
    "\n",
    "Water_\\*.csv\n",
    "- Station Name\n",
    "- Station ID\n",
    "- Reservoir Storage Volume (dam^3) Start of Day Values\n",
    "- Elevation\n",
    "- Latitude\n",
    "- Longitude"
   ],
   "metadata": {
    "collapsed": false,
    "pycharm": {
     "name": "#%% md\n"
    }
   }
  },
  {
   "cell_type": "markdown",
   "id": "86c836ce",
   "metadata": {
    "id": "86c836ce",
    "pycharm": {
     "name": "#%% md\n"
    }
   },
   "source": [
    "#### Notes and Caveates\n",
    "\n",
    "Snow and water data was clipped geographically using a Colorado River Basin shapefile and ESRI ArcGIS Pro on WGS 1984 Mercator Auxiliary Sphere projection. \n",
    "\n",
    "CA Water and Snow data lies outside the basin boundary and will be excluded from the analysis. We will do some more research into the water resource draw CA puts on the basin system to include at the end.\n",
    "\n",
    "Some NV snow data lies within the basin boundary. NV Water reservoirs lie outside the basin boundary. Water resource draw by NV will have to be assessed similarly to CA."
   ]
  },
  {
   "cell_type": "markdown",
   "source": [
    "### System setup and Information"
   ],
   "metadata": {
    "id": "0--QBqWo92k0",
    "pycharm": {
     "name": "#%% md\n"
    }
   },
   "id": "0--QBqWo92k0"
  },
  {
   "cell_type": "code",
   "execution_count": 2,
   "id": "715354b5",
   "metadata": {
    "id": "715354b5",
    "pycharm": {
     "name": "#%%\n"
    }
   },
   "outputs": [],
   "source": [
    "# Import general libraries\n",
    "import pandas as pd\n",
    "import matplotlib.pyplot as plt\n",
    "import matplotlib\n",
    "import numpy as np\n",
    "from sklearn.pipeline import Pipeline"
   ]
  },
  {
   "cell_type": "markdown",
   "source": [
    "### Import Data from File, Explore and Format\n",
    "\n",
    "Here we will Import and Format the data from file and perform some cursory analysis of the original data."
   ],
   "metadata": {
    "id": "P9_BjOT6-FYy",
    "pycharm": {
     "name": "#%% md\n"
    }
   },
   "id": "P9_BjOT6-FYy"
  },
  {
   "cell_type": "code",
   "execution_count": 3,
   "outputs": [],
   "source": [
    "# Importing snow files into dataframes\n",
    "snow_states = ['AZ', 'CO', 'NM', 'NV', 'UT', 'WY']\n",
    "raw_snow = {}\n",
    "\n",
    "for i in snow_states:\n",
    "    raw_snow[i] = pd.read_csv(f'../00_Source_Data/Snowpack/{i}/Snow_{i}_Clip.csv')\n",
    "\n",
    "\n",
    "# Importing water storage files into dataframes\n",
    "water_states = ['AZ', 'CO', 'NM', 'UT', 'WY']\n",
    "raw_water = {}\n",
    "\n",
    "for i in water_states:\n",
    "    raw_water[i] = pd.read_csv(f'../00_Source_Data/Snowpack/{i}/Water_{i}_Clip.csv')"
   ],
   "metadata": {
    "pycharm": {
     "name": "#%%\n"
    },
    "id": "ZAoLg9bPd9P0"
   },
   "id": "ZAoLg9bPd9P0"
  },
  {
   "cell_type": "code",
   "execution_count": 4,
   "id": "a04ec9fc",
   "metadata": {
    "colab": {
     "base_uri": "https://localhost:8080/",
     "height": 372
    },
    "id": "a04ec9fc",
    "outputId": "562e0498-3b1e-4fd6-9a5f-e13e3be27dc9",
    "pycharm": {
     "name": "#%%\n"
    }
   },
   "outputs": [
    {
     "output_type": "execute_result",
     "data": {
      "text/plain": [
       "         Date Station Name  Station Id  \\\n",
       "0  1978-09-30  Baker Butte         308   \n",
       "1  1978-10-01  Baker Butte         308   \n",
       "2  1978-10-02  Baker Butte         308   \n",
       "3  1978-10-03  Baker Butte         308   \n",
       "4  1978-10-04  Baker Butte         308   \n",
       "\n",
       "   Snow Water Equivalent (mm) Start of Day Values  \\\n",
       "0                                             NaN   \n",
       "1                                             NaN   \n",
       "2                                             NaN   \n",
       "3                                             NaN   \n",
       "4                                             NaN   \n",
       "\n",
       "   Snow Depth (cm) Start of Day Values  \\\n",
       "0                                  NaN   \n",
       "1                                  NaN   \n",
       "2                                  NaN   \n",
       "3                                  NaN   \n",
       "4                                  NaN   \n",
       "\n",
       "   Snow Density (pct) Start of Day Values  \\\n",
       "0                                     NaN   \n",
       "1                                     NaN   \n",
       "2                                     NaN   \n",
       "3                                     NaN   \n",
       "4                                     NaN   \n",
       "\n",
       "   Precipitation Accumulation (mm) Start of Day Values  \\\n",
       "0                                                NaN     \n",
       "1                                                NaN     \n",
       "2                                                NaN     \n",
       "3                                                NaN     \n",
       "4                                                NaN     \n",
       "\n",
       "   Snow Rain Ratio (unitless)  Air Temperature Average (degC)  \\\n",
       "0                         NaN                             0.0   \n",
       "1                         NaN                             0.0   \n",
       "2                         NaN                             0.0   \n",
       "3                         NaN                             0.0   \n",
       "4                         NaN                             0.0   \n",
       "\n",
       "   Wind Speed Average (km/hr)  Elevation (ft)  Latitude  Longitude  \n",
       "0                         NaN            7300   34.4566 -111.40643  \n",
       "1                         NaN            7300   34.4566 -111.40643  \n",
       "2                         NaN            7300   34.4566 -111.40643  \n",
       "3                         NaN            7300   34.4566 -111.40643  \n",
       "4                         NaN            7300   34.4566 -111.40643  "
      ],
      "text/html": [
       "\n",
       "  <div id=\"df-e4c01354-036b-49d2-ac5d-e150a898d567\">\n",
       "    <div class=\"colab-df-container\">\n",
       "      <div>\n",
       "<style scoped>\n",
       "    .dataframe tbody tr th:only-of-type {\n",
       "        vertical-align: middle;\n",
       "    }\n",
       "\n",
       "    .dataframe tbody tr th {\n",
       "        vertical-align: top;\n",
       "    }\n",
       "\n",
       "    .dataframe thead th {\n",
       "        text-align: right;\n",
       "    }\n",
       "</style>\n",
       "<table border=\"1\" class=\"dataframe\">\n",
       "  <thead>\n",
       "    <tr style=\"text-align: right;\">\n",
       "      <th></th>\n",
       "      <th>Date</th>\n",
       "      <th>Station Name</th>\n",
       "      <th>Station Id</th>\n",
       "      <th>Snow Water Equivalent (mm) Start of Day Values</th>\n",
       "      <th>Snow Depth (cm) Start of Day Values</th>\n",
       "      <th>Snow Density (pct) Start of Day Values</th>\n",
       "      <th>Precipitation Accumulation (mm) Start of Day Values</th>\n",
       "      <th>Snow Rain Ratio (unitless)</th>\n",
       "      <th>Air Temperature Average (degC)</th>\n",
       "      <th>Wind Speed Average (km/hr)</th>\n",
       "      <th>Elevation (ft)</th>\n",
       "      <th>Latitude</th>\n",
       "      <th>Longitude</th>\n",
       "    </tr>\n",
       "  </thead>\n",
       "  <tbody>\n",
       "    <tr>\n",
       "      <th>0</th>\n",
       "      <td>1978-09-30</td>\n",
       "      <td>Baker Butte</td>\n",
       "      <td>308</td>\n",
       "      <td>NaN</td>\n",
       "      <td>NaN</td>\n",
       "      <td>NaN</td>\n",
       "      <td>NaN</td>\n",
       "      <td>NaN</td>\n",
       "      <td>0.0</td>\n",
       "      <td>NaN</td>\n",
       "      <td>7300</td>\n",
       "      <td>34.4566</td>\n",
       "      <td>-111.40643</td>\n",
       "    </tr>\n",
       "    <tr>\n",
       "      <th>1</th>\n",
       "      <td>1978-10-01</td>\n",
       "      <td>Baker Butte</td>\n",
       "      <td>308</td>\n",
       "      <td>NaN</td>\n",
       "      <td>NaN</td>\n",
       "      <td>NaN</td>\n",
       "      <td>NaN</td>\n",
       "      <td>NaN</td>\n",
       "      <td>0.0</td>\n",
       "      <td>NaN</td>\n",
       "      <td>7300</td>\n",
       "      <td>34.4566</td>\n",
       "      <td>-111.40643</td>\n",
       "    </tr>\n",
       "    <tr>\n",
       "      <th>2</th>\n",
       "      <td>1978-10-02</td>\n",
       "      <td>Baker Butte</td>\n",
       "      <td>308</td>\n",
       "      <td>NaN</td>\n",
       "      <td>NaN</td>\n",
       "      <td>NaN</td>\n",
       "      <td>NaN</td>\n",
       "      <td>NaN</td>\n",
       "      <td>0.0</td>\n",
       "      <td>NaN</td>\n",
       "      <td>7300</td>\n",
       "      <td>34.4566</td>\n",
       "      <td>-111.40643</td>\n",
       "    </tr>\n",
       "    <tr>\n",
       "      <th>3</th>\n",
       "      <td>1978-10-03</td>\n",
       "      <td>Baker Butte</td>\n",
       "      <td>308</td>\n",
       "      <td>NaN</td>\n",
       "      <td>NaN</td>\n",
       "      <td>NaN</td>\n",
       "      <td>NaN</td>\n",
       "      <td>NaN</td>\n",
       "      <td>0.0</td>\n",
       "      <td>NaN</td>\n",
       "      <td>7300</td>\n",
       "      <td>34.4566</td>\n",
       "      <td>-111.40643</td>\n",
       "    </tr>\n",
       "    <tr>\n",
       "      <th>4</th>\n",
       "      <td>1978-10-04</td>\n",
       "      <td>Baker Butte</td>\n",
       "      <td>308</td>\n",
       "      <td>NaN</td>\n",
       "      <td>NaN</td>\n",
       "      <td>NaN</td>\n",
       "      <td>NaN</td>\n",
       "      <td>NaN</td>\n",
       "      <td>0.0</td>\n",
       "      <td>NaN</td>\n",
       "      <td>7300</td>\n",
       "      <td>34.4566</td>\n",
       "      <td>-111.40643</td>\n",
       "    </tr>\n",
       "  </tbody>\n",
       "</table>\n",
       "</div>\n",
       "      <button class=\"colab-df-convert\" onclick=\"convertToInteractive('df-e4c01354-036b-49d2-ac5d-e150a898d567')\"\n",
       "              title=\"Convert this dataframe to an interactive table.\"\n",
       "              style=\"display:none;\">\n",
       "        \n",
       "  <svg xmlns=\"http://www.w3.org/2000/svg\" height=\"24px\"viewBox=\"0 0 24 24\"\n",
       "       width=\"24px\">\n",
       "    <path d=\"M0 0h24v24H0V0z\" fill=\"none\"/>\n",
       "    <path d=\"M18.56 5.44l.94 2.06.94-2.06 2.06-.94-2.06-.94-.94-2.06-.94 2.06-2.06.94zm-11 1L8.5 8.5l.94-2.06 2.06-.94-2.06-.94L8.5 2.5l-.94 2.06-2.06.94zm10 10l.94 2.06.94-2.06 2.06-.94-2.06-.94-.94-2.06-.94 2.06-2.06.94z\"/><path d=\"M17.41 7.96l-1.37-1.37c-.4-.4-.92-.59-1.43-.59-.52 0-1.04.2-1.43.59L10.3 9.45l-7.72 7.72c-.78.78-.78 2.05 0 2.83L4 21.41c.39.39.9.59 1.41.59.51 0 1.02-.2 1.41-.59l7.78-7.78 2.81-2.81c.8-.78.8-2.07 0-2.86zM5.41 20L4 18.59l7.72-7.72 1.47 1.35L5.41 20z\"/>\n",
       "  </svg>\n",
       "      </button>\n",
       "      \n",
       "  <style>\n",
       "    .colab-df-container {\n",
       "      display:flex;\n",
       "      flex-wrap:wrap;\n",
       "      gap: 12px;\n",
       "    }\n",
       "\n",
       "    .colab-df-convert {\n",
       "      background-color: #E8F0FE;\n",
       "      border: none;\n",
       "      border-radius: 50%;\n",
       "      cursor: pointer;\n",
       "      display: none;\n",
       "      fill: #1967D2;\n",
       "      height: 32px;\n",
       "      padding: 0 0 0 0;\n",
       "      width: 32px;\n",
       "    }\n",
       "\n",
       "    .colab-df-convert:hover {\n",
       "      background-color: #E2EBFA;\n",
       "      box-shadow: 0px 1px 2px rgba(60, 64, 67, 0.3), 0px 1px 3px 1px rgba(60, 64, 67, 0.15);\n",
       "      fill: #174EA6;\n",
       "    }\n",
       "\n",
       "    [theme=dark] .colab-df-convert {\n",
       "      background-color: #3B4455;\n",
       "      fill: #D2E3FC;\n",
       "    }\n",
       "\n",
       "    [theme=dark] .colab-df-convert:hover {\n",
       "      background-color: #434B5C;\n",
       "      box-shadow: 0px 1px 3px 1px rgba(0, 0, 0, 0.15);\n",
       "      filter: drop-shadow(0px 1px 2px rgba(0, 0, 0, 0.3));\n",
       "      fill: #FFFFFF;\n",
       "    }\n",
       "  </style>\n",
       "\n",
       "      <script>\n",
       "        const buttonEl =\n",
       "          document.querySelector('#df-e4c01354-036b-49d2-ac5d-e150a898d567 button.colab-df-convert');\n",
       "        buttonEl.style.display =\n",
       "          google.colab.kernel.accessAllowed ? 'block' : 'none';\n",
       "\n",
       "        async function convertToInteractive(key) {\n",
       "          const element = document.querySelector('#df-e4c01354-036b-49d2-ac5d-e150a898d567');\n",
       "          const dataTable =\n",
       "            await google.colab.kernel.invokeFunction('convertToInteractive',\n",
       "                                                     [key], {});\n",
       "          if (!dataTable) return;\n",
       "\n",
       "          const docLinkHtml = 'Like what you see? Visit the ' +\n",
       "            '<a target=\"_blank\" href=https://colab.research.google.com/notebooks/data_table.ipynb>data table notebook</a>'\n",
       "            + ' to learn more about interactive tables.';\n",
       "          element.innerHTML = '';\n",
       "          dataTable['output_type'] = 'display_data';\n",
       "          await google.colab.output.renderOutput(dataTable, element);\n",
       "          const docLink = document.createElement('div');\n",
       "          docLink.innerHTML = docLinkHtml;\n",
       "          element.appendChild(docLink);\n",
       "        }\n",
       "      </script>\n",
       "    </div>\n",
       "  </div>\n",
       "  "
      ]
     },
     "metadata": {},
     "execution_count": 4
    }
   ],
   "source": [
    "raw_snow['AZ'].head()"
   ]
  },
  {
   "cell_type": "code",
   "execution_count": 5,
   "id": "a0215a88",
   "metadata": {
    "id": "a0215a88",
    "pycharm": {
     "name": "#%%\n"
    }
   },
   "outputs": [],
   "source": [
    "# Standardizing column names for snow data.\n",
    "column_names = {'Station_Name' : 'Station Name',\n",
    "               'Station_Id' : 'Station ID',\n",
    "               'Snow_Water_Equivalent__mm__Start_of_Day_Values' : 'SWE',\n",
    "               'Snow_Depth__cm__Start_of_Day_Values' : 'Snow Depth',\n",
    "               'Elevation__ft_' : 'Elevation',\n",
    "               'Station Id' : 'Station ID',\n",
    "               'Snow Water Equivalent (mm) Start of Day Values' : 'SWE',\n",
    "               'Snow Depth (cm) Start of Day Values' : 'Snow Depth',\n",
    "               'Snow Density (pct) Start of Day Values' : 'Snow Density',\n",
    "               'Precipitation Accumulation (mm) Start of Day Values' : 'Precip Accumulation',\n",
    "               'Snow Rain Ratio (unitless)' : 'Snow / Rain',\n",
    "               'Air Temperature Average (degC)' : 'Average Air Temperature',\n",
    "               'Wind Speed Average (km/hr)' : 'Average Wind Speed',\n",
    "               'Elevation (ft)' : 'Elevation'}\n",
    "\n",
    "for i in snow_states:\n",
    "    raw_snow[i] = raw_snow[i].rename(columns=column_names)\n",
    "    \n",
    "# Standardizing column names for water storage data.\n",
    "wa_column_names = {'Station_Name' : 'Station Name',\n",
    "                   'Station_Id' : 'Station ID',\n",
    "                   'Station Id' : 'Station ID',\n",
    "                   'Reservoir Storage Volume (dam^3) Start of Day Values' : 'Water Storage',\n",
    "                   'Reservoir_Storage_Volume__dam_3__Start_of_Day_Values' : 'Water Storage',\n",
    "                   'Elevation (ft)' : 'Elevation',\n",
    "                   'Elevation__ft_' : 'Elevation'}\n",
    "\n",
    "for i in water_states:\n",
    "    raw_water[i] = raw_water[i].rename(columns=wa_column_names)"
   ]
  },
  {
   "cell_type": "code",
   "execution_count": 6,
   "id": "cba0d534",
   "metadata": {
    "id": "cba0d534",
    "pycharm": {
     "name": "#%%\n"
    }
   },
   "outputs": [],
   "source": [
    "# Combine the dataframes into one dataframe for snow data.\n",
    "snow_data = pd.concat(raw_snow, axis=0)\n",
    "water_data = pd.concat(raw_water, axis=0)"
   ]
  },
  {
   "cell_type": "code",
   "execution_count": 7,
   "id": "c5ec6a6b",
   "metadata": {
    "colab": {
     "base_uri": "https://localhost:8080/",
     "height": 424
    },
    "id": "c5ec6a6b",
    "outputId": "eee9fc0d-2512-45c7-8fdd-dfd8b8d51ca2",
    "pycharm": {
     "name": "#%%\n"
    }
   },
   "outputs": [
    {
     "output_type": "execute_result",
     "data": {
      "text/plain": [
       "                Date           Station Name  Station ID  Water Storage  \\\n",
       "AZ 0      1964-12-21   Cragin Dam Reservoir   9398300.0            0.0   \n",
       "   1      1964-12-22   Cragin Dam Reservoir   9398300.0            NaN   \n",
       "   2      1964-12-23   Cragin Dam Reservoir   9398300.0            NaN   \n",
       "   3      1964-12-24   Cragin Dam Reservoir   9398300.0            NaN   \n",
       "   4      1964-12-25   Cragin Dam Reservoir   9398300.0            NaN   \n",
       "...              ...                    ...         ...            ...   \n",
       "WY 59795  2022-03-29  Meeks Cabin Reservoir   9218400.0        15393.0   \n",
       "   59796  2022-03-30  Meeks Cabin Reservoir   9218400.0        15470.0   \n",
       "   59797  2022-03-31  Meeks Cabin Reservoir   9218400.0        15556.0   \n",
       "   59798  2022-04-01  Meeks Cabin Reservoir   9218400.0        15642.0   \n",
       "   59799  2022-04-02  Meeks Cabin Reservoir   9218400.0        15706.0   \n",
       "\n",
       "          Elevation  Latitude  Longitude  OID_  \n",
       "AZ 0         6620.0  34.55528 -111.18333   NaN  \n",
       "   1         6620.0  34.55528 -111.18333   NaN  \n",
       "   2         6620.0  34.55528 -111.18333   NaN  \n",
       "   3         6620.0  34.55528 -111.18333   NaN  \n",
       "   4         6620.0  34.55528 -111.18333   NaN  \n",
       "...             ...       ...        ...   ...  \n",
       "WY 59795     8673.0  41.02583 -110.58067   NaN  \n",
       "   59796     8673.0  41.02583 -110.58067   NaN  \n",
       "   59797     8673.0  41.02583 -110.58067   NaN  \n",
       "   59798     8673.0  41.02583 -110.58067   NaN  \n",
       "   59799     8673.0  41.02583 -110.58067   NaN  \n",
       "\n",
       "[1010474 rows x 8 columns]"
      ],
      "text/html": [
       "\n",
       "  <div id=\"df-f8bbf329-81bf-4d69-a88d-437a9909f3cd\">\n",
       "    <div class=\"colab-df-container\">\n",
       "      <div>\n",
       "<style scoped>\n",
       "    .dataframe tbody tr th:only-of-type {\n",
       "        vertical-align: middle;\n",
       "    }\n",
       "\n",
       "    .dataframe tbody tr th {\n",
       "        vertical-align: top;\n",
       "    }\n",
       "\n",
       "    .dataframe thead th {\n",
       "        text-align: right;\n",
       "    }\n",
       "</style>\n",
       "<table border=\"1\" class=\"dataframe\">\n",
       "  <thead>\n",
       "    <tr style=\"text-align: right;\">\n",
       "      <th></th>\n",
       "      <th></th>\n",
       "      <th>Date</th>\n",
       "      <th>Station Name</th>\n",
       "      <th>Station ID</th>\n",
       "      <th>Water Storage</th>\n",
       "      <th>Elevation</th>\n",
       "      <th>Latitude</th>\n",
       "      <th>Longitude</th>\n",
       "      <th>OID_</th>\n",
       "    </tr>\n",
       "  </thead>\n",
       "  <tbody>\n",
       "    <tr>\n",
       "      <th rowspan=\"5\" valign=\"top\">AZ</th>\n",
       "      <th>0</th>\n",
       "      <td>1964-12-21</td>\n",
       "      <td>Cragin Dam Reservoir</td>\n",
       "      <td>9398300.0</td>\n",
       "      <td>0.0</td>\n",
       "      <td>6620.0</td>\n",
       "      <td>34.55528</td>\n",
       "      <td>-111.18333</td>\n",
       "      <td>NaN</td>\n",
       "    </tr>\n",
       "    <tr>\n",
       "      <th>1</th>\n",
       "      <td>1964-12-22</td>\n",
       "      <td>Cragin Dam Reservoir</td>\n",
       "      <td>9398300.0</td>\n",
       "      <td>NaN</td>\n",
       "      <td>6620.0</td>\n",
       "      <td>34.55528</td>\n",
       "      <td>-111.18333</td>\n",
       "      <td>NaN</td>\n",
       "    </tr>\n",
       "    <tr>\n",
       "      <th>2</th>\n",
       "      <td>1964-12-23</td>\n",
       "      <td>Cragin Dam Reservoir</td>\n",
       "      <td>9398300.0</td>\n",
       "      <td>NaN</td>\n",
       "      <td>6620.0</td>\n",
       "      <td>34.55528</td>\n",
       "      <td>-111.18333</td>\n",
       "      <td>NaN</td>\n",
       "    </tr>\n",
       "    <tr>\n",
       "      <th>3</th>\n",
       "      <td>1964-12-24</td>\n",
       "      <td>Cragin Dam Reservoir</td>\n",
       "      <td>9398300.0</td>\n",
       "      <td>NaN</td>\n",
       "      <td>6620.0</td>\n",
       "      <td>34.55528</td>\n",
       "      <td>-111.18333</td>\n",
       "      <td>NaN</td>\n",
       "    </tr>\n",
       "    <tr>\n",
       "      <th>4</th>\n",
       "      <td>1964-12-25</td>\n",
       "      <td>Cragin Dam Reservoir</td>\n",
       "      <td>9398300.0</td>\n",
       "      <td>NaN</td>\n",
       "      <td>6620.0</td>\n",
       "      <td>34.55528</td>\n",
       "      <td>-111.18333</td>\n",
       "      <td>NaN</td>\n",
       "    </tr>\n",
       "    <tr>\n",
       "      <th>...</th>\n",
       "      <th>...</th>\n",
       "      <td>...</td>\n",
       "      <td>...</td>\n",
       "      <td>...</td>\n",
       "      <td>...</td>\n",
       "      <td>...</td>\n",
       "      <td>...</td>\n",
       "      <td>...</td>\n",
       "      <td>...</td>\n",
       "    </tr>\n",
       "    <tr>\n",
       "      <th rowspan=\"5\" valign=\"top\">WY</th>\n",
       "      <th>59795</th>\n",
       "      <td>2022-03-29</td>\n",
       "      <td>Meeks Cabin Reservoir</td>\n",
       "      <td>9218400.0</td>\n",
       "      <td>15393.0</td>\n",
       "      <td>8673.0</td>\n",
       "      <td>41.02583</td>\n",
       "      <td>-110.58067</td>\n",
       "      <td>NaN</td>\n",
       "    </tr>\n",
       "    <tr>\n",
       "      <th>59796</th>\n",
       "      <td>2022-03-30</td>\n",
       "      <td>Meeks Cabin Reservoir</td>\n",
       "      <td>9218400.0</td>\n",
       "      <td>15470.0</td>\n",
       "      <td>8673.0</td>\n",
       "      <td>41.02583</td>\n",
       "      <td>-110.58067</td>\n",
       "      <td>NaN</td>\n",
       "    </tr>\n",
       "    <tr>\n",
       "      <th>59797</th>\n",
       "      <td>2022-03-31</td>\n",
       "      <td>Meeks Cabin Reservoir</td>\n",
       "      <td>9218400.0</td>\n",
       "      <td>15556.0</td>\n",
       "      <td>8673.0</td>\n",
       "      <td>41.02583</td>\n",
       "      <td>-110.58067</td>\n",
       "      <td>NaN</td>\n",
       "    </tr>\n",
       "    <tr>\n",
       "      <th>59798</th>\n",
       "      <td>2022-04-01</td>\n",
       "      <td>Meeks Cabin Reservoir</td>\n",
       "      <td>9218400.0</td>\n",
       "      <td>15642.0</td>\n",
       "      <td>8673.0</td>\n",
       "      <td>41.02583</td>\n",
       "      <td>-110.58067</td>\n",
       "      <td>NaN</td>\n",
       "    </tr>\n",
       "    <tr>\n",
       "      <th>59799</th>\n",
       "      <td>2022-04-02</td>\n",
       "      <td>Meeks Cabin Reservoir</td>\n",
       "      <td>9218400.0</td>\n",
       "      <td>15706.0</td>\n",
       "      <td>8673.0</td>\n",
       "      <td>41.02583</td>\n",
       "      <td>-110.58067</td>\n",
       "      <td>NaN</td>\n",
       "    </tr>\n",
       "  </tbody>\n",
       "</table>\n",
       "<p>1010474 rows × 8 columns</p>\n",
       "</div>\n",
       "      <button class=\"colab-df-convert\" onclick=\"convertToInteractive('df-f8bbf329-81bf-4d69-a88d-437a9909f3cd')\"\n",
       "              title=\"Convert this dataframe to an interactive table.\"\n",
       "              style=\"display:none;\">\n",
       "        \n",
       "  <svg xmlns=\"http://www.w3.org/2000/svg\" height=\"24px\"viewBox=\"0 0 24 24\"\n",
       "       width=\"24px\">\n",
       "    <path d=\"M0 0h24v24H0V0z\" fill=\"none\"/>\n",
       "    <path d=\"M18.56 5.44l.94 2.06.94-2.06 2.06-.94-2.06-.94-.94-2.06-.94 2.06-2.06.94zm-11 1L8.5 8.5l.94-2.06 2.06-.94-2.06-.94L8.5 2.5l-.94 2.06-2.06.94zm10 10l.94 2.06.94-2.06 2.06-.94-2.06-.94-.94-2.06-.94 2.06-2.06.94z\"/><path d=\"M17.41 7.96l-1.37-1.37c-.4-.4-.92-.59-1.43-.59-.52 0-1.04.2-1.43.59L10.3 9.45l-7.72 7.72c-.78.78-.78 2.05 0 2.83L4 21.41c.39.39.9.59 1.41.59.51 0 1.02-.2 1.41-.59l7.78-7.78 2.81-2.81c.8-.78.8-2.07 0-2.86zM5.41 20L4 18.59l7.72-7.72 1.47 1.35L5.41 20z\"/>\n",
       "  </svg>\n",
       "      </button>\n",
       "      \n",
       "  <style>\n",
       "    .colab-df-container {\n",
       "      display:flex;\n",
       "      flex-wrap:wrap;\n",
       "      gap: 12px;\n",
       "    }\n",
       "\n",
       "    .colab-df-convert {\n",
       "      background-color: #E8F0FE;\n",
       "      border: none;\n",
       "      border-radius: 50%;\n",
       "      cursor: pointer;\n",
       "      display: none;\n",
       "      fill: #1967D2;\n",
       "      height: 32px;\n",
       "      padding: 0 0 0 0;\n",
       "      width: 32px;\n",
       "    }\n",
       "\n",
       "    .colab-df-convert:hover {\n",
       "      background-color: #E2EBFA;\n",
       "      box-shadow: 0px 1px 2px rgba(60, 64, 67, 0.3), 0px 1px 3px 1px rgba(60, 64, 67, 0.15);\n",
       "      fill: #174EA6;\n",
       "    }\n",
       "\n",
       "    [theme=dark] .colab-df-convert {\n",
       "      background-color: #3B4455;\n",
       "      fill: #D2E3FC;\n",
       "    }\n",
       "\n",
       "    [theme=dark] .colab-df-convert:hover {\n",
       "      background-color: #434B5C;\n",
       "      box-shadow: 0px 1px 3px 1px rgba(0, 0, 0, 0.15);\n",
       "      filter: drop-shadow(0px 1px 2px rgba(0, 0, 0, 0.3));\n",
       "      fill: #FFFFFF;\n",
       "    }\n",
       "  </style>\n",
       "\n",
       "      <script>\n",
       "        const buttonEl =\n",
       "          document.querySelector('#df-f8bbf329-81bf-4d69-a88d-437a9909f3cd button.colab-df-convert');\n",
       "        buttonEl.style.display =\n",
       "          google.colab.kernel.accessAllowed ? 'block' : 'none';\n",
       "\n",
       "        async function convertToInteractive(key) {\n",
       "          const element = document.querySelector('#df-f8bbf329-81bf-4d69-a88d-437a9909f3cd');\n",
       "          const dataTable =\n",
       "            await google.colab.kernel.invokeFunction('convertToInteractive',\n",
       "                                                     [key], {});\n",
       "          if (!dataTable) return;\n",
       "\n",
       "          const docLinkHtml = 'Like what you see? Visit the ' +\n",
       "            '<a target=\"_blank\" href=https://colab.research.google.com/notebooks/data_table.ipynb>data table notebook</a>'\n",
       "            + ' to learn more about interactive tables.';\n",
       "          element.innerHTML = '';\n",
       "          dataTable['output_type'] = 'display_data';\n",
       "          await google.colab.output.renderOutput(dataTable, element);\n",
       "          const docLink = document.createElement('div');\n",
       "          docLink.innerHTML = docLinkHtml;\n",
       "          element.appendChild(docLink);\n",
       "        }\n",
       "      </script>\n",
       "    </div>\n",
       "  </div>\n",
       "  "
      ]
     },
     "metadata": {},
     "execution_count": 7
    }
   ],
   "source": [
    "water_data"
   ]
  },
  {
   "cell_type": "code",
   "execution_count": 8,
   "id": "24f1e702",
   "metadata": {
    "id": "24f1e702",
    "pycharm": {
     "name": "#%%\n"
    }
   },
   "outputs": [],
   "source": [
    "# Column Selection for master snow dataset\n",
    "junk_columns = ['Station ID', 'Snow Density', 'Precip Accumulation', 'Snow / Rain', 'Average Air Temperature', \n",
    "                'Average Wind Speed', 'Elevation', 'Latitude', 'Longitude', 'OID_']\n",
    "\n",
    "snow_data.drop(columns=junk_columns, inplace=True)\n",
    "\n",
    "# Column Selection for master water storage dataset\n",
    "water_data.drop(columns=['Station ID', 'Elevation', 'Latitude', 'Longitude', 'OID_'], inplace=True)"
   ]
  },
  {
   "cell_type": "code",
   "execution_count": 9,
   "id": "6308e677",
   "metadata": {
    "id": "6308e677",
    "pycharm": {
     "name": "#%%\n"
    }
   },
   "outputs": [],
   "source": [
    "# Date time formatting\n",
    "snow_data.index = pd.to_datetime(snow_data['Date'], infer_datetime_format=True)\n",
    "snow_data.drop(columns='Date', inplace=True)\n",
    "\n",
    "water_data.index = pd.to_datetime(water_data['Date'], infer_datetime_format=True)\n",
    "water_data.drop(columns='Date', inplace=True)"
   ]
  },
  {
   "cell_type": "code",
   "execution_count": 10,
   "id": "305cef38",
   "metadata": {
    "scrolled": true,
    "colab": {
     "base_uri": "https://localhost:8080/",
     "height": 455
    },
    "id": "305cef38",
    "outputId": "177e17a9-f13b-498c-96ac-4ea7558f9e84",
    "pycharm": {
     "name": "#%%\n"
    }
   },
   "outputs": [
    {
     "output_type": "execute_result",
     "data": {
      "text/plain": [
       "            Station Name    SWE  Snow Depth\n",
       "Date                                       \n",
       "1978-09-30   Baker Butte    NaN         NaN\n",
       "1978-10-01   Baker Butte    NaN         NaN\n",
       "1978-10-02   Baker Butte    NaN         NaN\n",
       "1978-10-03   Baker Butte    NaN         NaN\n",
       "1978-10-04   Baker Butte    NaN         NaN\n",
       "...                  ...    ...         ...\n",
       "2022-03-31  Whiskey Park  569.0       155.0\n",
       "2022-04-01  Whiskey Park  569.0       152.0\n",
       "2022-04-02  Whiskey Park  574.0       150.0\n",
       "2022-04-03  Whiskey Park  572.0       147.0\n",
       "2022-04-04  Whiskey Park  582.0       147.0\n",
       "\n",
       "[1963530 rows x 3 columns]"
      ],
      "text/html": [
       "\n",
       "  <div id=\"df-49cd0ea2-c2b7-492c-a3a7-0de251f891a9\">\n",
       "    <div class=\"colab-df-container\">\n",
       "      <div>\n",
       "<style scoped>\n",
       "    .dataframe tbody tr th:only-of-type {\n",
       "        vertical-align: middle;\n",
       "    }\n",
       "\n",
       "    .dataframe tbody tr th {\n",
       "        vertical-align: top;\n",
       "    }\n",
       "\n",
       "    .dataframe thead th {\n",
       "        text-align: right;\n",
       "    }\n",
       "</style>\n",
       "<table border=\"1\" class=\"dataframe\">\n",
       "  <thead>\n",
       "    <tr style=\"text-align: right;\">\n",
       "      <th></th>\n",
       "      <th>Station Name</th>\n",
       "      <th>SWE</th>\n",
       "      <th>Snow Depth</th>\n",
       "    </tr>\n",
       "    <tr>\n",
       "      <th>Date</th>\n",
       "      <th></th>\n",
       "      <th></th>\n",
       "      <th></th>\n",
       "    </tr>\n",
       "  </thead>\n",
       "  <tbody>\n",
       "    <tr>\n",
       "      <th>1978-09-30</th>\n",
       "      <td>Baker Butte</td>\n",
       "      <td>NaN</td>\n",
       "      <td>NaN</td>\n",
       "    </tr>\n",
       "    <tr>\n",
       "      <th>1978-10-01</th>\n",
       "      <td>Baker Butte</td>\n",
       "      <td>NaN</td>\n",
       "      <td>NaN</td>\n",
       "    </tr>\n",
       "    <tr>\n",
       "      <th>1978-10-02</th>\n",
       "      <td>Baker Butte</td>\n",
       "      <td>NaN</td>\n",
       "      <td>NaN</td>\n",
       "    </tr>\n",
       "    <tr>\n",
       "      <th>1978-10-03</th>\n",
       "      <td>Baker Butte</td>\n",
       "      <td>NaN</td>\n",
       "      <td>NaN</td>\n",
       "    </tr>\n",
       "    <tr>\n",
       "      <th>1978-10-04</th>\n",
       "      <td>Baker Butte</td>\n",
       "      <td>NaN</td>\n",
       "      <td>NaN</td>\n",
       "    </tr>\n",
       "    <tr>\n",
       "      <th>...</th>\n",
       "      <td>...</td>\n",
       "      <td>...</td>\n",
       "      <td>...</td>\n",
       "    </tr>\n",
       "    <tr>\n",
       "      <th>2022-03-31</th>\n",
       "      <td>Whiskey Park</td>\n",
       "      <td>569.0</td>\n",
       "      <td>155.0</td>\n",
       "    </tr>\n",
       "    <tr>\n",
       "      <th>2022-04-01</th>\n",
       "      <td>Whiskey Park</td>\n",
       "      <td>569.0</td>\n",
       "      <td>152.0</td>\n",
       "    </tr>\n",
       "    <tr>\n",
       "      <th>2022-04-02</th>\n",
       "      <td>Whiskey Park</td>\n",
       "      <td>574.0</td>\n",
       "      <td>150.0</td>\n",
       "    </tr>\n",
       "    <tr>\n",
       "      <th>2022-04-03</th>\n",
       "      <td>Whiskey Park</td>\n",
       "      <td>572.0</td>\n",
       "      <td>147.0</td>\n",
       "    </tr>\n",
       "    <tr>\n",
       "      <th>2022-04-04</th>\n",
       "      <td>Whiskey Park</td>\n",
       "      <td>582.0</td>\n",
       "      <td>147.0</td>\n",
       "    </tr>\n",
       "  </tbody>\n",
       "</table>\n",
       "<p>1963530 rows × 3 columns</p>\n",
       "</div>\n",
       "      <button class=\"colab-df-convert\" onclick=\"convertToInteractive('df-49cd0ea2-c2b7-492c-a3a7-0de251f891a9')\"\n",
       "              title=\"Convert this dataframe to an interactive table.\"\n",
       "              style=\"display:none;\">\n",
       "        \n",
       "  <svg xmlns=\"http://www.w3.org/2000/svg\" height=\"24px\"viewBox=\"0 0 24 24\"\n",
       "       width=\"24px\">\n",
       "    <path d=\"M0 0h24v24H0V0z\" fill=\"none\"/>\n",
       "    <path d=\"M18.56 5.44l.94 2.06.94-2.06 2.06-.94-2.06-.94-.94-2.06-.94 2.06-2.06.94zm-11 1L8.5 8.5l.94-2.06 2.06-.94-2.06-.94L8.5 2.5l-.94 2.06-2.06.94zm10 10l.94 2.06.94-2.06 2.06-.94-2.06-.94-.94-2.06-.94 2.06-2.06.94z\"/><path d=\"M17.41 7.96l-1.37-1.37c-.4-.4-.92-.59-1.43-.59-.52 0-1.04.2-1.43.59L10.3 9.45l-7.72 7.72c-.78.78-.78 2.05 0 2.83L4 21.41c.39.39.9.59 1.41.59.51 0 1.02-.2 1.41-.59l7.78-7.78 2.81-2.81c.8-.78.8-2.07 0-2.86zM5.41 20L4 18.59l7.72-7.72 1.47 1.35L5.41 20z\"/>\n",
       "  </svg>\n",
       "      </button>\n",
       "      \n",
       "  <style>\n",
       "    .colab-df-container {\n",
       "      display:flex;\n",
       "      flex-wrap:wrap;\n",
       "      gap: 12px;\n",
       "    }\n",
       "\n",
       "    .colab-df-convert {\n",
       "      background-color: #E8F0FE;\n",
       "      border: none;\n",
       "      border-radius: 50%;\n",
       "      cursor: pointer;\n",
       "      display: none;\n",
       "      fill: #1967D2;\n",
       "      height: 32px;\n",
       "      padding: 0 0 0 0;\n",
       "      width: 32px;\n",
       "    }\n",
       "\n",
       "    .colab-df-convert:hover {\n",
       "      background-color: #E2EBFA;\n",
       "      box-shadow: 0px 1px 2px rgba(60, 64, 67, 0.3), 0px 1px 3px 1px rgba(60, 64, 67, 0.15);\n",
       "      fill: #174EA6;\n",
       "    }\n",
       "\n",
       "    [theme=dark] .colab-df-convert {\n",
       "      background-color: #3B4455;\n",
       "      fill: #D2E3FC;\n",
       "    }\n",
       "\n",
       "    [theme=dark] .colab-df-convert:hover {\n",
       "      background-color: #434B5C;\n",
       "      box-shadow: 0px 1px 3px 1px rgba(0, 0, 0, 0.15);\n",
       "      filter: drop-shadow(0px 1px 2px rgba(0, 0, 0, 0.3));\n",
       "      fill: #FFFFFF;\n",
       "    }\n",
       "  </style>\n",
       "\n",
       "      <script>\n",
       "        const buttonEl =\n",
       "          document.querySelector('#df-49cd0ea2-c2b7-492c-a3a7-0de251f891a9 button.colab-df-convert');\n",
       "        buttonEl.style.display =\n",
       "          google.colab.kernel.accessAllowed ? 'block' : 'none';\n",
       "\n",
       "        async function convertToInteractive(key) {\n",
       "          const element = document.querySelector('#df-49cd0ea2-c2b7-492c-a3a7-0de251f891a9');\n",
       "          const dataTable =\n",
       "            await google.colab.kernel.invokeFunction('convertToInteractive',\n",
       "                                                     [key], {});\n",
       "          if (!dataTable) return;\n",
       "\n",
       "          const docLinkHtml = 'Like what you see? Visit the ' +\n",
       "            '<a target=\"_blank\" href=https://colab.research.google.com/notebooks/data_table.ipynb>data table notebook</a>'\n",
       "            + ' to learn more about interactive tables.';\n",
       "          element.innerHTML = '';\n",
       "          dataTable['output_type'] = 'display_data';\n",
       "          await google.colab.output.renderOutput(dataTable, element);\n",
       "          const docLink = document.createElement('div');\n",
       "          docLink.innerHTML = docLinkHtml;\n",
       "          element.appendChild(docLink);\n",
       "        }\n",
       "      </script>\n",
       "    </div>\n",
       "  </div>\n",
       "  "
      ]
     },
     "metadata": {},
     "execution_count": 10
    }
   ],
   "source": [
    "snow_data"
   ]
  },
  {
   "cell_type": "markdown",
   "id": "57600d19",
   "metadata": {
    "id": "57600d19",
    "pycharm": {
     "name": "#%% md\n"
    }
   },
   "source": [
    "We will backfill and interpolate to fix `NaN` values, then aggregate by date to create values for the entire basin."
   ]
  },
  {
   "cell_type": "code",
   "execution_count": 11,
   "id": "cd3e15e9",
   "metadata": {
    "scrolled": false,
    "colab": {
     "base_uri": "https://localhost:8080/",
     "height": 455
    },
    "id": "cd3e15e9",
    "outputId": "1944ae5c-7bf5-49ba-de49-fb2fc09c6754",
    "pycharm": {
     "name": "#%%\n"
    }
   },
   "outputs": [
    {
     "output_type": "execute_result",
     "data": {
      "text/plain": [
       "                     Station Name  Water Storage\n",
       "Date                                            \n",
       "1964-12-21   Cragin Dam Reservoir            0.0\n",
       "1964-12-22   Cragin Dam Reservoir            NaN\n",
       "1964-12-23   Cragin Dam Reservoir            NaN\n",
       "1964-12-24   Cragin Dam Reservoir            NaN\n",
       "1964-12-25   Cragin Dam Reservoir            NaN\n",
       "...                           ...            ...\n",
       "2022-03-29  Meeks Cabin Reservoir        15393.0\n",
       "2022-03-30  Meeks Cabin Reservoir        15470.0\n",
       "2022-03-31  Meeks Cabin Reservoir        15556.0\n",
       "2022-04-01  Meeks Cabin Reservoir        15642.0\n",
       "2022-04-02  Meeks Cabin Reservoir        15706.0\n",
       "\n",
       "[1010474 rows x 2 columns]"
      ],
      "text/html": [
       "\n",
       "  <div id=\"df-7cd4bf94-2b90-4885-855d-96028378bd15\">\n",
       "    <div class=\"colab-df-container\">\n",
       "      <div>\n",
       "<style scoped>\n",
       "    .dataframe tbody tr th:only-of-type {\n",
       "        vertical-align: middle;\n",
       "    }\n",
       "\n",
       "    .dataframe tbody tr th {\n",
       "        vertical-align: top;\n",
       "    }\n",
       "\n",
       "    .dataframe thead th {\n",
       "        text-align: right;\n",
       "    }\n",
       "</style>\n",
       "<table border=\"1\" class=\"dataframe\">\n",
       "  <thead>\n",
       "    <tr style=\"text-align: right;\">\n",
       "      <th></th>\n",
       "      <th>Station Name</th>\n",
       "      <th>Water Storage</th>\n",
       "    </tr>\n",
       "    <tr>\n",
       "      <th>Date</th>\n",
       "      <th></th>\n",
       "      <th></th>\n",
       "    </tr>\n",
       "  </thead>\n",
       "  <tbody>\n",
       "    <tr>\n",
       "      <th>1964-12-21</th>\n",
       "      <td>Cragin Dam Reservoir</td>\n",
       "      <td>0.0</td>\n",
       "    </tr>\n",
       "    <tr>\n",
       "      <th>1964-12-22</th>\n",
       "      <td>Cragin Dam Reservoir</td>\n",
       "      <td>NaN</td>\n",
       "    </tr>\n",
       "    <tr>\n",
       "      <th>1964-12-23</th>\n",
       "      <td>Cragin Dam Reservoir</td>\n",
       "      <td>NaN</td>\n",
       "    </tr>\n",
       "    <tr>\n",
       "      <th>1964-12-24</th>\n",
       "      <td>Cragin Dam Reservoir</td>\n",
       "      <td>NaN</td>\n",
       "    </tr>\n",
       "    <tr>\n",
       "      <th>1964-12-25</th>\n",
       "      <td>Cragin Dam Reservoir</td>\n",
       "      <td>NaN</td>\n",
       "    </tr>\n",
       "    <tr>\n",
       "      <th>...</th>\n",
       "      <td>...</td>\n",
       "      <td>...</td>\n",
       "    </tr>\n",
       "    <tr>\n",
       "      <th>2022-03-29</th>\n",
       "      <td>Meeks Cabin Reservoir</td>\n",
       "      <td>15393.0</td>\n",
       "    </tr>\n",
       "    <tr>\n",
       "      <th>2022-03-30</th>\n",
       "      <td>Meeks Cabin Reservoir</td>\n",
       "      <td>15470.0</td>\n",
       "    </tr>\n",
       "    <tr>\n",
       "      <th>2022-03-31</th>\n",
       "      <td>Meeks Cabin Reservoir</td>\n",
       "      <td>15556.0</td>\n",
       "    </tr>\n",
       "    <tr>\n",
       "      <th>2022-04-01</th>\n",
       "      <td>Meeks Cabin Reservoir</td>\n",
       "      <td>15642.0</td>\n",
       "    </tr>\n",
       "    <tr>\n",
       "      <th>2022-04-02</th>\n",
       "      <td>Meeks Cabin Reservoir</td>\n",
       "      <td>15706.0</td>\n",
       "    </tr>\n",
       "  </tbody>\n",
       "</table>\n",
       "<p>1010474 rows × 2 columns</p>\n",
       "</div>\n",
       "      <button class=\"colab-df-convert\" onclick=\"convertToInteractive('df-7cd4bf94-2b90-4885-855d-96028378bd15')\"\n",
       "              title=\"Convert this dataframe to an interactive table.\"\n",
       "              style=\"display:none;\">\n",
       "        \n",
       "  <svg xmlns=\"http://www.w3.org/2000/svg\" height=\"24px\"viewBox=\"0 0 24 24\"\n",
       "       width=\"24px\">\n",
       "    <path d=\"M0 0h24v24H0V0z\" fill=\"none\"/>\n",
       "    <path d=\"M18.56 5.44l.94 2.06.94-2.06 2.06-.94-2.06-.94-.94-2.06-.94 2.06-2.06.94zm-11 1L8.5 8.5l.94-2.06 2.06-.94-2.06-.94L8.5 2.5l-.94 2.06-2.06.94zm10 10l.94 2.06.94-2.06 2.06-.94-2.06-.94-.94-2.06-.94 2.06-2.06.94z\"/><path d=\"M17.41 7.96l-1.37-1.37c-.4-.4-.92-.59-1.43-.59-.52 0-1.04.2-1.43.59L10.3 9.45l-7.72 7.72c-.78.78-.78 2.05 0 2.83L4 21.41c.39.39.9.59 1.41.59.51 0 1.02-.2 1.41-.59l7.78-7.78 2.81-2.81c.8-.78.8-2.07 0-2.86zM5.41 20L4 18.59l7.72-7.72 1.47 1.35L5.41 20z\"/>\n",
       "  </svg>\n",
       "      </button>\n",
       "      \n",
       "  <style>\n",
       "    .colab-df-container {\n",
       "      display:flex;\n",
       "      flex-wrap:wrap;\n",
       "      gap: 12px;\n",
       "    }\n",
       "\n",
       "    .colab-df-convert {\n",
       "      background-color: #E8F0FE;\n",
       "      border: none;\n",
       "      border-radius: 50%;\n",
       "      cursor: pointer;\n",
       "      display: none;\n",
       "      fill: #1967D2;\n",
       "      height: 32px;\n",
       "      padding: 0 0 0 0;\n",
       "      width: 32px;\n",
       "    }\n",
       "\n",
       "    .colab-df-convert:hover {\n",
       "      background-color: #E2EBFA;\n",
       "      box-shadow: 0px 1px 2px rgba(60, 64, 67, 0.3), 0px 1px 3px 1px rgba(60, 64, 67, 0.15);\n",
       "      fill: #174EA6;\n",
       "    }\n",
       "\n",
       "    [theme=dark] .colab-df-convert {\n",
       "      background-color: #3B4455;\n",
       "      fill: #D2E3FC;\n",
       "    }\n",
       "\n",
       "    [theme=dark] .colab-df-convert:hover {\n",
       "      background-color: #434B5C;\n",
       "      box-shadow: 0px 1px 3px 1px rgba(0, 0, 0, 0.15);\n",
       "      filter: drop-shadow(0px 1px 2px rgba(0, 0, 0, 0.3));\n",
       "      fill: #FFFFFF;\n",
       "    }\n",
       "  </style>\n",
       "\n",
       "      <script>\n",
       "        const buttonEl =\n",
       "          document.querySelector('#df-7cd4bf94-2b90-4885-855d-96028378bd15 button.colab-df-convert');\n",
       "        buttonEl.style.display =\n",
       "          google.colab.kernel.accessAllowed ? 'block' : 'none';\n",
       "\n",
       "        async function convertToInteractive(key) {\n",
       "          const element = document.querySelector('#df-7cd4bf94-2b90-4885-855d-96028378bd15');\n",
       "          const dataTable =\n",
       "            await google.colab.kernel.invokeFunction('convertToInteractive',\n",
       "                                                     [key], {});\n",
       "          if (!dataTable) return;\n",
       "\n",
       "          const docLinkHtml = 'Like what you see? Visit the ' +\n",
       "            '<a target=\"_blank\" href=https://colab.research.google.com/notebooks/data_table.ipynb>data table notebook</a>'\n",
       "            + ' to learn more about interactive tables.';\n",
       "          element.innerHTML = '';\n",
       "          dataTable['output_type'] = 'display_data';\n",
       "          await google.colab.output.renderOutput(dataTable, element);\n",
       "          const docLink = document.createElement('div');\n",
       "          docLink.innerHTML = docLinkHtml;\n",
       "          element.appendChild(docLink);\n",
       "        }\n",
       "      </script>\n",
       "    </div>\n",
       "  </div>\n",
       "  "
      ]
     },
     "metadata": {},
     "execution_count": 11
    }
   ],
   "source": [
    "water_data"
   ]
  },
  {
   "cell_type": "code",
   "execution_count": 12,
   "id": "3332b729",
   "metadata": {
    "colab": {
     "base_uri": "https://localhost:8080/"
    },
    "id": "3332b729",
    "outputId": "49a56726-ff5f-4be5-b386-80574f27a9dd",
    "pycharm": {
     "name": "#%%\n"
    }
   },
   "outputs": [
    {
     "output_type": "stream",
     "name": "stderr",
     "text": [
      "/usr/local/lib/python3.7/dist-packages/statsmodels/tools/_testing.py:19: FutureWarning: pandas.util.testing is deprecated. Use the functions in the public API at pandas.testing instead.\n",
      "  import pandas.util.testing as tm\n"
     ]
    }
   ],
   "source": [
    "from statsmodels.tsa.stattools import adfuller\n",
    "\n",
    "def dicky_fuller_test(data, alpha):\n",
    "    is_stationary = adfuller(data)[1] < alpha\n",
    "    if is_stationary == True:\n",
    "        print(f'The data is stationary with a fuller score of {round(adfuller(data)[1],3)}')\n",
    "    else:\n",
    "        print(f'The data is not stationary with a fuller score of {round(adfuller(data)[1],3)}')\n",
    "    return"
   ]
  },
  {
   "cell_type": "markdown",
   "id": "1a0316cf",
   "metadata": {
    "id": "1a0316cf",
    "pycharm": {
     "name": "#%% md\n"
    }
   },
   "source": [
    "Imputing and aggregating:"
   ]
  },
  {
   "cell_type": "code",
   "execution_count": 13,
   "id": "29a5f5e4",
   "metadata": {
    "id": "29a5f5e4",
    "pycharm": {
     "name": "#%%\n"
    }
   },
   "outputs": [],
   "source": [
    "def fix_na(df, interpolation_method='linear', fill_method='backfill'):\n",
    "    # interpolate and backfill\n",
    "    \n",
    "    df = df.interpolate(method='linear').fillna(value=None, method='backfill', axis=None, limit=None, downcast=None).dropna(axis=1, how='all')\n",
    "    return df"
   ]
  },
  {
   "cell_type": "code",
   "execution_count": 14,
   "id": "0df52ba4",
   "metadata": {
    "scrolled": false,
    "id": "0df52ba4",
    "pycharm": {
     "name": "#%%\n"
    }
   },
   "outputs": [],
   "source": [
    "fill_snow = fix_na(snow_data)\n",
    "fill_water = fix_na(water_data)\n",
    "\n",
    "ag_snow = snow_data.groupby(fill_snow.index).aggregate({'SWE' : 'sum'})\n",
    "ag_water = water_data.groupby(fill_water.index).aggregate({'Water Storage' : 'sum'})"
   ]
  },
  {
   "cell_type": "code",
   "execution_count": 15,
   "id": "ef46e71e",
   "metadata": {
    "id": "ef46e71e",
    "pycharm": {
     "name": "#%%\n"
    }
   },
   "outputs": [],
   "source": [
    "masterdata = ag_snow.join(ag_water, how='left', on=ag_snow.index)\n",
    "masterdata = fix_na(masterdata)"
   ]
  },
  {
   "cell_type": "code",
   "execution_count": 16,
   "id": "7dbd812d",
   "metadata": {
    "scrolled": true,
    "colab": {
     "base_uri": "https://localhost:8080/",
     "height": 307
    },
    "id": "7dbd812d",
    "outputId": "aafb7ef1-f826-4938-e767-9a7a7e8c6f44",
    "pycharm": {
     "name": "#%%\n"
    }
   },
   "outputs": [
    {
     "output_type": "execute_result",
     "data": {
      "text/plain": [
       "<matplotlib.axes._subplots.AxesSubplot at 0x7f957e833e50>"
      ]
     },
     "metadata": {},
     "execution_count": 16
    },
    {
     "output_type": "display_data",
     "data": {
      "text/plain": [
       "<Figure size 432x288 with 1 Axes>"
      ],
      "image/png": "[encoded data removed]"
     },
     "metadata": {
      "needs_background": "light"
     }
    }
   ],
   "source": [
    "masterdata.plot()"
   ]
  },
  {
   "cell_type": "markdown",
   "id": "ef443cbe",
   "metadata": {
    "id": "ef443cbe",
    "pycharm": {
     "name": "#%% md\n"
    }
   },
   "source": [
    "Without interpolating SWE over the areas between stations where snow accumulates, the values of SWE don't match or compare with the changes in water storage. Thus we may look at water storage and water withdrawals directly."
   ]
  },
  {
   "cell_type": "code",
   "execution_count": 17,
   "outputs": [
    {
     "output_type": "stream",
     "name": "stderr",
     "text": [
      "/usr/local/lib/python3.7/dist-packages/IPython/core/interactiveshell.py:2882: DtypeWarning: Columns (3,7) have mixed types.Specify dtype option on import or set low_memory=False.\n",
      "  exec(code_obj, self.user_global_ns, self.user_ns)\n"
     ]
    }
   ],
   "source": [
    "# Bringing in water withdrawal data\n",
    "\n",
    "aquaculture_withdrawals = pd.read_csv(f'../00_Source_Data/Snowpack/Water Usage/CRB_HUC8_TAF_19852010_Aquaculture.csv')\n",
    "commercial_withdrawals = pd.read_csv(f'../00_Source_Data/Snowpack/Water Usage/CRB_HUC8_TAF_19852010_Commercial.csv')\n",
    "hydropower_withdrawals = pd.read_csv(f'../00_Source_Data/Snowpack/Water Usage/CRB_HUC8_TAF_19852010_Hydro_Power.csv')\n",
    "irrigation_withdrawals = pd.read_csv(f'../00_Source_Data/Snowpack/Water Usage/CRB_HUC8_TAF_19852010_Irrigation.csv')\n",
    "livestock_withdrawals = pd.read_csv(f'../00_Source_Data/Snowpack/Water Usage/CRB_HUC8_TAF_19852010_Livestock.csv')\n",
    "mining_withdrawals = pd.read_csv(f'../00_Source_Data/Snowpack/Water Usage/CRB_HUC8_TAF_19852010_Mining.csv')\n",
    "public_withdrawals = pd.read_csv(f'../00_Source_Data/Snowpack/Water Usage/CRB_HUC8_TAF_19852010_PublicSupply.csv')\n",
    "ss_domestic_withdrawals = pd.read_csv(f'../00_Source_Data/Snowpack/Water Usage/CRB_HUC8_TAF_19852010_SS_Domestic.csv')\n",
    "ss_industrial_withdrawals = pd.read_csv(f'../00_Source_Data/Snowpack/Water Usage/CRB_HUC8_TAF_19852010_SS_Industrial.csv')\n",
    "thermoelectric_withdrawals = pd.read_csv(f'../00_Source_Data/Snowpack/Water Usage/CRB_HUC8_TAF_19852010_Total_Thermoelectric.csv')\n",
    "wastewater_withdrawals = pd.read_csv(f'../00_Source_Data/Snowpack/Water Usage/CRB_HUC8_TAF_19852010_Wastewater.csv')"
   ],
   "metadata": {
    "pycharm": {
     "name": "#%%\n"
    },
    "id": "g3097-2ld9P7",
    "outputId": "eb1e5af0-9762-4ef5-d290-1a7027125991",
    "colab": {
     "base_uri": "https://localhost:8080/"
    }
   },
   "id": "g3097-2ld9P7"
  },
  {
   "cell_type": "code",
   "execution_count": 18,
   "id": "3fa3ff7c",
   "metadata": {
    "id": "3fa3ff7c",
    "pycharm": {
     "name": "#%%\n"
    }
   },
   "outputs": [],
   "source": [
    "# Define a function to remove XLS file artifacts from dataframes.\n",
    "\n",
    "def del_unnamed(df):\n",
    "    cols = df.columns.tolist()\n",
    "    to_remove = []\n",
    "    \n",
    "    for i in cols:\n",
    "        if i.startswith('Unnamed'):\n",
    "            to_remove.append(i)\n",
    "    return df.drop(columns=to_remove)"
   ]
  },
  {
   "cell_type": "code",
   "execution_count": 19,
   "id": "60be8fe7",
   "metadata": {
    "id": "60be8fe7",
    "pycharm": {
     "name": "#%%\n"
    }
   },
   "outputs": [],
   "source": [
    "# Remove all artifact columns from all withdrawal datasets\n",
    "\n",
    "aquaculture_withdrawals = del_unnamed(aquaculture_withdrawals)\n",
    "commercial_withdrawals = del_unnamed(commercial_withdrawals)\n",
    "hydropower_withdrawals = del_unnamed(hydropower_withdrawals)\n",
    "irrigation_withdrawals = del_unnamed(irrigation_withdrawals)\n",
    "livestock_withdrawals = del_unnamed(livestock_withdrawals)\n",
    "mining_withdrawals = del_unnamed(mining_withdrawals)\n",
    "public_withdrawals = del_unnamed(public_withdrawals)\n",
    "ss_domestic_withdrawals = del_unnamed(ss_domestic_withdrawals)\n",
    "ss_industrial_withdrawals = del_unnamed(ss_industrial_withdrawals)\n",
    "thermoelectric_withdrawals = del_unnamed(thermoelectric_withdrawals)\n",
    "wastewater_withdrawals = del_unnamed(wastewater_withdrawals)"
   ]
  },
  {
   "cell_type": "markdown",
   "id": "6d921593",
   "metadata": {
    "id": "6d921593",
    "pycharm": {
     "name": "#%% md\n"
    }
   },
   "source": [
    " Each dataset has differing columns but the premise of how to put it all together is relatively simple. The total amount of consumed water is subtracted from total water storage. Water reclaimed is added to water storage. Each time period is treated as independant from the previous as the resulting storage is actual and thus should already include the values in the withdrawals data sets.\n",
    " \n",
    " Most dams have a minimum water level they maintain, so we will reduce the total storage per time figure by an amount equal to a percentage of the maximum (estimated by maximum in our dataset) to account for minimum operating depths in reservoirs and hydroelectric dams."
   ]
  },
  {
   "cell_type": "code",
   "execution_count": 20,
   "id": "5e3b673d",
   "metadata": {
    "colab": {
     "base_uri": "https://localhost:8080/"
    },
    "id": "5e3b673d",
    "outputId": "e8685671-bdfc-4aec-d14e-7c1cdf645168",
    "pycharm": {
     "name": "#%%\n"
    }
   },
   "outputs": [
    {
     "output_type": "stream",
     "name": "stdout",
     "text": [
      "Glen Canyon Dam has a minimum operating depth of 30% of the full depth.\n",
      "Glen Canyon Dam has a minimum flow-through depth of 46% of the full depth. Also called the \"dead pool\" depth.\n"
     ]
    }
   ],
   "source": [
    "# doing some quick math because facts are in different scales.\n",
    "# Depth is in feet.\n",
    "\n",
    "total_water_depth = 710\n",
    "min_operating = 3490\n",
    "dead_pool = 3370\n",
    "lake_elevation = 3700\n",
    "\n",
    "per_to_dead = (lake_elevation - dead_pool)/total_water_depth\n",
    "per_to_non_op = (lake_elevation - min_operating)/total_water_depth\n",
    "\n",
    "print(f'Glen Canyon Dam has a minimum operating depth of {round(per_to_non_op*100)}% of the full depth.')\n",
    "print(f'Glen Canyon Dam has a minimum flow-through depth of {round(per_to_dead*100)}% of the full depth. Also called the \"dead pool\" depth.')"
   ]
  },
  {
   "cell_type": "markdown",
   "id": "c0709227",
   "metadata": {
    "id": "c0709227",
    "pycharm": {
     "name": "#%% md\n"
    }
   },
   "source": [
    "We will use Glen Canyon as our model dam, as it is difficult to find information on the dead pool and minimum operating depths of most other dams and reservoirs on the Colorado.\n",
    "\n",
    "Thus, we can generalize that all water storage cannot drop below 46% percent of the maximum idealy. Dropping below 30% of the maximum storage is dire."
   ]
  },
  {
   "cell_type": "markdown",
   "id": "3e40b9b3",
   "metadata": {
    "id": "3e40b9b3",
    "pycharm": {
     "name": "#%% md\n"
    }
   },
   "source": [
    "#### Formatting procedures\n",
    "\n",
    "- Index to year as datetime.\n",
    "- groupby date and aggregate total consumptive water withdrawal and total water reclaimed\n",
    "\n",
    "Columns of interest by dataframe (units in TAF unless stated otherwise):\n",
    "\n",
    "- Aquaculture: `'AQ-WTotl'` total fresh and saline withdrawals\n",
    "- Commercial: `'CO-WFrTotl'` total water usage fresh\n",
    "- Hydro power: `'HY-ToUse'` total instream and offstream water withdrawals defined by producer\n",
    "        - Not differentiated between consumed and reclaimed.\n",
    "        - Assuming all hydro power 'withdrawals' are flowthrough and not consumptive\n",
    "- Irrigation: `'IR-WFrTo'` total fresh water withdrawls\n",
    "        - Not differentiated between consumptive, conveyance losses, and evap.\n",
    "- Livestock: `'LS-WTotl'` total fresh water withdrawals\n",
    "        - Saline withdrawals not included.\n",
    "- Mining: `'MI-WTotl'` total fresh and saline withdrawals\n",
    "- Public: `'PS-WTotl'` total fresh and saline withdrawals\n",
    "        - Public water totals appear to be delivered and included in other categories.\n",
    "- SS Domestic: `'DO-WTotl'` total self-supplied withdrawals\n",
    "- SS Industrial: `'IN-WTotl'` total self-supplied fresh and saline withdrawals\n",
    "- Thermoelectric: `'PT-CUTot'` total fresh and saline consumptive use\n",
    "- Wastewater: `'WW-PuRet'` total return flow"
   ]
  },
  {
   "cell_type": "code",
   "execution_count": 21,
   "id": "c3534b04",
   "metadata": {
    "id": "c3534b04",
    "pycharm": {
     "name": "#%%\n"
    }
   },
   "outputs": [],
   "source": [
    "def format_water_data(df, column):\n",
    "    df.index = pd.to_datetime(df['YEAR'], format='%Y', infer_datetime_format=True)\n",
    "    return df.groupby(df.index).aggregate({column : 'sum'})\n",
    "        "
   ]
  },
  {
   "cell_type": "raw",
   "id": "90fb7d3f",
   "metadata": {
    "id": "90fb7d3f",
    "pycharm": {
     "name": "#%% raw\n"
    }
   },
   "source": [
    "aquaculture_withdrawals.index = pd.to_datetime(aquaculture_withdrawals['YEAR'], format='%Y', infer_datetime_format=True)"
   ]
  },
  {
   "cell_type": "code",
   "execution_count": 22,
   "id": "6435f130",
   "metadata": {
    "id": "6435f130",
    "pycharm": {
     "name": "#%%\n"
    }
   },
   "outputs": [],
   "source": [
    "# format water withdrawal data \n",
    "aq_totls = format_water_data(aquaculture_withdrawals, 'AQ-WTotl')\n",
    "com_totls = format_water_data(commercial_withdrawals, 'CO-WFrTotl')\n",
    "hydro_totls = format_water_data(hydropower_withdrawals, 'HY-ToUse')\n",
    "irr_totls = format_water_data(irrigation_withdrawals, 'IR-WFrTo')\n",
    "ls_totls = format_water_data(livestock_withdrawals, 'LS-WTotl')\n",
    "mi_totls = format_water_data(mining_withdrawals, 'MI-WTotl')\n",
    "pub_totls = format_water_data(public_withdrawals, 'PS-WTotl')\n",
    "ss_dom_totls = format_water_data(ss_domestic_withdrawals, 'DO-WTotl')\n",
    "ss_ind_totls = format_water_data(ss_industrial_withdrawals, 'IN-WTotl')\n",
    "te_totls = format_water_data(thermoelectric_withdrawals, 'PT-CUTot')\n",
    "ww_totls = format_water_data(wastewater_withdrawals, 'WW-PuRet')"
   ]
  },
  {
   "cell_type": "code",
   "execution_count": 23,
   "id": "30e91411",
   "metadata": {
    "id": "30e91411",
    "pycharm": {
     "name": "#%%\n"
    }
   },
   "outputs": [],
   "source": [
    "water_withdrawals = aq_totls.join([com_totls, hydro_totls, irr_totls, ls_totls, mi_totls,\n",
    "                                   pub_totls, ss_dom_totls, ss_ind_totls, te_totls, ww_totls])"
   ]
  },
  {
   "cell_type": "code",
   "execution_count": 24,
   "id": "6dc638d7",
   "metadata": {
    "colab": {
     "base_uri": "https://localhost:8080/",
     "height": 0
    },
    "id": "6dc638d7",
    "outputId": "557cf731-c916-40af-94cf-c0bac6b1c65a",
    "pycharm": {
     "name": "#%%\n"
    }
   },
   "outputs": [
    {
     "output_type": "execute_result",
     "data": {
      "text/plain": [
       "            AQ-WTotl  CO-WFrTotl  HY-ToUse  IR-WFrTo  LS-WTotl  MI-WTotl  \\\n",
       "YEAR                                                                       \n",
       "2000-01-01    154.62       22.29  52485.04  14975.81     45.54    231.62   \n",
       "2005-01-01    142.15       26.94  43617.69  14818.85     41.35    183.30   \n",
       "2010-01-01    151.35       30.49  46076.89  13648.80     43.77    176.37   \n",
       "\n",
       "            PS-WTotl  DO-WTotl  IN-WTotl  PT-CUTot  WW-PuRet  \n",
       "YEAR                                                          \n",
       "2000-01-01   1910.20     66.68     33.00    235.90   1786.04  \n",
       "2005-01-01   1988.93     75.60     31.35    332.57   1699.78  \n",
       "2010-01-01   2096.00     69.44     31.67    328.20   1753.24  "
      ],
      "text/html": [
       "\n",
       "  <div id=\"df-efed7a15-c39e-4699-a198-0d45d0a815ce\">\n",
       "    <div class=\"colab-df-container\">\n",
       "      <div>\n",
       "<style scoped>\n",
       "    .dataframe tbody tr th:only-of-type {\n",
       "        vertical-align: middle;\n",
       "    }\n",
       "\n",
       "    .dataframe tbody tr th {\n",
       "        vertical-align: top;\n",
       "    }\n",
       "\n",
       "    .dataframe thead th {\n",
       "        text-align: right;\n",
       "    }\n",
       "</style>\n",
       "<table border=\"1\" class=\"dataframe\">\n",
       "  <thead>\n",
       "    <tr style=\"text-align: right;\">\n",
       "      <th></th>\n",
       "      <th>AQ-WTotl</th>\n",
       "      <th>CO-WFrTotl</th>\n",
       "      <th>HY-ToUse</th>\n",
       "      <th>IR-WFrTo</th>\n",
       "      <th>LS-WTotl</th>\n",
       "      <th>MI-WTotl</th>\n",
       "      <th>PS-WTotl</th>\n",
       "      <th>DO-WTotl</th>\n",
       "      <th>IN-WTotl</th>\n",
       "      <th>PT-CUTot</th>\n",
       "      <th>WW-PuRet</th>\n",
       "    </tr>\n",
       "    <tr>\n",
       "      <th>YEAR</th>\n",
       "      <th></th>\n",
       "      <th></th>\n",
       "      <th></th>\n",
       "      <th></th>\n",
       "      <th></th>\n",
       "      <th></th>\n",
       "      <th></th>\n",
       "      <th></th>\n",
       "      <th></th>\n",
       "      <th></th>\n",
       "      <th></th>\n",
       "    </tr>\n",
       "  </thead>\n",
       "  <tbody>\n",
       "    <tr>\n",
       "      <th>2000-01-01</th>\n",
       "      <td>154.62</td>\n",
       "      <td>22.29</td>\n",
       "      <td>52485.04</td>\n",
       "      <td>14975.81</td>\n",
       "      <td>45.54</td>\n",
       "      <td>231.62</td>\n",
       "      <td>1910.20</td>\n",
       "      <td>66.68</td>\n",
       "      <td>33.00</td>\n",
       "      <td>235.90</td>\n",
       "      <td>1786.04</td>\n",
       "    </tr>\n",
       "    <tr>\n",
       "      <th>2005-01-01</th>\n",
       "      <td>142.15</td>\n",
       "      <td>26.94</td>\n",
       "      <td>43617.69</td>\n",
       "      <td>14818.85</td>\n",
       "      <td>41.35</td>\n",
       "      <td>183.30</td>\n",
       "      <td>1988.93</td>\n",
       "      <td>75.60</td>\n",
       "      <td>31.35</td>\n",
       "      <td>332.57</td>\n",
       "      <td>1699.78</td>\n",
       "    </tr>\n",
       "    <tr>\n",
       "      <th>2010-01-01</th>\n",
       "      <td>151.35</td>\n",
       "      <td>30.49</td>\n",
       "      <td>46076.89</td>\n",
       "      <td>13648.80</td>\n",
       "      <td>43.77</td>\n",
       "      <td>176.37</td>\n",
       "      <td>2096.00</td>\n",
       "      <td>69.44</td>\n",
       "      <td>31.67</td>\n",
       "      <td>328.20</td>\n",
       "      <td>1753.24</td>\n",
       "    </tr>\n",
       "  </tbody>\n",
       "</table>\n",
       "</div>\n",
       "      <button class=\"colab-df-convert\" onclick=\"convertToInteractive('df-efed7a15-c39e-4699-a198-0d45d0a815ce')\"\n",
       "              title=\"Convert this dataframe to an interactive table.\"\n",
       "              style=\"display:none;\">\n",
       "        \n",
       "  <svg xmlns=\"http://www.w3.org/2000/svg\" height=\"24px\"viewBox=\"0 0 24 24\"\n",
       "       width=\"24px\">\n",
       "    <path d=\"M0 0h24v24H0V0z\" fill=\"none\"/>\n",
       "    <path d=\"M18.56 5.44l.94 2.06.94-2.06 2.06-.94-2.06-.94-.94-2.06-.94 2.06-2.06.94zm-11 1L8.5 8.5l.94-2.06 2.06-.94-2.06-.94L8.5 2.5l-.94 2.06-2.06.94zm10 10l.94 2.06.94-2.06 2.06-.94-2.06-.94-.94-2.06-.94 2.06-2.06.94z\"/><path d=\"M17.41 7.96l-1.37-1.37c-.4-.4-.92-.59-1.43-.59-.52 0-1.04.2-1.43.59L10.3 9.45l-7.72 7.72c-.78.78-.78 2.05 0 2.83L4 21.41c.39.39.9.59 1.41.59.51 0 1.02-.2 1.41-.59l7.78-7.78 2.81-2.81c.8-.78.8-2.07 0-2.86zM5.41 20L4 18.59l7.72-7.72 1.47 1.35L5.41 20z\"/>\n",
       "  </svg>\n",
       "      </button>\n",
       "      \n",
       "  <style>\n",
       "    .colab-df-container {\n",
       "      display:flex;\n",
       "      flex-wrap:wrap;\n",
       "      gap: 12px;\n",
       "    }\n",
       "\n",
       "    .colab-df-convert {\n",
       "      background-color: #E8F0FE;\n",
       "      border: none;\n",
       "      border-radius: 50%;\n",
       "      cursor: pointer;\n",
       "      display: none;\n",
       "      fill: #1967D2;\n",
       "      height: 32px;\n",
       "      padding: 0 0 0 0;\n",
       "      width: 32px;\n",
       "    }\n",
       "\n",
       "    .colab-df-convert:hover {\n",
       "      background-color: #E2EBFA;\n",
       "      box-shadow: 0px 1px 2px rgba(60, 64, 67, 0.3), 0px 1px 3px 1px rgba(60, 64, 67, 0.15);\n",
       "      fill: #174EA6;\n",
       "    }\n",
       "\n",
       "    [theme=dark] .colab-df-convert {\n",
       "      background-color: #3B4455;\n",
       "      fill: #D2E3FC;\n",
       "    }\n",
       "\n",
       "    [theme=dark] .colab-df-convert:hover {\n",
       "      background-color: #434B5C;\n",
       "      box-shadow: 0px 1px 3px 1px rgba(0, 0, 0, 0.15);\n",
       "      filter: drop-shadow(0px 1px 2px rgba(0, 0, 0, 0.3));\n",
       "      fill: #FFFFFF;\n",
       "    }\n",
       "  </style>\n",
       "\n",
       "      <script>\n",
       "        const buttonEl =\n",
       "          document.querySelector('#df-efed7a15-c39e-4699-a198-0d45d0a815ce button.colab-df-convert');\n",
       "        buttonEl.style.display =\n",
       "          google.colab.kernel.accessAllowed ? 'block' : 'none';\n",
       "\n",
       "        async function convertToInteractive(key) {\n",
       "          const element = document.querySelector('#df-efed7a15-c39e-4699-a198-0d45d0a815ce');\n",
       "          const dataTable =\n",
       "            await google.colab.kernel.invokeFunction('convertToInteractive',\n",
       "                                                     [key], {});\n",
       "          if (!dataTable) return;\n",
       "\n",
       "          const docLinkHtml = 'Like what you see? Visit the ' +\n",
       "            '<a target=\"_blank\" href=https://colab.research.google.com/notebooks/data_table.ipynb>data table notebook</a>'\n",
       "            + ' to learn more about interactive tables.';\n",
       "          element.innerHTML = '';\n",
       "          dataTable['output_type'] = 'display_data';\n",
       "          await google.colab.output.renderOutput(dataTable, element);\n",
       "          const docLink = document.createElement('div');\n",
       "          docLink.innerHTML = docLinkHtml;\n",
       "          element.appendChild(docLink);\n",
       "        }\n",
       "      </script>\n",
       "    </div>\n",
       "  </div>\n",
       "  "
      ]
     },
     "metadata": {},
     "execution_count": 24
    }
   ],
   "source": [
    "water_withdrawals"
   ]
  },
  {
   "cell_type": "code",
   "execution_count": 25,
   "id": "27164cfd",
   "metadata": {
    "id": "27164cfd",
    "pycharm": {
     "name": "#%%\n"
    }
   },
   "outputs": [],
   "source": [
    "# turn withdrawals into negative numbers and returns into positive numbers.\n",
    "\n",
    "if water_withdrawals['AQ-WTotl'][0] > 0:\n",
    "    for i in water_withdrawals.columns:\n",
    "        water_withdrawals[i] = water_withdrawals[i]*-1\n",
    "\n",
    "if water_withdrawals['WW-PuRet'][0] < 0:\n",
    "    water_withdrawals['WW-PuRet'] = water_withdrawals['WW-PuRet']*-1"
   ]
  },
  {
   "cell_type": "code",
   "execution_count": 26,
   "id": "58c0eece",
   "metadata": {
    "scrolled": true,
    "colab": {
     "base_uri": "https://localhost:8080/",
     "height": 0
    },
    "id": "58c0eece",
    "outputId": "8ad53beb-af45-4bba-c80b-e4694137beb6",
    "pycharm": {
     "name": "#%%\n"
    }
   },
   "outputs": [
    {
     "output_type": "execute_result",
     "data": {
      "text/plain": [
       "            AQ-WTotl  CO-WFrTotl  HY-ToUse  IR-WFrTo  LS-WTotl  MI-WTotl  \\\n",
       "YEAR                                                                       \n",
       "2000-01-01   -154.62      -22.29 -52485.04 -14975.81    -45.54   -231.62   \n",
       "2005-01-01   -142.15      -26.94 -43617.69 -14818.85    -41.35   -183.30   \n",
       "2010-01-01   -151.35      -30.49 -46076.89 -13648.80    -43.77   -176.37   \n",
       "\n",
       "            PS-WTotl  DO-WTotl  IN-WTotl  PT-CUTot  WW-PuRet  \n",
       "YEAR                                                          \n",
       "2000-01-01  -1910.20    -66.68    -33.00   -235.90   1786.04  \n",
       "2005-01-01  -1988.93    -75.60    -31.35   -332.57   1699.78  \n",
       "2010-01-01  -2096.00    -69.44    -31.67   -328.20   1753.24  "
      ],
      "text/html": [
       "\n",
       "  <div id=\"df-d3d995e8-a883-4867-8296-9d3f672f5789\">\n",
       "    <div class=\"colab-df-container\">\n",
       "      <div>\n",
       "<style scoped>\n",
       "    .dataframe tbody tr th:only-of-type {\n",
       "        vertical-align: middle;\n",
       "    }\n",
       "\n",
       "    .dataframe tbody tr th {\n",
       "        vertical-align: top;\n",
       "    }\n",
       "\n",
       "    .dataframe thead th {\n",
       "        text-align: right;\n",
       "    }\n",
       "</style>\n",
       "<table border=\"1\" class=\"dataframe\">\n",
       "  <thead>\n",
       "    <tr style=\"text-align: right;\">\n",
       "      <th></th>\n",
       "      <th>AQ-WTotl</th>\n",
       "      <th>CO-WFrTotl</th>\n",
       "      <th>HY-ToUse</th>\n",
       "      <th>IR-WFrTo</th>\n",
       "      <th>LS-WTotl</th>\n",
       "      <th>MI-WTotl</th>\n",
       "      <th>PS-WTotl</th>\n",
       "      <th>DO-WTotl</th>\n",
       "      <th>IN-WTotl</th>\n",
       "      <th>PT-CUTot</th>\n",
       "      <th>WW-PuRet</th>\n",
       "    </tr>\n",
       "    <tr>\n",
       "      <th>YEAR</th>\n",
       "      <th></th>\n",
       "      <th></th>\n",
       "      <th></th>\n",
       "      <th></th>\n",
       "      <th></th>\n",
       "      <th></th>\n",
       "      <th></th>\n",
       "      <th></th>\n",
       "      <th></th>\n",
       "      <th></th>\n",
       "      <th></th>\n",
       "    </tr>\n",
       "  </thead>\n",
       "  <tbody>\n",
       "    <tr>\n",
       "      <th>2000-01-01</th>\n",
       "      <td>-154.62</td>\n",
       "      <td>-22.29</td>\n",
       "      <td>-52485.04</td>\n",
       "      <td>-14975.81</td>\n",
       "      <td>-45.54</td>\n",
       "      <td>-231.62</td>\n",
       "      <td>-1910.20</td>\n",
       "      <td>-66.68</td>\n",
       "      <td>-33.00</td>\n",
       "      <td>-235.90</td>\n",
       "      <td>1786.04</td>\n",
       "    </tr>\n",
       "    <tr>\n",
       "      <th>2005-01-01</th>\n",
       "      <td>-142.15</td>\n",
       "      <td>-26.94</td>\n",
       "      <td>-43617.69</td>\n",
       "      <td>-14818.85</td>\n",
       "      <td>-41.35</td>\n",
       "      <td>-183.30</td>\n",
       "      <td>-1988.93</td>\n",
       "      <td>-75.60</td>\n",
       "      <td>-31.35</td>\n",
       "      <td>-332.57</td>\n",
       "      <td>1699.78</td>\n",
       "    </tr>\n",
       "    <tr>\n",
       "      <th>2010-01-01</th>\n",
       "      <td>-151.35</td>\n",
       "      <td>-30.49</td>\n",
       "      <td>-46076.89</td>\n",
       "      <td>-13648.80</td>\n",
       "      <td>-43.77</td>\n",
       "      <td>-176.37</td>\n",
       "      <td>-2096.00</td>\n",
       "      <td>-69.44</td>\n",
       "      <td>-31.67</td>\n",
       "      <td>-328.20</td>\n",
       "      <td>1753.24</td>\n",
       "    </tr>\n",
       "  </tbody>\n",
       "</table>\n",
       "</div>\n",
       "      <button class=\"colab-df-convert\" onclick=\"convertToInteractive('df-d3d995e8-a883-4867-8296-9d3f672f5789')\"\n",
       "              title=\"Convert this dataframe to an interactive table.\"\n",
       "              style=\"display:none;\">\n",
       "        \n",
       "  <svg xmlns=\"http://www.w3.org/2000/svg\" height=\"24px\"viewBox=\"0 0 24 24\"\n",
       "       width=\"24px\">\n",
       "    <path d=\"M0 0h24v24H0V0z\" fill=\"none\"/>\n",
       "    <path d=\"M18.56 5.44l.94 2.06.94-2.06 2.06-.94-2.06-.94-.94-2.06-.94 2.06-2.06.94zm-11 1L8.5 8.5l.94-2.06 2.06-.94-2.06-.94L8.5 2.5l-.94 2.06-2.06.94zm10 10l.94 2.06.94-2.06 2.06-.94-2.06-.94-.94-2.06-.94 2.06-2.06.94z\"/><path d=\"M17.41 7.96l-1.37-1.37c-.4-.4-.92-.59-1.43-.59-.52 0-1.04.2-1.43.59L10.3 9.45l-7.72 7.72c-.78.78-.78 2.05 0 2.83L4 21.41c.39.39.9.59 1.41.59.51 0 1.02-.2 1.41-.59l7.78-7.78 2.81-2.81c.8-.78.8-2.07 0-2.86zM5.41 20L4 18.59l7.72-7.72 1.47 1.35L5.41 20z\"/>\n",
       "  </svg>\n",
       "      </button>\n",
       "      \n",
       "  <style>\n",
       "    .colab-df-container {\n",
       "      display:flex;\n",
       "      flex-wrap:wrap;\n",
       "      gap: 12px;\n",
       "    }\n",
       "\n",
       "    .colab-df-convert {\n",
       "      background-color: #E8F0FE;\n",
       "      border: none;\n",
       "      border-radius: 50%;\n",
       "      cursor: pointer;\n",
       "      display: none;\n",
       "      fill: #1967D2;\n",
       "      height: 32px;\n",
       "      padding: 0 0 0 0;\n",
       "      width: 32px;\n",
       "    }\n",
       "\n",
       "    .colab-df-convert:hover {\n",
       "      background-color: #E2EBFA;\n",
       "      box-shadow: 0px 1px 2px rgba(60, 64, 67, 0.3), 0px 1px 3px 1px rgba(60, 64, 67, 0.15);\n",
       "      fill: #174EA6;\n",
       "    }\n",
       "\n",
       "    [theme=dark] .colab-df-convert {\n",
       "      background-color: #3B4455;\n",
       "      fill: #D2E3FC;\n",
       "    }\n",
       "\n",
       "    [theme=dark] .colab-df-convert:hover {\n",
       "      background-color: #434B5C;\n",
       "      box-shadow: 0px 1px 3px 1px rgba(0, 0, 0, 0.15);\n",
       "      filter: drop-shadow(0px 1px 2px rgba(0, 0, 0, 0.3));\n",
       "      fill: #FFFFFF;\n",
       "    }\n",
       "  </style>\n",
       "\n",
       "      <script>\n",
       "        const buttonEl =\n",
       "          document.querySelector('#df-d3d995e8-a883-4867-8296-9d3f672f5789 button.colab-df-convert');\n",
       "        buttonEl.style.display =\n",
       "          google.colab.kernel.accessAllowed ? 'block' : 'none';\n",
       "\n",
       "        async function convertToInteractive(key) {\n",
       "          const element = document.querySelector('#df-d3d995e8-a883-4867-8296-9d3f672f5789');\n",
       "          const dataTable =\n",
       "            await google.colab.kernel.invokeFunction('convertToInteractive',\n",
       "                                                     [key], {});\n",
       "          if (!dataTable) return;\n",
       "\n",
       "          const docLinkHtml = 'Like what you see? Visit the ' +\n",
       "            '<a target=\"_blank\" href=https://colab.research.google.com/notebooks/data_table.ipynb>data table notebook</a>'\n",
       "            + ' to learn more about interactive tables.';\n",
       "          element.innerHTML = '';\n",
       "          dataTable['output_type'] = 'display_data';\n",
       "          await google.colab.output.renderOutput(dataTable, element);\n",
       "          const docLink = document.createElement('div');\n",
       "          docLink.innerHTML = docLinkHtml;\n",
       "          element.appendChild(docLink);\n",
       "        }\n",
       "      </script>\n",
       "    </div>\n",
       "  </div>\n",
       "  "
      ]
     },
     "metadata": {},
     "execution_count": 26
    }
   ],
   "source": [
    "water_withdrawals"
   ]
  },
  {
   "cell_type": "raw",
   "id": "76c14c93",
   "metadata": {
    "id": "76c14c93",
    "pycharm": {
     "name": "#%% raw\n"
    }
   },
   "source": [
    "\n",
    "                                         water_withdrawals['HY-ToUse'] + \\\n",
    "                                         water_withdrawals['PS-WTotl'] + \\"
   ]
  },
  {
   "cell_type": "code",
   "execution_count": 27,
   "id": "b388aa71",
   "metadata": {
    "id": "b388aa71",
    "pycharm": {
     "name": "#%%\n"
    }
   },
   "outputs": [],
   "source": [
    "water_withdrawals['Total Withdrawals'] = water_withdrawals['AQ-WTotl'] + \\\n",
    "                                         water_withdrawals['CO-WFrTotl'] + \\\n",
    "                                         water_withdrawals['IR-WFrTo'] + \\\n",
    "                                         water_withdrawals['LS-WTotl'] + \\\n",
    "                                         water_withdrawals['MI-WTotl'] + \\\n",
    "                                         water_withdrawals['DO-WTotl'] + \\\n",
    "                                         water_withdrawals['IN-WTotl'] + \\\n",
    "                                         water_withdrawals['PT-CUTot'] + \\\n",
    "                                         water_withdrawals['WW-PuRet']"
   ]
  },
  {
   "cell_type": "code",
   "execution_count": 28,
   "id": "3fa63516",
   "metadata": {
    "scrolled": true,
    "colab": {
     "base_uri": "https://localhost:8080/",
     "height": 0
    },
    "id": "3fa63516",
    "outputId": "13a133cf-5576-4486-ad7e-e5e931ee15fd",
    "pycharm": {
     "name": "#%%\n"
    }
   },
   "outputs": [
    {
     "output_type": "execute_result",
     "data": {
      "text/plain": [
       "            AQ-WTotl  CO-WFrTotl  HY-ToUse  IR-WFrTo  LS-WTotl  MI-WTotl  \\\n",
       "YEAR                                                                       \n",
       "2000-01-01   -154.62      -22.29 -52485.04 -14975.81    -45.54   -231.62   \n",
       "2005-01-01   -142.15      -26.94 -43617.69 -14818.85    -41.35   -183.30   \n",
       "2010-01-01   -151.35      -30.49 -46076.89 -13648.80    -43.77   -176.37   \n",
       "\n",
       "            PS-WTotl  DO-WTotl  IN-WTotl  PT-CUTot  WW-PuRet  \\\n",
       "YEAR                                                           \n",
       "2000-01-01  -1910.20    -66.68    -33.00   -235.90   1786.04   \n",
       "2005-01-01  -1988.93    -75.60    -31.35   -332.57   1699.78   \n",
       "2010-01-01  -2096.00    -69.44    -31.67   -328.20   1753.24   \n",
       "\n",
       "            Total Withdrawals  \n",
       "YEAR                           \n",
       "2000-01-01          -13979.42  \n",
       "2005-01-01          -13952.33  \n",
       "2010-01-01          -12726.85  "
      ],
      "text/html": [
       "\n",
       "  <div id=\"df-353fea44-ad2a-4482-8717-ed18384fd17e\">\n",
       "    <div class=\"colab-df-container\">\n",
       "      <div>\n",
       "<style scoped>\n",
       "    .dataframe tbody tr th:only-of-type {\n",
       "        vertical-align: middle;\n",
       "    }\n",
       "\n",
       "    .dataframe tbody tr th {\n",
       "        vertical-align: top;\n",
       "    }\n",
       "\n",
       "    .dataframe thead th {\n",
       "        text-align: right;\n",
       "    }\n",
       "</style>\n",
       "<table border=\"1\" class=\"dataframe\">\n",
       "  <thead>\n",
       "    <tr style=\"text-align: right;\">\n",
       "      <th></th>\n",
       "      <th>AQ-WTotl</th>\n",
       "      <th>CO-WFrTotl</th>\n",
       "      <th>HY-ToUse</th>\n",
       "      <th>IR-WFrTo</th>\n",
       "      <th>LS-WTotl</th>\n",
       "      <th>MI-WTotl</th>\n",
       "      <th>PS-WTotl</th>\n",
       "      <th>DO-WTotl</th>\n",
       "      <th>IN-WTotl</th>\n",
       "      <th>PT-CUTot</th>\n",
       "      <th>WW-PuRet</th>\n",
       "      <th>Total Withdrawals</th>\n",
       "    </tr>\n",
       "    <tr>\n",
       "      <th>YEAR</th>\n",
       "      <th></th>\n",
       "      <th></th>\n",
       "      <th></th>\n",
       "      <th></th>\n",
       "      <th></th>\n",
       "      <th></th>\n",
       "      <th></th>\n",
       "      <th></th>\n",
       "      <th></th>\n",
       "      <th></th>\n",
       "      <th></th>\n",
       "      <th></th>\n",
       "    </tr>\n",
       "  </thead>\n",
       "  <tbody>\n",
       "    <tr>\n",
       "      <th>2000-01-01</th>\n",
       "      <td>-154.62</td>\n",
       "      <td>-22.29</td>\n",
       "      <td>-52485.04</td>\n",
       "      <td>-14975.81</td>\n",
       "      <td>-45.54</td>\n",
       "      <td>-231.62</td>\n",
       "      <td>-1910.20</td>\n",
       "      <td>-66.68</td>\n",
       "      <td>-33.00</td>\n",
       "      <td>-235.90</td>\n",
       "      <td>1786.04</td>\n",
       "      <td>-13979.42</td>\n",
       "    </tr>\n",
       "    <tr>\n",
       "      <th>2005-01-01</th>\n",
       "      <td>-142.15</td>\n",
       "      <td>-26.94</td>\n",
       "      <td>-43617.69</td>\n",
       "      <td>-14818.85</td>\n",
       "      <td>-41.35</td>\n",
       "      <td>-183.30</td>\n",
       "      <td>-1988.93</td>\n",
       "      <td>-75.60</td>\n",
       "      <td>-31.35</td>\n",
       "      <td>-332.57</td>\n",
       "      <td>1699.78</td>\n",
       "      <td>-13952.33</td>\n",
       "    </tr>\n",
       "    <tr>\n",
       "      <th>2010-01-01</th>\n",
       "      <td>-151.35</td>\n",
       "      <td>-30.49</td>\n",
       "      <td>-46076.89</td>\n",
       "      <td>-13648.80</td>\n",
       "      <td>-43.77</td>\n",
       "      <td>-176.37</td>\n",
       "      <td>-2096.00</td>\n",
       "      <td>-69.44</td>\n",
       "      <td>-31.67</td>\n",
       "      <td>-328.20</td>\n",
       "      <td>1753.24</td>\n",
       "      <td>-12726.85</td>\n",
       "    </tr>\n",
       "  </tbody>\n",
       "</table>\n",
       "</div>\n",
       "      <button class=\"colab-df-convert\" onclick=\"convertToInteractive('df-353fea44-ad2a-4482-8717-ed18384fd17e')\"\n",
       "              title=\"Convert this dataframe to an interactive table.\"\n",
       "              style=\"display:none;\">\n",
       "        \n",
       "  <svg xmlns=\"http://www.w3.org/2000/svg\" height=\"24px\"viewBox=\"0 0 24 24\"\n",
       "       width=\"24px\">\n",
       "    <path d=\"M0 0h24v24H0V0z\" fill=\"none\"/>\n",
       "    <path d=\"M18.56 5.44l.94 2.06.94-2.06 2.06-.94-2.06-.94-.94-2.06-.94 2.06-2.06.94zm-11 1L8.5 8.5l.94-2.06 2.06-.94-2.06-.94L8.5 2.5l-.94 2.06-2.06.94zm10 10l.94 2.06.94-2.06 2.06-.94-2.06-.94-.94-2.06-.94 2.06-2.06.94z\"/><path d=\"M17.41 7.96l-1.37-1.37c-.4-.4-.92-.59-1.43-.59-.52 0-1.04.2-1.43.59L10.3 9.45l-7.72 7.72c-.78.78-.78 2.05 0 2.83L4 21.41c.39.39.9.59 1.41.59.51 0 1.02-.2 1.41-.59l7.78-7.78 2.81-2.81c.8-.78.8-2.07 0-2.86zM5.41 20L4 18.59l7.72-7.72 1.47 1.35L5.41 20z\"/>\n",
       "  </svg>\n",
       "      </button>\n",
       "      \n",
       "  <style>\n",
       "    .colab-df-container {\n",
       "      display:flex;\n",
       "      flex-wrap:wrap;\n",
       "      gap: 12px;\n",
       "    }\n",
       "\n",
       "    .colab-df-convert {\n",
       "      background-color: #E8F0FE;\n",
       "      border: none;\n",
       "      border-radius: 50%;\n",
       "      cursor: pointer;\n",
       "      display: none;\n",
       "      fill: #1967D2;\n",
       "      height: 32px;\n",
       "      padding: 0 0 0 0;\n",
       "      width: 32px;\n",
       "    }\n",
       "\n",
       "    .colab-df-convert:hover {\n",
       "      background-color: #E2EBFA;\n",
       "      box-shadow: 0px 1px 2px rgba(60, 64, 67, 0.3), 0px 1px 3px 1px rgba(60, 64, 67, 0.15);\n",
       "      fill: #174EA6;\n",
       "    }\n",
       "\n",
       "    [theme=dark] .colab-df-convert {\n",
       "      background-color: #3B4455;\n",
       "      fill: #D2E3FC;\n",
       "    }\n",
       "\n",
       "    [theme=dark] .colab-df-convert:hover {\n",
       "      background-color: #434B5C;\n",
       "      box-shadow: 0px 1px 3px 1px rgba(0, 0, 0, 0.15);\n",
       "      filter: drop-shadow(0px 1px 2px rgba(0, 0, 0, 0.3));\n",
       "      fill: #FFFFFF;\n",
       "    }\n",
       "  </style>\n",
       "\n",
       "      <script>\n",
       "        const buttonEl =\n",
       "          document.querySelector('#df-353fea44-ad2a-4482-8717-ed18384fd17e button.colab-df-convert');\n",
       "        buttonEl.style.display =\n",
       "          google.colab.kernel.accessAllowed ? 'block' : 'none';\n",
       "\n",
       "        async function convertToInteractive(key) {\n",
       "          const element = document.querySelector('#df-353fea44-ad2a-4482-8717-ed18384fd17e');\n",
       "          const dataTable =\n",
       "            await google.colab.kernel.invokeFunction('convertToInteractive',\n",
       "                                                     [key], {});\n",
       "          if (!dataTable) return;\n",
       "\n",
       "          const docLinkHtml = 'Like what you see? Visit the ' +\n",
       "            '<a target=\"_blank\" href=https://colab.research.google.com/notebooks/data_table.ipynb>data table notebook</a>'\n",
       "            + ' to learn more about interactive tables.';\n",
       "          element.innerHTML = '';\n",
       "          dataTable['output_type'] = 'display_data';\n",
       "          await google.colab.output.renderOutput(dataTable, element);\n",
       "          const docLink = document.createElement('div');\n",
       "          docLink.innerHTML = docLinkHtml;\n",
       "          element.appendChild(docLink);\n",
       "        }\n",
       "      </script>\n",
       "    </div>\n",
       "  </div>\n",
       "  "
      ]
     },
     "metadata": {},
     "execution_count": 28
    }
   ],
   "source": [
    "water_withdrawals"
   ]
  },
  {
   "cell_type": "markdown",
   "id": "a6fe908c",
   "metadata": {
    "id": "a6fe908c",
    "pycharm": {
     "name": "#%% md\n"
    }
   },
   "source": [
    "#### Addressing differences in units\n",
    "\n",
    "The master dataset has water in dam^3 and our water withdrawals are in TAFs.\n",
    "\n",
    "So, we will convert our withdrawals to dam^3.\n",
    "\n",
    "$\\dfrac {1233.48 \\text{dam}^3}{1000 \\text{acre-feet}}$\n",
    "\n",
    "so simply multiply the rows by 1233.48"
   ]
  },
  {
   "cell_type": "code",
   "execution_count": 29,
   "id": "522980b8",
   "metadata": {
    "id": "522980b8",
    "pycharm": {
     "name": "#%%\n"
    }
   },
   "outputs": [],
   "source": [
    "for i in water_withdrawals.columns:\n",
    "        water_withdrawals[i] = water_withdrawals[i]*1233.48"
   ]
  },
  {
   "cell_type": "markdown",
   "id": "0cb54508",
   "metadata": {
    "id": "0cb54508",
    "pycharm": {
     "name": "#%% md\n"
    }
   },
   "source": [
    "Now all measurements of water are in cubic decameters ($\\text{dam}^3$)"
   ]
  },
  {
   "cell_type": "markdown",
   "id": "d929bd0e",
   "metadata": {
    "id": "d929bd0e",
    "pycharm": {
     "name": "#%% md\n"
    }
   },
   "source": [
    "### Resampling and visualizing"
   ]
  },
  {
   "cell_type": "code",
   "execution_count": 30,
   "id": "d44e8c38",
   "metadata": {
    "id": "d44e8c38",
    "pycharm": {
     "name": "#%%\n"
    }
   },
   "outputs": [],
   "source": [
    "graphing = masterdata.join(water_withdrawals.drop(columns=['HY-ToUse', 'PS-WTotl'])).resample('1D').median()"
   ]
  },
  {
   "cell_type": "code",
   "execution_count": 31,
   "id": "d79fe279",
   "metadata": {
    "id": "d79fe279",
    "pycharm": {
     "name": "#%%\n"
    }
   },
   "outputs": [],
   "source": [
    "graphing = graphing.fillna(value=None, method='backfill', axis=None, limit=None, downcast=None)\n",
    "graphing = graphing.fillna(value=None, method='ffill', axis=None, limit=None, downcast=None)"
   ]
  },
  {
   "cell_type": "code",
   "execution_count": 32,
   "id": "15c15f86",
   "metadata": {
    "colab": {
     "base_uri": "https://localhost:8080/",
     "height": 0
    },
    "id": "15c15f86",
    "outputId": "05ccc2d7-0016-40de-d056-8abcc57931f1",
    "pycharm": {
     "name": "#%%\n"
    }
   },
   "outputs": [
    {
     "output_type": "execute_result",
     "data": {
      "text/plain": [
       "                SWE  Water Storage     AQ-WTotl  CO-WFrTotl      IR-WFrTo  \\\n",
       "Date                                                                        \n",
       "1978-09-30      0.0     29913012.0 -190720.6776 -27494.2692 -1.847236e+07   \n",
       "1978-10-01   2354.0     29894823.0 -190720.6776 -27494.2692 -1.847236e+07   \n",
       "1978-10-02      0.0     29800335.0 -190720.6776 -27494.2692 -1.847236e+07   \n",
       "1978-10-03      0.0     29826110.0 -190720.6776 -27494.2692 -1.847236e+07   \n",
       "1978-10-04      0.0     29754881.0 -190720.6776 -27494.2692 -1.847236e+07   \n",
       "...             ...            ...          ...         ...           ...   \n",
       "2022-03-31  45372.0     17685824.0 -186687.1980 -37608.8052 -1.683552e+07   \n",
       "2022-04-01  45536.0     17639916.0 -186687.1980 -37608.8052 -1.683552e+07   \n",
       "2022-04-02  44888.0     17641640.0 -186687.1980 -37608.8052 -1.683552e+07   \n",
       "2022-04-03  44031.0     17641640.0 -186687.1980 -37608.8052 -1.683552e+07   \n",
       "2022-04-04  42545.0     17641640.0 -186687.1980 -37608.8052 -1.683552e+07   \n",
       "\n",
       "              LS-WTotl     MI-WTotl    DO-WTotl    IN-WTotl    PT-CUTot  \\\n",
       "Date                                                                      \n",
       "1978-09-30 -56172.6792 -285698.6376 -82248.4464 -40704.8400 -290977.932   \n",
       "1978-10-01 -56172.6792 -285698.6376 -82248.4464 -40704.8400 -290977.932   \n",
       "1978-10-02 -56172.6792 -285698.6376 -82248.4464 -40704.8400 -290977.932   \n",
       "1978-10-03 -56172.6792 -285698.6376 -82248.4464 -40704.8400 -290977.932   \n",
       "1978-10-04 -56172.6792 -285698.6376 -82248.4464 -40704.8400 -290977.932   \n",
       "...                ...          ...         ...         ...         ...   \n",
       "2022-03-31 -53989.4196 -217548.8676 -85652.8512 -39064.3116 -404828.136   \n",
       "2022-04-01 -53989.4196 -217548.8676 -85652.8512 -39064.3116 -404828.136   \n",
       "2022-04-02 -53989.4196 -217548.8676 -85652.8512 -39064.3116 -404828.136   \n",
       "2022-04-03 -53989.4196 -217548.8676 -85652.8512 -39064.3116 -404828.136   \n",
       "2022-04-04 -53989.4196 -217548.8676 -85652.8512 -39064.3116 -404828.136   \n",
       "\n",
       "                WW-PuRet  Total Withdrawals  \n",
       "Date                                         \n",
       "1978-09-30  2.203045e+06      -1.724333e+07  \n",
       "1978-10-01  2.203045e+06      -1.724333e+07  \n",
       "1978-10-02  2.203045e+06      -1.724333e+07  \n",
       "1978-10-03  2.203045e+06      -1.724333e+07  \n",
       "1978-10-04  2.203045e+06      -1.724333e+07  \n",
       "...                  ...                ...  \n",
       "2022-03-31  2.162586e+06      -1.569831e+07  \n",
       "2022-04-01  2.162586e+06      -1.569831e+07  \n",
       "2022-04-02  2.162586e+06      -1.569831e+07  \n",
       "2022-04-03  2.162586e+06      -1.569831e+07  \n",
       "2022-04-04  2.162586e+06      -1.569831e+07  \n",
       "\n",
       "[15893 rows x 12 columns]"
      ],
      "text/html": [
       "\n",
       "  <div id=\"df-d0fdbf6b-866d-44cd-8068-fc20eb1dbe88\">\n",
       "    <div class=\"colab-df-container\">\n",
       "      <div>\n",
       "<style scoped>\n",
       "    .dataframe tbody tr th:only-of-type {\n",
       "        vertical-align: middle;\n",
       "    }\n",
       "\n",
       "    .dataframe tbody tr th {\n",
       "        vertical-align: top;\n",
       "    }\n",
       "\n",
       "    .dataframe thead th {\n",
       "        text-align: right;\n",
       "    }\n",
       "</style>\n",
       "<table border=\"1\" class=\"dataframe\">\n",
       "  <thead>\n",
       "    <tr style=\"text-align: right;\">\n",
       "      <th></th>\n",
       "      <th>SWE</th>\n",
       "      <th>Water Storage</th>\n",
       "      <th>AQ-WTotl</th>\n",
       "      <th>CO-WFrTotl</th>\n",
       "      <th>IR-WFrTo</th>\n",
       "      <th>LS-WTotl</th>\n",
       "      <th>MI-WTotl</th>\n",
       "      <th>DO-WTotl</th>\n",
       "      <th>IN-WTotl</th>\n",
       "      <th>PT-CUTot</th>\n",
       "      <th>WW-PuRet</th>\n",
       "      <th>Total Withdrawals</th>\n",
       "    </tr>\n",
       "    <tr>\n",
       "      <th>Date</th>\n",
       "      <th></th>\n",
       "      <th></th>\n",
       "      <th></th>\n",
       "      <th></th>\n",
       "      <th></th>\n",
       "      <th></th>\n",
       "      <th></th>\n",
       "      <th></th>\n",
       "      <th></th>\n",
       "      <th></th>\n",
       "      <th></th>\n",
       "      <th></th>\n",
       "    </tr>\n",
       "  </thead>\n",
       "  <tbody>\n",
       "    <tr>\n",
       "      <th>1978-09-30</th>\n",
       "      <td>0.0</td>\n",
       "      <td>29913012.0</td>\n",
       "      <td>-190720.6776</td>\n",
       "      <td>-27494.2692</td>\n",
       "      <td>-1.847236e+07</td>\n",
       "      <td>-56172.6792</td>\n",
       "      <td>-285698.6376</td>\n",
       "      <td>-82248.4464</td>\n",
       "      <td>-40704.8400</td>\n",
       "      <td>-290977.932</td>\n",
       "      <td>2.203045e+06</td>\n",
       "      <td>-1.724333e+07</td>\n",
       "    </tr>\n",
       "    <tr>\n",
       "      <th>1978-10-01</th>\n",
       "      <td>2354.0</td>\n",
       "      <td>29894823.0</td>\n",
       "      <td>-190720.6776</td>\n",
       "      <td>-27494.2692</td>\n",
       "      <td>-1.847236e+07</td>\n",
       "      <td>-56172.6792</td>\n",
       "      <td>-285698.6376</td>\n",
       "      <td>-82248.4464</td>\n",
       "      <td>-40704.8400</td>\n",
       "      <td>-290977.932</td>\n",
       "      <td>2.203045e+06</td>\n",
       "      <td>-1.724333e+07</td>\n",
       "    </tr>\n",
       "    <tr>\n",
       "      <th>1978-10-02</th>\n",
       "      <td>0.0</td>\n",
       "      <td>29800335.0</td>\n",
       "      <td>-190720.6776</td>\n",
       "      <td>-27494.2692</td>\n",
       "      <td>-1.847236e+07</td>\n",
       "      <td>-56172.6792</td>\n",
       "      <td>-285698.6376</td>\n",
       "      <td>-82248.4464</td>\n",
       "      <td>-40704.8400</td>\n",
       "      <td>-290977.932</td>\n",
       "      <td>2.203045e+06</td>\n",
       "      <td>-1.724333e+07</td>\n",
       "    </tr>\n",
       "    <tr>\n",
       "      <th>1978-10-03</th>\n",
       "      <td>0.0</td>\n",
       "      <td>29826110.0</td>\n",
       "      <td>-190720.6776</td>\n",
       "      <td>-27494.2692</td>\n",
       "      <td>-1.847236e+07</td>\n",
       "      <td>-56172.6792</td>\n",
       "      <td>-285698.6376</td>\n",
       "      <td>-82248.4464</td>\n",
       "      <td>-40704.8400</td>\n",
       "      <td>-290977.932</td>\n",
       "      <td>2.203045e+06</td>\n",
       "      <td>-1.724333e+07</td>\n",
       "    </tr>\n",
       "    <tr>\n",
       "      <th>1978-10-04</th>\n",
       "      <td>0.0</td>\n",
       "      <td>29754881.0</td>\n",
       "      <td>-190720.6776</td>\n",
       "      <td>-27494.2692</td>\n",
       "      <td>-1.847236e+07</td>\n",
       "      <td>-56172.6792</td>\n",
       "      <td>-285698.6376</td>\n",
       "      <td>-82248.4464</td>\n",
       "      <td>-40704.8400</td>\n",
       "      <td>-290977.932</td>\n",
       "      <td>2.203045e+06</td>\n",
       "      <td>-1.724333e+07</td>\n",
       "    </tr>\n",
       "    <tr>\n",
       "      <th>...</th>\n",
       "      <td>...</td>\n",
       "      <td>...</td>\n",
       "      <td>...</td>\n",
       "      <td>...</td>\n",
       "      <td>...</td>\n",
       "      <td>...</td>\n",
       "      <td>...</td>\n",
       "      <td>...</td>\n",
       "      <td>...</td>\n",
       "      <td>...</td>\n",
       "      <td>...</td>\n",
       "      <td>...</td>\n",
       "    </tr>\n",
       "    <tr>\n",
       "      <th>2022-03-31</th>\n",
       "      <td>45372.0</td>\n",
       "      <td>17685824.0</td>\n",
       "      <td>-186687.1980</td>\n",
       "      <td>-37608.8052</td>\n",
       "      <td>-1.683552e+07</td>\n",
       "      <td>-53989.4196</td>\n",
       "      <td>-217548.8676</td>\n",
       "      <td>-85652.8512</td>\n",
       "      <td>-39064.3116</td>\n",
       "      <td>-404828.136</td>\n",
       "      <td>2.162586e+06</td>\n",
       "      <td>-1.569831e+07</td>\n",
       "    </tr>\n",
       "    <tr>\n",
       "      <th>2022-04-01</th>\n",
       "      <td>45536.0</td>\n",
       "      <td>17639916.0</td>\n",
       "      <td>-186687.1980</td>\n",
       "      <td>-37608.8052</td>\n",
       "      <td>-1.683552e+07</td>\n",
       "      <td>-53989.4196</td>\n",
       "      <td>-217548.8676</td>\n",
       "      <td>-85652.8512</td>\n",
       "      <td>-39064.3116</td>\n",
       "      <td>-404828.136</td>\n",
       "      <td>2.162586e+06</td>\n",
       "      <td>-1.569831e+07</td>\n",
       "    </tr>\n",
       "    <tr>\n",
       "      <th>2022-04-02</th>\n",
       "      <td>44888.0</td>\n",
       "      <td>17641640.0</td>\n",
       "      <td>-186687.1980</td>\n",
       "      <td>-37608.8052</td>\n",
       "      <td>-1.683552e+07</td>\n",
       "      <td>-53989.4196</td>\n",
       "      <td>-217548.8676</td>\n",
       "      <td>-85652.8512</td>\n",
       "      <td>-39064.3116</td>\n",
       "      <td>-404828.136</td>\n",
       "      <td>2.162586e+06</td>\n",
       "      <td>-1.569831e+07</td>\n",
       "    </tr>\n",
       "    <tr>\n",
       "      <th>2022-04-03</th>\n",
       "      <td>44031.0</td>\n",
       "      <td>17641640.0</td>\n",
       "      <td>-186687.1980</td>\n",
       "      <td>-37608.8052</td>\n",
       "      <td>-1.683552e+07</td>\n",
       "      <td>-53989.4196</td>\n",
       "      <td>-217548.8676</td>\n",
       "      <td>-85652.8512</td>\n",
       "      <td>-39064.3116</td>\n",
       "      <td>-404828.136</td>\n",
       "      <td>2.162586e+06</td>\n",
       "      <td>-1.569831e+07</td>\n",
       "    </tr>\n",
       "    <tr>\n",
       "      <th>2022-04-04</th>\n",
       "      <td>42545.0</td>\n",
       "      <td>17641640.0</td>\n",
       "      <td>-186687.1980</td>\n",
       "      <td>-37608.8052</td>\n",
       "      <td>-1.683552e+07</td>\n",
       "      <td>-53989.4196</td>\n",
       "      <td>-217548.8676</td>\n",
       "      <td>-85652.8512</td>\n",
       "      <td>-39064.3116</td>\n",
       "      <td>-404828.136</td>\n",
       "      <td>2.162586e+06</td>\n",
       "      <td>-1.569831e+07</td>\n",
       "    </tr>\n",
       "  </tbody>\n",
       "</table>\n",
       "<p>15893 rows × 12 columns</p>\n",
       "</div>\n",
       "      <button class=\"colab-df-convert\" onclick=\"convertToInteractive('df-d0fdbf6b-866d-44cd-8068-fc20eb1dbe88')\"\n",
       "              title=\"Convert this dataframe to an interactive table.\"\n",
       "              style=\"display:none;\">\n",
       "        \n",
       "  <svg xmlns=\"http://www.w3.org/2000/svg\" height=\"24px\"viewBox=\"0 0 24 24\"\n",
       "       width=\"24px\">\n",
       "    <path d=\"M0 0h24v24H0V0z\" fill=\"none\"/>\n",
       "    <path d=\"M18.56 5.44l.94 2.06.94-2.06 2.06-.94-2.06-.94-.94-2.06-.94 2.06-2.06.94zm-11 1L8.5 8.5l.94-2.06 2.06-.94-2.06-.94L8.5 2.5l-.94 2.06-2.06.94zm10 10l.94 2.06.94-2.06 2.06-.94-2.06-.94-.94-2.06-.94 2.06-2.06.94z\"/><path d=\"M17.41 7.96l-1.37-1.37c-.4-.4-.92-.59-1.43-.59-.52 0-1.04.2-1.43.59L10.3 9.45l-7.72 7.72c-.78.78-.78 2.05 0 2.83L4 21.41c.39.39.9.59 1.41.59.51 0 1.02-.2 1.41-.59l7.78-7.78 2.81-2.81c.8-.78.8-2.07 0-2.86zM5.41 20L4 18.59l7.72-7.72 1.47 1.35L5.41 20z\"/>\n",
       "  </svg>\n",
       "      </button>\n",
       "      \n",
       "  <style>\n",
       "    .colab-df-container {\n",
       "      display:flex;\n",
       "      flex-wrap:wrap;\n",
       "      gap: 12px;\n",
       "    }\n",
       "\n",
       "    .colab-df-convert {\n",
       "      background-color: #E8F0FE;\n",
       "      border: none;\n",
       "      border-radius: 50%;\n",
       "      cursor: pointer;\n",
       "      display: none;\n",
       "      fill: #1967D2;\n",
       "      height: 32px;\n",
       "      padding: 0 0 0 0;\n",
       "      width: 32px;\n",
       "    }\n",
       "\n",
       "    .colab-df-convert:hover {\n",
       "      background-color: #E2EBFA;\n",
       "      box-shadow: 0px 1px 2px rgba(60, 64, 67, 0.3), 0px 1px 3px 1px rgba(60, 64, 67, 0.15);\n",
       "      fill: #174EA6;\n",
       "    }\n",
       "\n",
       "    [theme=dark] .colab-df-convert {\n",
       "      background-color: #3B4455;\n",
       "      fill: #D2E3FC;\n",
       "    }\n",
       "\n",
       "    [theme=dark] .colab-df-convert:hover {\n",
       "      background-color: #434B5C;\n",
       "      box-shadow: 0px 1px 3px 1px rgba(0, 0, 0, 0.15);\n",
       "      filter: drop-shadow(0px 1px 2px rgba(0, 0, 0, 0.3));\n",
       "      fill: #FFFFFF;\n",
       "    }\n",
       "  </style>\n",
       "\n",
       "      <script>\n",
       "        const buttonEl =\n",
       "          document.querySelector('#df-d0fdbf6b-866d-44cd-8068-fc20eb1dbe88 button.colab-df-convert');\n",
       "        buttonEl.style.display =\n",
       "          google.colab.kernel.accessAllowed ? 'block' : 'none';\n",
       "\n",
       "        async function convertToInteractive(key) {\n",
       "          const element = document.querySelector('#df-d0fdbf6b-866d-44cd-8068-fc20eb1dbe88');\n",
       "          const dataTable =\n",
       "            await google.colab.kernel.invokeFunction('convertToInteractive',\n",
       "                                                     [key], {});\n",
       "          if (!dataTable) return;\n",
       "\n",
       "          const docLinkHtml = 'Like what you see? Visit the ' +\n",
       "            '<a target=\"_blank\" href=https://colab.research.google.com/notebooks/data_table.ipynb>data table notebook</a>'\n",
       "            + ' to learn more about interactive tables.';\n",
       "          element.innerHTML = '';\n",
       "          dataTable['output_type'] = 'display_data';\n",
       "          await google.colab.output.renderOutput(dataTable, element);\n",
       "          const docLink = document.createElement('div');\n",
       "          docLink.innerHTML = docLinkHtml;\n",
       "          element.appendChild(docLink);\n",
       "        }\n",
       "      </script>\n",
       "    </div>\n",
       "  </div>\n",
       "  "
      ]
     },
     "metadata": {},
     "execution_count": 32
    }
   ],
   "source": [
    "graphing"
   ]
  },
  {
   "cell_type": "code",
   "execution_count": 33,
   "id": "071d79ef",
   "metadata": {
    "id": "071d79ef",
    "pycharm": {
     "name": "#%%\n"
    }
   },
   "outputs": [],
   "source": [
    "graphing['Remaining Water'] = graphing['Water Storage'] + graphing['Total Withdrawals']"
   ]
  },
  {
   "cell_type": "code",
   "execution_count": 34,
   "id": "a6b93c43",
   "metadata": {
    "colab": {
     "base_uri": "https://localhost:8080/"
    },
    "id": "a6b93c43",
    "outputId": "e667157f-1f9e-4585-ebc0-f7eac73856ff",
    "pycharm": {
     "name": "#%%\n"
    }
   },
   "outputs": [
    {
     "output_type": "execute_result",
     "data": {
      "text/plain": [
       "Date\n",
       "1978-09-30    1.266968e+07\n",
       "1978-10-01    1.265149e+07\n",
       "1978-10-02    1.255700e+07\n",
       "1978-10-03    1.258278e+07\n",
       "1978-10-04    1.251155e+07\n",
       "                  ...     \n",
       "2022-03-31    1.987509e+06\n",
       "2022-04-01    1.941601e+06\n",
       "2022-04-02    1.943325e+06\n",
       "2022-04-03    1.943325e+06\n",
       "2022-04-04    1.943325e+06\n",
       "Freq: D, Name: Remaining Water, Length: 15893, dtype: float64"
      ]
     },
     "metadata": {},
     "execution_count": 34
    }
   ],
   "source": [
    "graphing['Remaining Water']"
   ]
  },
  {
   "cell_type": "code",
   "execution_count": 35,
   "id": "f40b7817",
   "metadata": {
    "scrolled": true,
    "colab": {
     "base_uri": "https://localhost:8080/",
     "height": 0
    },
    "id": "f40b7817",
    "outputId": "3619af6e-56d5-4fc2-9bbb-597f982e7c7f",
    "pycharm": {
     "name": "#%%\n"
    }
   },
   "outputs": [
    {
     "output_type": "display_data",
     "data": {
      "text/plain": [
       "<Figure size 1200x500 with 1 Axes>"
      ],
      "image/png": "[encoded data removed]"
     },
     "metadata": {
      "needs_background": "light"
     }
    }
   ],
   "source": [
    "# Plot\n",
    "plt.figure(figsize=(12,5), dpi=100)\n",
    "plt.plot(graphing['Remaining Water'], label='Remaining Water', color = 'c' )\n",
    "plt.plot(graphing['Water Storage'], label='Average Water Storage at Start of Period')\n",
    "#plt.plot(graphing['Total Withdrawals'], label='Withdrawals', color='r')\n",
    "plt.axhline(graphing['Water Storage'].max()*0.46, color='y', linestyle='--', label= 'Non-operable')\n",
    "plt.axhline(graphing['Water Storage'].max()*0.30, color='r', linestyle='--', label= 'Dead pool')\n",
    "plt.title('Water Storage vs Water Remaining after withdrawals')\n",
    "plt.legend(loc='upper left', fontsize=8)\n",
    "plt.show();"
   ]
  },
  {
   "cell_type": "markdown",
   "id": "c2255b71",
   "metadata": {
    "id": "c2255b71",
    "pycharm": {
     "name": "#%% md\n"
    }
   },
   "source": [
    "### Creating a target columns\n",
    "\n",
    "Definitions for Trinary targets\n",
    " - 0 = Dead pool\n",
    " - 1 = Non-op for hydroelectric dams\n",
    " - 2 = Enough water for operation\n",
    " \n",
    "Definitions for Binary targets\n",
    " - 0 = Dead pool\n",
    " - 1 = Enough water for operation"
   ]
  },
  {
   "cell_type": "code",
   "execution_count": 36,
   "id": "6cf25167",
   "metadata": {
    "id": "6cf25167",
    "pycharm": {
     "name": "#%%\n"
    }
   },
   "outputs": [],
   "source": [
    "nonop = graphing['Water Storage'].max()*0.46\n",
    "dead = graphing['Water Storage'].max()*0.30\n",
    "\n",
    "graphing['target_binary'] = np.where(graphing['Remaining Water'] > dead, 1, 0)\n",
    "\n",
    "graphing['target_trinary'] = np.where(graphing['Remaining Water'] > nonop, 2, \n",
    "                                      np.where(graphing['Remaining Water'] > dead, 1, 0))"
   ]
  },
  {
   "cell_type": "code",
   "execution_count": 37,
   "id": "4deb0ab6",
   "metadata": {
    "scrolled": false,
    "colab": {
     "base_uri": "https://localhost:8080/"
    },
    "id": "4deb0ab6",
    "outputId": "971c3dc8-d408-4224-bf62-b15b5368a9fc",
    "pycharm": {
     "name": "#%%\n"
    }
   },
   "outputs": [
    {
     "output_type": "execute_result",
     "data": {
      "text/plain": [
       "1    6196\n",
       "0    5732\n",
       "2    3965\n",
       "Name: target_trinary, dtype: int64"
      ]
     },
     "metadata": {},
     "execution_count": 37
    }
   ],
   "source": [
    "graphing.target_trinary.value_counts()"
   ]
  },
  {
   "cell_type": "markdown",
   "id": "9790e081",
   "metadata": {
    "id": "9790e081",
    "pycharm": {
     "name": "#%% md\n"
    }
   },
   "source": [
    "# Modeling\n",
    "\n",
    "#### Metrics of interest\n",
    "\n",
    "We are interested in precision because we are discussing water resources"
   ]
  },
  {
   "cell_type": "markdown",
   "id": "edb17ddb",
   "metadata": {
    "id": "edb17ddb",
    "pycharm": {
     "name": "#%% md\n"
    }
   },
   "source": [
    "## Train-test split\n",
    "\n",
    "Performing train test split by time.\n",
    "\n",
    "Train will contain 80% of the oldest data.\n",
    "\n",
    "Test will contain 20% of the newest data.\n",
    "\n",
    "This ratio may change for future models if stuff gets weird."
   ]
  },
  {
   "cell_type": "code",
   "execution_count": 38,
   "id": "81ae54ce",
   "metadata": {
    "id": "81ae54ce",
    "pycharm": {
     "name": "#%%\n"
    }
   },
   "outputs": [],
   "source": [
    "# importing relevant libraries\n",
    "from sklearn.model_selection import train_test_split"
   ]
  },
  {
   "cell_type": "code",
   "execution_count": 39,
   "id": "59b90874",
   "metadata": {
    "id": "59b90874",
    "pycharm": {
     "name": "#%%\n"
    }
   },
   "outputs": [],
   "source": [
    "# We will use 20% of the most recent data as a test set\n",
    "cutoff = round(graphing.shape[0]*0.8)\n",
    "\n",
    "# splitting train and test\n",
    "time_train = graphing[:cutoff]\n",
    "time_test = graphing[cutoff:]\n",
    "\n",
    "# Second train-test split for logistic regression\n",
    "# splitting into dataframes with predictors and dataframes with targets\n",
    "#X = graphing.drop(columns=['Remaining Water', 'target_binary', 'target_trinary', 'Total Withdrawals'])\n",
    "X = graphing[['Water Storage', 'SWE']]\n",
    "\n",
    "y = graphing[['target_binary', 'target_trinary']]\n",
    "\n",
    "X_train, X_test, y_train, y_test = train_test_split(X, y, test_size = 0.3, random_state = 42)"
   ]
  },
  {
   "cell_type": "code",
   "execution_count": 40,
   "id": "1594bad4",
   "metadata": {
    "id": "1594bad4",
    "pycharm": {
     "name": "#%%\n"
    }
   },
   "outputs": [],
   "source": [
    "# scoring function\n",
    "def score(model, target, predictor):\n",
    "    mod_type = str(model).split('(')[0]\n",
    "    print(f'Our {mod_type} model has a precision of: \\\n",
    "      {round(precision_score(target, model.predict(predictor), average = \"weighted\", zero_division=0),3)*100}%')"
   ]
  },
  {
   "cell_type": "markdown",
   "id": "257f31d8",
   "metadata": {
    "id": "257f31d8",
    "pycharm": {
     "name": "#%% md\n"
    }
   },
   "source": [
    "## Dummy Model"
   ]
  },
  {
   "cell_type": "code",
   "execution_count": 41,
   "id": "9303e393",
   "metadata": {
    "id": "9303e393",
    "pycharm": {
     "name": "#%%\n"
    }
   },
   "outputs": [],
   "source": [
    "# Importing dummy model library\n",
    "from sklearn.dummy import DummyClassifier\n",
    "from sklearn.metrics import precision_score\n",
    "from sklearn.metrics import confusion_matrix\n",
    "from sklearn.metrics import ConfusionMatrixDisplay"
   ]
  },
  {
   "cell_type": "markdown",
   "id": "e02c5815",
   "metadata": {
    "id": "e02c5815",
    "pycharm": {
     "name": "#%% md\n"
    }
   },
   "source": [
    "#### Binary target"
   ]
  },
  {
   "cell_type": "code",
   "execution_count": 42,
   "id": "842c2808",
   "metadata": {
    "colab": {
     "base_uri": "https://localhost:8080/"
    },
    "id": "842c2808",
    "outputId": "1468daf8-e73e-43a3-ca8e-5946cda33552",
    "pycharm": {
     "name": "#%%\n"
    }
   },
   "outputs": [
    {
     "output_type": "execute_result",
     "data": {
      "text/plain": [
       "DummyClassifier(random_state=42, strategy='most_frequent')"
      ]
     },
     "metadata": {},
     "execution_count": 42
    }
   ],
   "source": [
    "# instantiate the dummy model\n",
    "b_model_0 = DummyClassifier(random_state=42, strategy='most_frequent')\n",
    "\n",
    "# Fit the model to the training set\n",
    "b_model_0.fit(X_train, y_train['target_binary'])"
   ]
  },
  {
   "cell_type": "code",
   "execution_count": 43,
   "id": "c7d94c71",
   "metadata": {
    "scrolled": true,
    "colab": {
     "base_uri": "https://localhost:8080/"
    },
    "id": "c7d94c71",
    "outputId": "72c5bae7-df31-45a9-db6b-4b84e7d65f04",
    "pycharm": {
     "name": "#%%\n"
    }
   },
   "outputs": [
    {
     "output_type": "stream",
     "name": "stdout",
     "text": [
      "Our DummyClassifier model has a precision of:       41.4%\n"
     ]
    }
   ],
   "source": [
    "score(b_model_0, y_test['target_binary'], X_test)"
   ]
  },
  {
   "cell_type": "code",
   "execution_count": 44,
   "id": "fb08e222",
   "metadata": {
    "colab": {
     "base_uri": "https://localhost:8080/",
     "height": 0
    },
    "id": "fb08e222",
    "outputId": "5c49e8f2-56e5-47ff-f944-cc6263495404",
    "pycharm": {
     "name": "#%%\n"
    }
   },
   "outputs": [
    {
     "output_type": "execute_result",
     "data": {
      "text/plain": [
       "<sklearn.metrics._plot.confusion_matrix.ConfusionMatrixDisplay at 0x7f957ffb5990>"
      ]
     },
     "metadata": {},
     "execution_count": 44
    },
    {
     "output_type": "display_data",
     "data": {
      "text/plain": [
       "<Figure size 432x288 with 2 Axes>"
      ],
      "image/png": "[encoded data removed]"
     },
     "metadata": {
      "needs_background": "light"
     }
    }
   ],
   "source": [
    "ConfusionMatrixDisplay(confusion_matrix(y_test['target_binary'],b_model_0.predict(X_test))).plot()"
   ]
  },
  {
   "cell_type": "markdown",
   "id": "4f365d1a",
   "metadata": {
    "id": "4f365d1a",
    "pycharm": {
     "name": "#%% md\n"
    }
   },
   "source": [
    "#### Trinary target"
   ]
  },
  {
   "cell_type": "code",
   "execution_count": 45,
   "id": "3605f548",
   "metadata": {
    "colab": {
     "base_uri": "https://localhost:8080/"
    },
    "id": "3605f548",
    "outputId": "93184fbb-aed2-4885-8acb-efaa0492e0a6",
    "pycharm": {
     "name": "#%%\n"
    }
   },
   "outputs": [
    {
     "output_type": "execute_result",
     "data": {
      "text/plain": [
       "DummyClassifier(random_state=42, strategy='most_frequent')"
      ]
     },
     "metadata": {},
     "execution_count": 45
    }
   ],
   "source": [
    "# instantiate the dummy model\n",
    "t_model_0 = DummyClassifier(random_state=42, strategy='most_frequent')\n",
    "\n",
    "# Fit the model to the training set\n",
    "t_model_0.fit(X_train, y_train['target_trinary'])"
   ]
  },
  {
   "cell_type": "code",
   "execution_count": 46,
   "id": "9adeaaa2",
   "metadata": {
    "scrolled": true,
    "colab": {
     "base_uri": "https://localhost:8080/"
    },
    "id": "9adeaaa2",
    "outputId": "6e4c3443-8fc7-4ebf-f7f1-b1bc54c33c17",
    "pycharm": {
     "name": "#%%\n"
    }
   },
   "outputs": [
    {
     "output_type": "stream",
     "name": "stdout",
     "text": [
      "Our DummyClassifier model has a precision of:       15.6%\n"
     ]
    }
   ],
   "source": [
    "score(t_model_0, y_test['target_trinary'], X_test)"
   ]
  },
  {
   "cell_type": "markdown",
   "id": "2f042619",
   "metadata": {
    "id": "2f042619",
    "pycharm": {
     "name": "#%% md\n"
    }
   },
   "source": [
    "## First Simple Model (FSM)"
   ]
  },
  {
   "cell_type": "markdown",
   "id": "bb90794b",
   "metadata": {
    "id": "bb90794b",
    "pycharm": {
     "name": "#%% md\n"
    }
   },
   "source": [
    "We will do a simple logistic regression to model the status of water in the Colorado Basin"
   ]
  },
  {
   "cell_type": "code",
   "execution_count": 47,
   "id": "95a8e31b",
   "metadata": {
    "id": "95a8e31b",
    "pycharm": {
     "name": "#%%\n"
    }
   },
   "outputs": [],
   "source": [
    "# importing relevant libraries\n",
    "from sklearn.linear_model import LogisticRegression\n",
    "from sklearn.preprocessing import StandardScaler"
   ]
  },
  {
   "cell_type": "markdown",
   "id": "f1ee7248",
   "metadata": {
    "id": "f1ee7248",
    "pycharm": {
     "name": "#%% md\n"
    }
   },
   "source": [
    "#### Scaling predictors"
   ]
  },
  {
   "cell_type": "code",
   "execution_count": 48,
   "id": "aa9550e1",
   "metadata": {
    "id": "aa9550e1",
    "pycharm": {
     "name": "#%%\n"
    }
   },
   "outputs": [],
   "source": [
    "ss = StandardScaler()\n",
    "\n",
    "X_tr_scaled = ss.fit_transform(X_train)\n",
    "X_te_scaled = ss.transform(X_test)"
   ]
  },
  {
   "cell_type": "markdown",
   "id": "c99c84aa",
   "metadata": {
    "id": "c99c84aa",
    "pycharm": {
     "name": "#%% md\n"
    }
   },
   "source": [
    "#### Binary Target"
   ]
  },
  {
   "cell_type": "code",
   "execution_count": 49,
   "id": "6ac4f174",
   "metadata": {
    "scrolled": true,
    "colab": {
     "base_uri": "https://localhost:8080/"
    },
    "id": "6ac4f174",
    "outputId": "004fc668-9249-4c08-ccd5-49be26ddd1ea",
    "pycharm": {
     "name": "#%%\n"
    }
   },
   "outputs": [
    {
     "output_type": "execute_result",
     "data": {
      "text/plain": [
       "LogisticRegression(random_state=42, solver='newton-cg')"
      ]
     },
     "metadata": {},
     "execution_count": 49
    }
   ],
   "source": [
    "# instantiate the logistic model\n",
    "b_model_1 = LogisticRegression(random_state=42, solver='newton-cg')\n",
    "\n",
    "# Fit the model to the training set\n",
    "b_model_1.fit(X_tr_scaled, y_train['target_binary'])"
   ]
  },
  {
   "cell_type": "code",
   "execution_count": 50,
   "id": "6a1d87e7",
   "metadata": {
    "colab": {
     "base_uri": "https://localhost:8080/"
    },
    "id": "6a1d87e7",
    "outputId": "01fedf55-f69c-40dc-bf2f-8c688556c8f5",
    "pycharm": {
     "name": "#%%\n"
    }
   },
   "outputs": [
    {
     "output_type": "stream",
     "name": "stdout",
     "text": [
      "Our LogisticRegression model has a precision of:       95.8%\n"
     ]
    }
   ],
   "source": [
    "# Score the model\n",
    "score(b_model_1, y_test['target_binary'], X_te_scaled)"
   ]
  },
  {
   "cell_type": "code",
   "execution_count": 51,
   "id": "500a12de",
   "metadata": {
    "colab": {
     "base_uri": "https://localhost:8080/",
     "height": 0
    },
    "id": "500a12de",
    "outputId": "57fac83d-3f7d-4f0b-b08a-04b764f6319e",
    "pycharm": {
     "name": "#%%\n"
    }
   },
   "outputs": [
    {
     "output_type": "execute_result",
     "data": {
      "text/plain": [
       "<sklearn.metrics._plot.confusion_matrix.ConfusionMatrixDisplay at 0x7f9577488c50>"
      ]
     },
     "metadata": {},
     "execution_count": 51
    },
    {
     "output_type": "display_data",
     "data": {
      "text/plain": [
       "<Figure size 432x288 with 2 Axes>"
      ],
      "image/png": "[encoded data removed]"
     },
     "metadata": {
      "needs_background": "light"
     }
    }
   ],
   "source": [
    "ConfusionMatrixDisplay(confusion_matrix(y_test['target_binary'],b_model_1.predict(X_te_scaled))).plot()"
   ]
  },
  {
   "cell_type": "markdown",
   "id": "69f86aa6",
   "metadata": {
    "id": "69f86aa6",
    "pycharm": {
     "name": "#%% md\n"
    }
   },
   "source": [
    "#### Trinary Target"
   ]
  },
  {
   "cell_type": "code",
   "execution_count": 52,
   "id": "57d3fe4d",
   "metadata": {
    "colab": {
     "base_uri": "https://localhost:8080/"
    },
    "id": "57d3fe4d",
    "outputId": "1a562610-c7a5-43bd-ea35-8226a25e0ff3",
    "pycharm": {
     "name": "#%%\n"
    }
   },
   "outputs": [
    {
     "output_type": "execute_result",
     "data": {
      "text/plain": [
       "LogisticRegression(multi_class='multinomial', solver='newton-cg')"
      ]
     },
     "metadata": {},
     "execution_count": 52
    }
   ],
   "source": [
    "# instantiate the logistic model\n",
    "t_model_1 = LogisticRegression(multi_class='multinomial',\n",
    "                               solver='newton-cg')\n",
    "\n",
    "# Fit the model to the training set\n",
    "t_model_1.fit(X_tr_scaled, y_train['target_trinary'])"
   ]
  },
  {
   "cell_type": "code",
   "execution_count": 53,
   "id": "53372800",
   "metadata": {
    "colab": {
     "base_uri": "https://localhost:8080/"
    },
    "id": "53372800",
    "outputId": "44df1974-d2bb-4c3b-b3e6-6f15834be191",
    "pycharm": {
     "name": "#%%\n"
    }
   },
   "outputs": [
    {
     "output_type": "stream",
     "name": "stdout",
     "text": [
      "Train Score:\n",
      "Our LogisticRegression model has a precision of:       94.39999999999999%\n",
      "Test Score:\n",
      "Our LogisticRegression model has a precision of:       94.69999999999999%\n"
     ]
    }
   ],
   "source": [
    "# Score the model\n",
    "print('Train Score:')\n",
    "score(t_model_1, y_train['target_trinary'], X_tr_scaled)\n",
    "print('Test Score:')\n",
    "score(t_model_1, y_test['target_trinary'], X_te_scaled)"
   ]
  },
  {
   "cell_type": "code",
   "execution_count": 54,
   "id": "8e587247",
   "metadata": {
    "colab": {
     "base_uri": "https://localhost:8080/",
     "height": 0
    },
    "id": "8e587247",
    "outputId": "6641f03f-120b-4f15-b024-e6d2c5e5d767",
    "pycharm": {
     "name": "#%%\n"
    }
   },
   "outputs": [
    {
     "output_type": "execute_result",
     "data": {
      "text/plain": [
       "<sklearn.metrics._plot.confusion_matrix.ConfusionMatrixDisplay at 0x7f9577856250>"
      ]
     },
     "metadata": {},
     "execution_count": 54
    },
    {
     "output_type": "display_data",
     "data": {
      "text/plain": [
       "<Figure size 432x288 with 2 Axes>"
      ],
      "image/png": "[encoded data removed]"
     },
     "metadata": {
      "needs_background": "light"
     }
    }
   ],
   "source": [
    "ConfusionMatrixDisplay(confusion_matrix(y_test['target_trinary'],t_model_1.predict(X_te_scaled))).plot()"
   ]
  },
  {
   "cell_type": "markdown",
   "id": "c52548a7",
   "metadata": {
    "id": "c52548a7",
    "pycharm": {
     "name": "#%% md\n"
    }
   },
   "source": [
    "While this model seems to do an excellent job with precision, we worry that this model's accuracy may be a result of colinearity. We will perform a grid search with several L1 and L2 penalty values to evaluate what may be best."
   ]
  },
  {
   "cell_type": "markdown",
   "id": "fb223627",
   "metadata": {
    "id": "fb223627",
    "pycharm": {
     "name": "#%% md\n"
    }
   },
   "source": [
    "## Model 2"
   ]
  },
  {
   "cell_type": "code",
   "execution_count": 55,
   "id": "f6411eb7",
   "metadata": {
    "id": "f6411eb7",
    "pycharm": {
     "name": "#%%\n"
    }
   },
   "outputs": [],
   "source": [
    "from sklearn.model_selection import GridSearchCV\n",
    "from sklearn.ensemble import RandomForestClassifier\n",
    "from sklearn.neighbors import KNeighborsClassifier"
   ]
  },
  {
   "cell_type": "markdown",
   "source": [
    "Given that the scale of our data is largely different, we should standardize the scale of our data for the purpose of this model."
   ],
   "metadata": {
    "id": "NtHeX0Pw8p2O",
    "pycharm": {
     "name": "#%% md\n"
    }
   },
   "id": "NtHeX0Pw8p2O"
  },
  {
   "cell_type": "code",
   "execution_count": 57,
   "id": "9ba0eaf5",
   "metadata": {
    "colab": {
     "base_uri": "https://localhost:8080/"
    },
    "id": "9ba0eaf5",
    "outputId": "7cc14dc0-e659-458a-aaae-39bd7b9d69ec",
    "pycharm": {
     "name": "#%%\n"
    }
   },
   "outputs": [
    {
     "output_type": "stream",
     "name": "stdout",
     "text": [
      "Fitting 5 folds for each of 80 candidates, totalling 400 fits\n",
      "Best parameters: {'classifier': RandomForestClassifier(max_depth=11, n_estimators=81), 'classifier__max_depth': 11, 'classifier__n_estimators': 81}\n"
     ]
    }
   ],
   "source": [
    "# Create param grid.\n",
    "\n",
    "pipe = Pipeline([('classifier', RandomForestClassifier())])\n",
    "\n",
    "param_grid = [\n",
    "    {'classifier' : [LogisticRegression()],\n",
    "     'classifier__penalty' : ['l1', 'l2'],\n",
    "     'classifier__C' : np.logspace(-4, 4, 20),\n",
    "     'classifier__solver' : ['liblinear']},\n",
    "    {'classifier' : [KNeighborsClassifier()],\n",
    "     'classifier__n_neighbors' : list(range(10,20,1)),\n",
    "     'classifier__n_jobs': [-1]},\n",
    "    {'classifier' : [RandomForestClassifier()],\n",
    "     'classifier__n_estimators' : list(range(1,101,20)),\n",
    "     'classifier__max_depth' : list(range(1, 31, 5))}\n",
    "]\n",
    "\n",
    "\n",
    "# Create a gridsearch object\n",
    "\n",
    "scaled_clf = GridSearchCV(pipe, param_grid = param_grid, cv = 5, verbose=3, n_jobs=-1, error_score='raise')\n",
    "\n",
    "\n",
    "# Second attempt on scaled data\n",
    "\n",
    "best_scaled_clf = scaled_clf.fit(X_tr_scaled, y_train['target_trinary'])\n",
    "\n",
    "print(f'Best parameters: {best_scaled_clf.best_params_}')"
   ]
  },
  {
   "cell_type": "markdown",
   "id": "7fb2853e",
   "metadata": {
    "id": "7fb2853e",
    "pycharm": {
     "name": "#%% md\n"
    }
   },
   "source": [
    "So, our Random Forest did better than both a logistic regression and a KNN model, with a resulting score of 98.4% with the parameters listed above. Our final model will look like the below such that we are not running tuning algorithms each time."
   ]
  },
  {
   "cell_type": "code",
   "execution_count": 58,
   "id": "24becea6",
   "metadata": {
    "colab": {
     "base_uri": "https://localhost:8080/"
    },
    "id": "24becea6",
    "outputId": "e1d5c610-be26-4d91-dee8-bd3bc94a0657",
    "pycharm": {
     "name": "#%%\n"
    }
   },
   "outputs": [
    {
     "output_type": "stream",
     "name": "stdout",
     "text": [
      "Training set score: 1.0\n",
      "Test set score: 0.9794463087248322\n"
     ]
    }
   ],
   "source": [
    "# run the pipeline scaled without the optimized parameters\n",
    "pipe.fit(X_tr_scaled, y_train['target_trinary'])\n",
    "\n",
    "print('Training set score: ' + str(pipe.score(X_tr_scaled,y_train['target_trinary'])))\n",
    "print('Test set score: ' + str(pipe.score(X_te_scaled,y_test['target_trinary'])))"
   ]
  },
  {
   "cell_type": "code",
   "source": [
    "best_scaled_clf.best_estimator_"
   ],
   "metadata": {
    "id": "DnjUYDVM9AHA",
    "outputId": "3a94a43a-d526-438b-8d02-3210dcfd59e2",
    "colab": {
     "base_uri": "https://localhost:8080/"
    },
    "pycharm": {
     "name": "#%%\n"
    }
   },
   "id": "DnjUYDVM9AHA",
   "execution_count": 66,
   "outputs": [
    {
     "output_type": "execute_result",
     "data": {
      "text/plain": [
       "Pipeline(steps=[('classifier',\n",
       "                 RandomForestClassifier(max_depth=11, n_estimators=81))])"
      ]
     },
     "metadata": {},
     "execution_count": 66
    }
   ]
  },
  {
   "cell_type": "code",
   "source": [
    "# run the pipeline scaled and with the optimized parameters\n",
    "\n",
    "pipe = Pipeline([('classifier' , best_scaled_clf.best_estimator_)])\n",
    "\n",
    "pipe.fit(X_tr_scaled, y_train['target_trinary'])\n",
    "\n",
    "print('Training set score: ' + str(pipe.score(X_tr_scaled,y_train['target_trinary'])))\n",
    "print('Test set score: ' + str(pipe.score(X_te_scaled,y_test['target_trinary'])))"
   ],
   "metadata": {
    "colab": {
     "base_uri": "https://localhost:8080/"
    },
    "id": "gKIqs96hC1oL",
    "outputId": "d4a31766-bebe-4149-a320-790d50d8d6f7",
    "pycharm": {
     "name": "#%%\n"
    }
   },
   "id": "gKIqs96hC1oL",
   "execution_count": 67,
   "outputs": [
    {
     "output_type": "stream",
     "name": "stdout",
     "text": [
      "Training set score: 0.9946067415730337\n",
      "Test set score: 0.9828020134228188\n"
     ]
    }
   ]
  },
  {
   "cell_type": "markdown",
   "source": [
    "## Model 3: Adding time series elements"
   ],
   "metadata": {
    "id": "7fNtY0i__ltz",
    "pycharm": {
     "name": "#%% md\n"
    }
   },
   "id": "7fNtY0i__ltz"
  },
  {
   "cell_type": "markdown",
   "source": [
    "Here we will try a Time Series Forest model from the PyTS library. Our previous models were not time series models and thus excluded the presence of time and the relationship in the data that comes with time. This next model should relate better to the data because the original data is a time series and thus relationships between the data and time not overlooked by the simplicity of the model.\n",
    "\n",
    "This model was developed specifically for doing classification with time series data. Citation below.\n",
    "\n",
    "Johann Faouzi and Hicham Janati. pyts: A python package for time series classification.<br>\n",
    "Journal of Machine Learning Research, 21(46):1−6, 2020."
   ],
   "metadata": {
    "id": "DJZcVrOh_v4a",
    "pycharm": {
     "name": "#%% md\n"
    }
   },
   "id": "DJZcVrOh_v4a"
  },
  {
   "cell_type": "code",
   "source": [
    "# Install PyTS\n",
    "!pip install pyts"
   ],
   "metadata": {
    "colab": {
     "base_uri": "https://localhost:8080/"
    },
    "id": "bLTarAZf_tvq",
    "outputId": "08a1d38a-fe84-4c91-9bfd-4489f0ae28ec",
    "pycharm": {
     "name": "#%%\n"
    }
   },
   "id": "bLTarAZf_tvq",
   "execution_count": 68,
   "outputs": [
    {
     "output_type": "stream",
     "name": "stdout",
     "text": [
      "Requirement already satisfied: pyts in /usr/local/lib/python3.7/dist-packages (0.12.0)\n",
      "Requirement already satisfied: scipy>=1.3.0 in /usr/local/lib/python3.7/dist-packages (from pyts) (1.4.1)\n",
      "Requirement already satisfied: joblib>=0.12 in /usr/local/lib/python3.7/dist-packages (from pyts) (1.1.0)\n",
      "Requirement already satisfied: scikit-learn>=0.22.1 in /usr/local/lib/python3.7/dist-packages (from pyts) (1.0.2)\n",
      "Requirement already satisfied: numpy>=1.17.5 in /usr/local/lib/python3.7/dist-packages (from pyts) (1.21.5)\n",
      "Requirement already satisfied: numba>=0.48.0 in /usr/local/lib/python3.7/dist-packages (from pyts) (0.51.2)\n",
      "Requirement already satisfied: llvmlite<0.35,>=0.34.0.dev0 in /usr/local/lib/python3.7/dist-packages (from numba>=0.48.0->pyts) (0.34.0)\n",
      "Requirement already satisfied: setuptools in /usr/local/lib/python3.7/dist-packages (from numba>=0.48.0->pyts) (57.4.0)\n",
      "Requirement already satisfied: threadpoolctl>=2.0.0 in /usr/local/lib/python3.7/dist-packages (from scikit-learn>=0.22.1->pyts) (3.1.0)\n"
     ]
    }
   ]
  },
  {
   "cell_type": "code",
   "source": [
    "# Import the model\n",
    "from pyts.classification import TimeSeriesForest"
   ],
   "metadata": {
    "id": "wmAp-fzfAT48",
    "pycharm": {
     "name": "#%%\n"
    }
   },
   "id": "wmAp-fzfAT48",
   "execution_count": 70,
   "outputs": []
  },
  {
   "cell_type": "code",
   "source": [
    "# create a pipeline object for the classification model\n",
    "\n",
    "time_pipe = Pipeline([('classifier', TimeSeriesForest())])\n",
    "\n",
    "# Create a param grid for tuning\n",
    "\n",
    "param_grid = [\n",
    "              {'classifier' : [TimeSeriesForest()],\n",
    "               'classifier__n_estimators' : list(range(500, 1000, 100)),\n",
    "               'classifier__n_windows' : [0.1, 0.5, 1],\n",
    "               'classifier__max_depth' : [None] + list(range(10, 100, 15)),}\n",
    "]"
   ],
   "metadata": {
    "id": "_HqL15zlAhlC",
    "pycharm": {
     "name": "#%%\n"
    }
   },
   "id": "_HqL15zlAhlC",
   "execution_count": 73,
   "outputs": []
  },
  {
   "cell_type": "code",
   "source": [
    "# First attempt without tuning or scaling\n",
    "\n",
    "time_pipe.fit(X_train, y_train['target_trinary'])\n",
    "\n",
    "print('Training set score: ' + str(time_pipe.score(X_train,y_train['target_trinary'])))\n",
    "print('Test set score: ' + str(time_pipe.score(X_test,y_test['target_trinary'])))"
   ],
   "metadata": {
    "colab": {
     "base_uri": "https://localhost:8080/"
    },
    "id": "FpnHTfQNCrIU",
    "outputId": "e98d2aa1-240b-4ae8-e079-f2ecd7337fa1",
    "pycharm": {
     "name": "#%%\n"
    }
   },
   "id": "FpnHTfQNCrIU",
   "execution_count": 74,
   "outputs": [
    {
     "output_type": "stream",
     "name": "stdout",
     "text": [
      "Training set score: 1.0\n",
      "Test set score: 0.9635067114093959\n"
     ]
    }
   ]
  },
  {
   "cell_type": "code",
   "source": [
    "# First attempt without tuning but scaled\n",
    "\n",
    "time_pipe.fit(X_tr_scaled, y_train['target_trinary'])\n",
    "\n",
    "print('Training set score: ' + str(time_pipe.score(X_tr_scaled,y_train['target_trinary'])))\n",
    "print('Test set score: ' + str(time_pipe.score(X_te_scaled,y_test['target_trinary'])))"
   ],
   "metadata": {
    "colab": {
     "base_uri": "https://localhost:8080/"
    },
    "id": "Tmanbi6hMakS",
    "outputId": "5bbf510b-c5e5-442b-92a7-aad2e35fcffc",
    "pycharm": {
     "name": "#%%\n"
    }
   },
   "id": "Tmanbi6hMakS",
   "execution_count": 75,
   "outputs": [
    {
     "output_type": "stream",
     "name": "stdout",
     "text": [
      "Training set score: 1.0\n",
      "Test set score: 0.9786073825503355\n"
     ]
    }
   ]
  },
  {
   "cell_type": "markdown",
   "source": [
    "Without any parameters, the timeseriesforest overfits, but still has good score of 95% accuracy and appears to be somewhat overfit. With the scaled data, accuracy rises to 97% but is also overfit.\n",
    "\n",
    "Lets perform a grid search to optomize some of these parameters."
   ],
   "metadata": {
    "id": "JWtvIoRfGr3h",
    "pycharm": {
     "name": "#%% md\n"
    }
   },
   "id": "JWtvIoRfGr3h"
  },
  {
   "cell_type": "code",
   "source": [
    "# Create new gridsearch object\n",
    "\n",
    "scaled_tsf = GridSearchCV(time_pipe, param_grid = param_grid, cv = 5, verbose=3, n_jobs=-1, error_score='raise')\n",
    "\n",
    "# run gridsearch on scaled train data\n",
    "\n",
    "best_scaled_tsf = scaled_tsf.fit(X_tr_scaled, y_train['target_trinary'])\n",
    "\n",
    "print(f'Best parameters: {best_scaled_tsf.best_params_}')"
   ],
   "metadata": {
    "colab": {
     "base_uri": "https://localhost:8080/"
    },
    "id": "OmsuioPkIKoZ",
    "outputId": "c398e4f5-c06a-4c39-c3e8-0649ff1f71a5",
    "pycharm": {
     "name": "#%%\n"
    }
   },
   "id": "OmsuioPkIKoZ",
   "execution_count": 76,
   "outputs": [
    {
     "output_type": "stream",
     "name": "stdout",
     "text": [
      "Fitting 5 folds for each of 105 candidates, totalling 525 fits\n",
      "Best parameters: {'classifier': TimeSeriesForest(max_depth=10, n_estimators=600, n_windows=0.5), 'classifier__max_depth': 10, 'classifier__n_estimators': 600, 'classifier__n_windows': 0.5}\n"
     ]
    }
   ]
  },
  {
   "cell_type": "markdown",
   "source": [
    "Our final optimized model and an unoptimized comparison are below."
   ],
   "metadata": {
    "id": "vuzUH8P1JDu9",
    "pycharm": {
     "name": "#%% md\n"
    }
   },
   "id": "vuzUH8P1JDu9"
  },
  {
   "cell_type": "code",
   "source": [
    "# run the pipeline scaled without the optimized parameters\n",
    "time_pipe.fit(X_tr_scaled, y_train['target_trinary'])\n",
    "\n",
    "print('Training set score: ' + str(time_pipe.score(X_tr_scaled,y_train['target_trinary'])))\n",
    "print('Test set score: ' + str(time_pipe.score(X_te_scaled,y_test['target_trinary'])))"
   ],
   "metadata": {
    "colab": {
     "base_uri": "https://localhost:8080/"
    },
    "id": "RCQPq9rBI5mb",
    "outputId": "e5ed3d50-5379-4acf-e393-8c30c7162681",
    "pycharm": {
     "name": "#%%\n"
    }
   },
   "id": "RCQPq9rBI5mb",
   "execution_count": 77,
   "outputs": [
    {
     "output_type": "stream",
     "name": "stdout",
     "text": [
      "Training set score: 1.0\n",
      "Test set score: 0.9786073825503355\n"
     ]
    }
   ]
  },
  {
   "cell_type": "code",
   "source": [
    "# run the pipeline scaled and with the optimized parameters\n",
    "\n",
    "time_pipe_opt = Pipeline([('classifier', best_scaled_tsf.best_estimator_)])\n",
    "\n",
    "time_pipe_opt.fit(X_tr_scaled, y_train['target_trinary'])\n",
    "\n",
    "print('Training set score: ' + str(time_pipe_opt.score(X_tr_scaled,y_train['target_trinary'])))\n",
    "print('Test set score: ' + str(time_pipe_opt.score(X_te_scaled,y_test['target_trinary'])))"
   ],
   "metadata": {
    "colab": {
     "base_uri": "https://localhost:8080/"
    },
    "id": "BQxD6P-2JXE7",
    "outputId": "fe2c0628-c474-4b90-bfc7-2ad3506aa7bc",
    "pycharm": {
     "name": "#%%\n"
    }
   },
   "id": "BQxD6P-2JXE7",
   "execution_count": 79,
   "outputs": [
    {
     "output_type": "stream",
     "name": "stdout",
     "text": [
      "Training set score: 0.9760898876404495\n",
      "Test set score: 0.9651845637583892\n"
     ]
    }
   ]
  },
  {
   "cell_type": "markdown",
   "source": [
    "For the sake of curiousity, lets see what the difference is in the model if we use a MinMax scaler (less susceptible to outliers)."
   ],
   "metadata": {
    "id": "wNVmdjM7lFKY",
    "pycharm": {
     "name": "#%% md\n"
    }
   },
   "id": "wNVmdjM7lFKY"
  },
  {
   "cell_type": "code",
   "source": [
    "# Import minmax scaler\n",
    "from sklearn.preprocessing import MinMaxScaler"
   ],
   "metadata": {
    "id": "udCMxZEqmBAV",
    "pycharm": {
     "name": "#%%\n"
    }
   },
   "id": "udCMxZEqmBAV",
   "execution_count": 80,
   "outputs": []
  },
  {
   "cell_type": "code",
   "source": [
    "# create pipeline for MinMax scaler and TimeSeriesForest\n",
    "time_pipe_minmax = Pipeline([('scaler', MinMaxScaler()), ('classifier', best_scaled_tsf.best_estimator_)])\n",
    "\n",
    "time_pipe_minmax.fit(X_train, y_train['target_trinary'])\n",
    "\n",
    "print('Training set score: ' + str(time_pipe_minmax.score(X_train, y_train['target_trinary'])))\n",
    "print('Test set score: ' + str(time_pipe_minmax.score(X_test, y_test['target_trinary'])))"
   ],
   "metadata": {
    "colab": {
     "base_uri": "https://localhost:8080/"
    },
    "id": "Bv63xTNmk5Uq",
    "outputId": "e644ee91-d9f0-4dfc-f11e-508eae0894e0",
    "pycharm": {
     "name": "#%%\n"
    }
   },
   "id": "Bv63xTNmk5Uq",
   "execution_count": 82,
   "outputs": [
    {
     "output_type": "stream",
     "name": "stdout",
     "text": [
      "Training set score: 0.9849887640449438\n",
      "Test set score: 0.9714765100671141\n"
     ]
    }
   ]
  },
  {
   "cell_type": "markdown",
   "source": [
    "While the accuracy of the model dropped a minute amount, we feel that reducing the sensitivity of the model to outliers provides more sound results."
   ],
   "metadata": {
    "id": "DdQ7wKsPmRCb",
    "pycharm": {
     "name": "#%% md\n"
    }
   },
   "id": "DdQ7wKsPmRCb"
  },
  {
   "cell_type": "markdown",
   "source": [
    "# Conclusion and Future Considerations\n",
    "While this model generalizes over the entirety of the Colorado River Basin, it does provide a proof of concept for\n",
    "future models of its type. We feel that the use of models like these on a more granular scale and customized for the\n",
    "differing water depth phases of each individual dam or reservoir by the teams managing those water resources is the best\n",
    "approach. Water incomes and withdrawals can then be evaluated at an upstream level for each water storage center to\n",
    "provide more accurate outcomes with respect to those individual stations. This process can also be applied to other\n",
    "basins to assist and inform water regulation and use policies for the following year. Models such as these can integrate\n",
    "weather station system datas for live updates on the predictions of next year's water availability based on current\n",
    "and emerging weather conditions."
   ],
   "metadata": {
    "collapsed": false,
    "pycharm": {
     "name": "#%% md\n"
    }
   }
  },
  {
   "cell_type": "markdown",
   "source": [
    "# Finalizing Visualizations"
   ],
   "metadata": {
    "id": "FUIeRURJnVwN",
    "pycharm": {
     "name": "#%% md\n"
    }
   },
   "id": "FUIeRURJnVwN"
  },
  {
   "cell_type": "markdown",
   "source": [
    "### Water Storage Visuals"
   ],
   "metadata": {
    "id": "CAbr6Qr40icw",
    "pycharm": {
     "name": "#%% md\n"
    }
   },
   "id": "CAbr6Qr40icw"
  },
  {
   "cell_type": "code",
   "source": [
    "#import dates module\n",
    "import matplotlib.dates as mdates\n",
    "from IPython.display import display, Math\n",
    "import matplotlib.ticker as ticker\n",
    "\n",
    "\n",
    "# Set trendline values\n",
    "x = mdates.date2num(graphing.index)\n",
    "y = graphing['Water Storage']\n",
    "z = np.polyfit(x, y, 1)\n",
    "p = np.poly1d(z)\n",
    "\n",
    "# Plot time series of water storage\n",
    "plt.figure(figsize=(12,5), dpi=100)\n",
    "plt.plot(graphing['Water Storage'], label='Average Water Storage')\n",
    "plt.axhline(graphing['Water Storage'].max()*0.46, color='y', linestyle='--', label= 'Glenn Canyon min operable water level %')\n",
    "plt.axhline(graphing['Water Storage'].max()*0.30, color='r', linestyle='--', label= 'Glenn Canyon dead pool water level %')\n",
    "plt.title(display(Math(r'\\text{Volume of Water Stored in CRB Dams }(dam^3)')))\n",
    "plt.xlabel('Year')\n",
    "plt.ylabel('Volume of Water')\n",
    "plt.plot(x, p(x), \"c--\", label='Trend')\n",
    "plt.gca().yaxis.set_major_formatter(ticker.StrMethodFormatter('{x:,.0f}'))\n",
    "plt.ylim(ymin=0)\n",
    "plt.legend(loc='upper right', fontsize=8)\n",
    "#plt.savefig(f'../images/water_storage_ts.png', bbox_inches='tight', transparent=True)\n",
    "plt.show();"
   ],
   "metadata": {
    "colab": {
     "base_uri": "https://localhost:8080/",
     "height": 483
    },
    "id": "7Etcbu30nc1T",
    "outputId": "16ea88ac-072f-4488-eddd-f3bd38427f64",
    "pycharm": {
     "name": "#%%\n"
    }
   },
   "id": "7Etcbu30nc1T",
   "execution_count": 83,
   "outputs": [
    {
     "output_type": "display_data",
     "data": {
      "text/plain": [
       "<IPython.core.display.Math object>"
      ],
      "text/latex": "$$\\text{Volume of Water Stored in CRB Dams }(dam^3)$$"
     },
     "metadata": {}
    },
    {
     "output_type": "display_data",
     "data": {
      "text/plain": [
       "<Figure size 1200x500 with 1 Axes>"
      ],
      "image/png": "[encoded data removed]"
     },
     "metadata": {
      "needs_background": "light"
     }
    }
   ]
  },
  {
   "cell_type": "markdown",
   "source": [
    "### Water Usage Visuals"
   ],
   "metadata": {
    "id": "NzU0Bg-i0pQz",
    "pycharm": {
     "name": "#%% md\n"
    }
   },
   "id": "NzU0Bg-i0pQz"
  },
  {
   "cell_type": "code",
   "source": [
    "# Recompile water usage data\n",
    "# List of interested columns\n",
    "useage = ['AQ-WTotl','CO-WFrTotl', 'IR-WFrTo', 'LS-WTotl', 'DO-WTotl', 'IN-WTotl', 'PT-CUTot']\n",
    "names = ['Aquaculture', 'Commercial', 'Irrigation', 'Livestock', 'Domestic', 'Industrial', 'Thermoelectric']\n",
    "\n",
    "water_usage = water_withdrawals[useage] * -1\n",
    "water_usage = water_usage.transpose()\n",
    "\n",
    "#creating dict for renaming of columns\n",
    "columns = water_usage.columns.to_list()\n",
    "items = [2000, 2005, 2010]\n",
    "\n",
    "col_dict = dict(zip(useage, names))\n",
    "\n",
    "water_usage = water_usage.rename(col_dict)\n",
    "\n",
    "water_usage"
   ],
   "metadata": {
    "colab": {
     "base_uri": "https://localhost:8080/",
     "height": 269
    },
    "id": "PVKR2YBY0rPz",
    "outputId": "af76ed96-7f70-4837-fd82-c98414c6cfc2",
    "pycharm": {
     "name": "#%%\n"
    }
   },
   "id": "PVKR2YBY0rPz",
   "execution_count": 84,
   "outputs": [
    {
     "output_type": "execute_result",
     "data": {
      "text/plain": [
       "YEAR              2000-01-01    2005-01-01    2010-01-01\n",
       "Aquaculture     1.907207e+05  1.753392e+05  1.866872e+05\n",
       "Commercial      2.749427e+04  3.322995e+04  3.760881e+04\n",
       "Irrigation      1.847236e+07  1.827876e+07  1.683552e+07\n",
       "Livestock       5.617268e+04  5.100440e+04  5.398942e+04\n",
       "Domestic        8.224845e+04  9.325109e+04  8.565285e+04\n",
       "Industrial      4.070484e+04  3.866960e+04  3.906431e+04\n",
       "Thermoelectric  2.909779e+05  4.102184e+05  4.048281e+05"
      ],
      "text/html": [
       "\n",
       "  <div id=\"df-3b9da4af-c338-4487-af74-6022f72f95dd\">\n",
       "    <div class=\"colab-df-container\">\n",
       "      <div>\n",
       "<style scoped>\n",
       "    .dataframe tbody tr th:only-of-type {\n",
       "        vertical-align: middle;\n",
       "    }\n",
       "\n",
       "    .dataframe tbody tr th {\n",
       "        vertical-align: top;\n",
       "    }\n",
       "\n",
       "    .dataframe thead th {\n",
       "        text-align: right;\n",
       "    }\n",
       "</style>\n",
       "<table border=\"1\" class=\"dataframe\">\n",
       "  <thead>\n",
       "    <tr style=\"text-align: right;\">\n",
       "      <th>YEAR</th>\n",
       "      <th>2000-01-01</th>\n",
       "      <th>2005-01-01</th>\n",
       "      <th>2010-01-01</th>\n",
       "    </tr>\n",
       "  </thead>\n",
       "  <tbody>\n",
       "    <tr>\n",
       "      <th>Aquaculture</th>\n",
       "      <td>1.907207e+05</td>\n",
       "      <td>1.753392e+05</td>\n",
       "      <td>1.866872e+05</td>\n",
       "    </tr>\n",
       "    <tr>\n",
       "      <th>Commercial</th>\n",
       "      <td>2.749427e+04</td>\n",
       "      <td>3.322995e+04</td>\n",
       "      <td>3.760881e+04</td>\n",
       "    </tr>\n",
       "    <tr>\n",
       "      <th>Irrigation</th>\n",
       "      <td>1.847236e+07</td>\n",
       "      <td>1.827876e+07</td>\n",
       "      <td>1.683552e+07</td>\n",
       "    </tr>\n",
       "    <tr>\n",
       "      <th>Livestock</th>\n",
       "      <td>5.617268e+04</td>\n",
       "      <td>5.100440e+04</td>\n",
       "      <td>5.398942e+04</td>\n",
       "    </tr>\n",
       "    <tr>\n",
       "      <th>Domestic</th>\n",
       "      <td>8.224845e+04</td>\n",
       "      <td>9.325109e+04</td>\n",
       "      <td>8.565285e+04</td>\n",
       "    </tr>\n",
       "    <tr>\n",
       "      <th>Industrial</th>\n",
       "      <td>4.070484e+04</td>\n",
       "      <td>3.866960e+04</td>\n",
       "      <td>3.906431e+04</td>\n",
       "    </tr>\n",
       "    <tr>\n",
       "      <th>Thermoelectric</th>\n",
       "      <td>2.909779e+05</td>\n",
       "      <td>4.102184e+05</td>\n",
       "      <td>4.048281e+05</td>\n",
       "    </tr>\n",
       "  </tbody>\n",
       "</table>\n",
       "</div>\n",
       "      <button class=\"colab-df-convert\" onclick=\"convertToInteractive('df-3b9da4af-c338-4487-af74-6022f72f95dd')\"\n",
       "              title=\"Convert this dataframe to an interactive table.\"\n",
       "              style=\"display:none;\">\n",
       "        \n",
       "  <svg xmlns=\"http://www.w3.org/2000/svg\" height=\"24px\"viewBox=\"0 0 24 24\"\n",
       "       width=\"24px\">\n",
       "    <path d=\"M0 0h24v24H0V0z\" fill=\"none\"/>\n",
       "    <path d=\"M18.56 5.44l.94 2.06.94-2.06 2.06-.94-2.06-.94-.94-2.06-.94 2.06-2.06.94zm-11 1L8.5 8.5l.94-2.06 2.06-.94-2.06-.94L8.5 2.5l-.94 2.06-2.06.94zm10 10l.94 2.06.94-2.06 2.06-.94-2.06-.94-.94-2.06-.94 2.06-2.06.94z\"/><path d=\"M17.41 7.96l-1.37-1.37c-.4-.4-.92-.59-1.43-.59-.52 0-1.04.2-1.43.59L10.3 9.45l-7.72 7.72c-.78.78-.78 2.05 0 2.83L4 21.41c.39.39.9.59 1.41.59.51 0 1.02-.2 1.41-.59l7.78-7.78 2.81-2.81c.8-.78.8-2.07 0-2.86zM5.41 20L4 18.59l7.72-7.72 1.47 1.35L5.41 20z\"/>\n",
       "  </svg>\n",
       "      </button>\n",
       "      \n",
       "  <style>\n",
       "    .colab-df-container {\n",
       "      display:flex;\n",
       "      flex-wrap:wrap;\n",
       "      gap: 12px;\n",
       "    }\n",
       "\n",
       "    .colab-df-convert {\n",
       "      background-color: #E8F0FE;\n",
       "      border: none;\n",
       "      border-radius: 50%;\n",
       "      cursor: pointer;\n",
       "      display: none;\n",
       "      fill: #1967D2;\n",
       "      height: 32px;\n",
       "      padding: 0 0 0 0;\n",
       "      width: 32px;\n",
       "    }\n",
       "\n",
       "    .colab-df-convert:hover {\n",
       "      background-color: #E2EBFA;\n",
       "      box-shadow: 0px 1px 2px rgba(60, 64, 67, 0.3), 0px 1px 3px 1px rgba(60, 64, 67, 0.15);\n",
       "      fill: #174EA6;\n",
       "    }\n",
       "\n",
       "    [theme=dark] .colab-df-convert {\n",
       "      background-color: #3B4455;\n",
       "      fill: #D2E3FC;\n",
       "    }\n",
       "\n",
       "    [theme=dark] .colab-df-convert:hover {\n",
       "      background-color: #434B5C;\n",
       "      box-shadow: 0px 1px 3px 1px rgba(0, 0, 0, 0.15);\n",
       "      filter: drop-shadow(0px 1px 2px rgba(0, 0, 0, 0.3));\n",
       "      fill: #FFFFFF;\n",
       "    }\n",
       "  </style>\n",
       "\n",
       "      <script>\n",
       "        const buttonEl =\n",
       "          document.querySelector('#df-3b9da4af-c338-4487-af74-6022f72f95dd button.colab-df-convert');\n",
       "        buttonEl.style.display =\n",
       "          google.colab.kernel.accessAllowed ? 'block' : 'none';\n",
       "\n",
       "        async function convertToInteractive(key) {\n",
       "          const element = document.querySelector('#df-3b9da4af-c338-4487-af74-6022f72f95dd');\n",
       "          const dataTable =\n",
       "            await google.colab.kernel.invokeFunction('convertToInteractive',\n",
       "                                                     [key], {});\n",
       "          if (!dataTable) return;\n",
       "\n",
       "          const docLinkHtml = 'Like what you see? Visit the ' +\n",
       "            '<a target=\"_blank\" href=https://colab.research.google.com/notebooks/data_table.ipynb>data table notebook</a>'\n",
       "            + ' to learn more about interactive tables.';\n",
       "          element.innerHTML = '';\n",
       "          dataTable['output_type'] = 'display_data';\n",
       "          await google.colab.output.renderOutput(dataTable, element);\n",
       "          const docLink = document.createElement('div');\n",
       "          docLink.innerHTML = docLinkHtml;\n",
       "          element.appendChild(docLink);\n",
       "        }\n",
       "      </script>\n",
       "    </div>\n",
       "  </div>\n",
       "  "
      ]
     },
     "metadata": {},
     "execution_count": 84
    }
   ]
  },
  {
   "cell_type": "code",
   "source": [
    "# Pie chart to show overwhelming wateruse by irrigation\n",
    "labels=water_usage.index.to_list()\n",
    "\n",
    "plt.gca().axis(\"equal\")\n",
    "pie = plt.pie(water_usage['2010-01-01'], startangle=90)\n",
    "plt.legend(pie[0],labels, bbox_to_anchor=(1,0), loc=\"lower right\", \n",
    "                          bbox_transform=plt.gcf().transFigure)\n",
    "plt.title('Water Usage by Industry')\n",
    "#plt.savefig(f'../images/water_usage_pie.png', bbox_inches='tight', transparent=True)\n",
    "plt.show();"
   ],
   "metadata": {
    "colab": {
     "base_uri": "https://localhost:8080/",
     "height": 295
    },
    "id": "kO2TXxT53jdZ",
    "outputId": "b012965b-2284-4c32-f0ae-3493486b5446",
    "pycharm": {
     "name": "#%%\n"
    }
   },
   "id": "kO2TXxT53jdZ",
   "execution_count": 85,
   "outputs": [
    {
     "output_type": "display_data",
     "data": {
      "text/plain": [
       "<Figure size 432x288 with 1 Axes>"
      ],
      "image/png": "[encoded data removed]"
     },
     "metadata": {}
    }
   ]
  },
  {
   "cell_type": "code",
   "source": [
    "# Breakdown of Irrigation\n",
    "\n",
    "junk = ['STATECODE', 'HUC4CODE', 'HUC8CODE', 'HUCNAME']\n",
    "ir_types = ['IR-IrSpr', 'IR-IrMic', 'IR-IrSur']\n",
    "ir_withdrawals = ['IR-WGWFr', 'IR-WSWFr']\n",
    "\n",
    "ir_breakdown = irrigation_withdrawals.dropna().drop(columns=junk).reset_index(drop=True)"
   ],
   "metadata": {
    "id": "pO0er05R5b9q",
    "pycharm": {
     "name": "#%%\n"
    }
   },
   "id": "pO0er05R5b9q",
   "execution_count": 86,
   "outputs": []
  },
  {
   "cell_type": "code",
   "source": [
    "# set up labels\n",
    "types_labels = ['Sprinkler Irrigation', 'Micro-irrigation', 'Surface Irrigation']\n",
    "withdr_labels = ['Fresh Ground Water', 'Fresh Surface Water']\n",
    "\n",
    "ir_bd_sum = ir_breakdown.groupby('YEAR').sum()\n",
    "\n",
    "ir_bd_sum.rename(columns=dict(zip(ir_types,types_labels)), inplace=True)\n",
    "ir_bd_sum.rename(columns=dict(zip(ir_withdrawals,withdr_labels)), inplace=True)\n",
    "ir_bd_sum.drop(columns= ['IR-WFrTo', 'IR-CUsFr', 'IR-CLoss', 'IR-IrTot'], inplace=True)\n",
    "ir_bd_sum"
   ],
   "metadata": {
    "id": "qnoJRDbuX4Q1",
    "outputId": "500b4f1f-4365-46c2-b82e-acea3bbc1284",
    "colab": {
     "base_uri": "https://localhost:8080/",
     "height": 269
    },
    "pycharm": {
     "name": "#%%\n"
    }
   },
   "id": "qnoJRDbuX4Q1",
   "execution_count": 87,
   "outputs": [
    {
     "output_type": "execute_result",
     "data": {
      "text/plain": [
       "        Fresh Ground Water  Fresh Surface Water  Sprinkler Irrigation  \\\n",
       "YEAR                                                                    \n",
       "1985.0             2943.53             12089.84                334.38   \n",
       "1990.0             2550.87             11636.03                466.36   \n",
       "1995.0             2462.45             12088.18                450.37   \n",
       "2000.0             2923.23             12052.45                519.17   \n",
       "2005.0             2828.28             11990.79                596.72   \n",
       "2010.0             2058.26             11576.59                553.88   \n",
       "\n",
       "        Micro-irrigation  Surface Irrigation  \n",
       "YEAR                                          \n",
       "1985.0              0.00             2301.41  \n",
       "1990.0              0.00             2308.40  \n",
       "1995.0             16.46             2424.34  \n",
       "2000.0             14.33             2155.55  \n",
       "2005.0             21.49             2021.70  \n",
       "2010.0             33.22             2141.88  "
      ],
      "text/html": [
       "\n",
       "  <div id=\"df-7794a4b5-5db5-4427-957e-639fbdb81e20\">\n",
       "    <div class=\"colab-df-container\">\n",
       "      <div>\n",
       "<style scoped>\n",
       "    .dataframe tbody tr th:only-of-type {\n",
       "        vertical-align: middle;\n",
       "    }\n",
       "\n",
       "    .dataframe tbody tr th {\n",
       "        vertical-align: top;\n",
       "    }\n",
       "\n",
       "    .dataframe thead th {\n",
       "        text-align: right;\n",
       "    }\n",
       "</style>\n",
       "<table border=\"1\" class=\"dataframe\">\n",
       "  <thead>\n",
       "    <tr style=\"text-align: right;\">\n",
       "      <th></th>\n",
       "      <th>Fresh Ground Water</th>\n",
       "      <th>Fresh Surface Water</th>\n",
       "      <th>Sprinkler Irrigation</th>\n",
       "      <th>Micro-irrigation</th>\n",
       "      <th>Surface Irrigation</th>\n",
       "    </tr>\n",
       "    <tr>\n",
       "      <th>YEAR</th>\n",
       "      <th></th>\n",
       "      <th></th>\n",
       "      <th></th>\n",
       "      <th></th>\n",
       "      <th></th>\n",
       "    </tr>\n",
       "  </thead>\n",
       "  <tbody>\n",
       "    <tr>\n",
       "      <th>1985.0</th>\n",
       "      <td>2943.53</td>\n",
       "      <td>12089.84</td>\n",
       "      <td>334.38</td>\n",
       "      <td>0.00</td>\n",
       "      <td>2301.41</td>\n",
       "    </tr>\n",
       "    <tr>\n",
       "      <th>1990.0</th>\n",
       "      <td>2550.87</td>\n",
       "      <td>11636.03</td>\n",
       "      <td>466.36</td>\n",
       "      <td>0.00</td>\n",
       "      <td>2308.40</td>\n",
       "    </tr>\n",
       "    <tr>\n",
       "      <th>1995.0</th>\n",
       "      <td>2462.45</td>\n",
       "      <td>12088.18</td>\n",
       "      <td>450.37</td>\n",
       "      <td>16.46</td>\n",
       "      <td>2424.34</td>\n",
       "    </tr>\n",
       "    <tr>\n",
       "      <th>2000.0</th>\n",
       "      <td>2923.23</td>\n",
       "      <td>12052.45</td>\n",
       "      <td>519.17</td>\n",
       "      <td>14.33</td>\n",
       "      <td>2155.55</td>\n",
       "    </tr>\n",
       "    <tr>\n",
       "      <th>2005.0</th>\n",
       "      <td>2828.28</td>\n",
       "      <td>11990.79</td>\n",
       "      <td>596.72</td>\n",
       "      <td>21.49</td>\n",
       "      <td>2021.70</td>\n",
       "    </tr>\n",
       "    <tr>\n",
       "      <th>2010.0</th>\n",
       "      <td>2058.26</td>\n",
       "      <td>11576.59</td>\n",
       "      <td>553.88</td>\n",
       "      <td>33.22</td>\n",
       "      <td>2141.88</td>\n",
       "    </tr>\n",
       "  </tbody>\n",
       "</table>\n",
       "</div>\n",
       "      <button class=\"colab-df-convert\" onclick=\"convertToInteractive('df-7794a4b5-5db5-4427-957e-639fbdb81e20')\"\n",
       "              title=\"Convert this dataframe to an interactive table.\"\n",
       "              style=\"display:none;\">\n",
       "        \n",
       "  <svg xmlns=\"http://www.w3.org/2000/svg\" height=\"24px\"viewBox=\"0 0 24 24\"\n",
       "       width=\"24px\">\n",
       "    <path d=\"M0 0h24v24H0V0z\" fill=\"none\"/>\n",
       "    <path d=\"M18.56 5.44l.94 2.06.94-2.06 2.06-.94-2.06-.94-.94-2.06-.94 2.06-2.06.94zm-11 1L8.5 8.5l.94-2.06 2.06-.94-2.06-.94L8.5 2.5l-.94 2.06-2.06.94zm10 10l.94 2.06.94-2.06 2.06-.94-2.06-.94-.94-2.06-.94 2.06-2.06.94z\"/><path d=\"M17.41 7.96l-1.37-1.37c-.4-.4-.92-.59-1.43-.59-.52 0-1.04.2-1.43.59L10.3 9.45l-7.72 7.72c-.78.78-.78 2.05 0 2.83L4 21.41c.39.39.9.59 1.41.59.51 0 1.02-.2 1.41-.59l7.78-7.78 2.81-2.81c.8-.78.8-2.07 0-2.86zM5.41 20L4 18.59l7.72-7.72 1.47 1.35L5.41 20z\"/>\n",
       "  </svg>\n",
       "      </button>\n",
       "      \n",
       "  <style>\n",
       "    .colab-df-container {\n",
       "      display:flex;\n",
       "      flex-wrap:wrap;\n",
       "      gap: 12px;\n",
       "    }\n",
       "\n",
       "    .colab-df-convert {\n",
       "      background-color: #E8F0FE;\n",
       "      border: none;\n",
       "      border-radius: 50%;\n",
       "      cursor: pointer;\n",
       "      display: none;\n",
       "      fill: #1967D2;\n",
       "      height: 32px;\n",
       "      padding: 0 0 0 0;\n",
       "      width: 32px;\n",
       "    }\n",
       "\n",
       "    .colab-df-convert:hover {\n",
       "      background-color: #E2EBFA;\n",
       "      box-shadow: 0px 1px 2px rgba(60, 64, 67, 0.3), 0px 1px 3px 1px rgba(60, 64, 67, 0.15);\n",
       "      fill: #174EA6;\n",
       "    }\n",
       "\n",
       "    [theme=dark] .colab-df-convert {\n",
       "      background-color: #3B4455;\n",
       "      fill: #D2E3FC;\n",
       "    }\n",
       "\n",
       "    [theme=dark] .colab-df-convert:hover {\n",
       "      background-color: #434B5C;\n",
       "      box-shadow: 0px 1px 3px 1px rgba(0, 0, 0, 0.15);\n",
       "      filter: drop-shadow(0px 1px 2px rgba(0, 0, 0, 0.3));\n",
       "      fill: #FFFFFF;\n",
       "    }\n",
       "  </style>\n",
       "\n",
       "      <script>\n",
       "        const buttonEl =\n",
       "          document.querySelector('#df-7794a4b5-5db5-4427-957e-639fbdb81e20 button.colab-df-convert');\n",
       "        buttonEl.style.display =\n",
       "          google.colab.kernel.accessAllowed ? 'block' : 'none';\n",
       "\n",
       "        async function convertToInteractive(key) {\n",
       "          const element = document.querySelector('#df-7794a4b5-5db5-4427-957e-639fbdb81e20');\n",
       "          const dataTable =\n",
       "            await google.colab.kernel.invokeFunction('convertToInteractive',\n",
       "                                                     [key], {});\n",
       "          if (!dataTable) return;\n",
       "\n",
       "          const docLinkHtml = 'Like what you see? Visit the ' +\n",
       "            '<a target=\"_blank\" href=https://colab.research.google.com/notebooks/data_table.ipynb>data table notebook</a>'\n",
       "            + ' to learn more about interactive tables.';\n",
       "          element.innerHTML = '';\n",
       "          dataTable['output_type'] = 'display_data';\n",
       "          await google.colab.output.renderOutput(dataTable, element);\n",
       "          const docLink = document.createElement('div');\n",
       "          docLink.innerHTML = docLinkHtml;\n",
       "          element.appendChild(docLink);\n",
       "        }\n",
       "      </script>\n",
       "    </div>\n",
       "  </div>\n",
       "  "
      ]
     },
     "metadata": {},
     "execution_count": 87
    }
   ]
  },
  {
   "cell_type": "code",
   "source": [
    "# Plot irrigation types\n",
    "\n",
    "# set width of bar\n",
    "barWidth = 0.25\n",
    "fig = plt.subplots(figsize =(13, 8))\n",
    " \n",
    "# set height of bar\n",
    "spr = ir_bd_sum['Sprinkler Irrigation'].to_list()\n",
    "mic = ir_bd_sum['Micro-irrigation'].to_list()\n",
    "sur = ir_bd_sum['Surface Irrigation'].to_list()\n",
    " \n",
    "# Set position of bar on X axis\n",
    "br1 = np.arange(len(spr))\n",
    "br2 = [x + barWidth for x in br1]\n",
    "br3 = [x + barWidth for x in br2]\n",
    " \n",
    "# Make the plot\n",
    "plt.bar(br1, spr, color ='c', width = barWidth,\n",
    "        edgecolor ='grey', label ='Sprinkler')\n",
    "plt.bar(br2, mic, color ='y', width = barWidth,\n",
    "        edgecolor ='grey', label ='Micro')\n",
    "plt.bar(br3, sur, color ='b', width = barWidth,\n",
    "        edgecolor ='grey', label ='Surface')\n",
    " \n",
    "# Adding Xticks\n",
    "plt.gca().yaxis.set_major_formatter(ticker.StrMethodFormatter('{x:,.0f}'))\n",
    "plt.xlabel('Year', fontweight ='bold', fontsize = 15)\n",
    "plt.ylabel('Thousand Acre Feet', fontweight ='bold', fontsize = 15)\n",
    "plt.xticks([r + barWidth for r in range(len(spr))],\n",
    "        [int(x) for x in ir_bd_sum.index.to_list()])\n",
    " \n",
    "plt.legend(title=\"Irrigation Type\", loc='upper left')\n",
    "#plt.savefig(f'../images/water_usage_bar.png', bbox_inches='tight', transparent=True)\n",
    "plt.show();"
   ],
   "metadata": {
    "id": "FsFvtUbXZ0dj",
    "outputId": "cf287026-c40d-41f0-93de-2c1294b8c908",
    "colab": {
     "base_uri": "https://localhost:8080/",
     "height": 502
    },
    "pycharm": {
     "name": "#%%\n"
    }
   },
   "id": "FsFvtUbXZ0dj",
   "execution_count": 88,
   "outputs": [
    {
     "output_type": "display_data",
     "data": {
      "text/plain": [
       "<Figure size 936x576 with 1 Axes>"
      ],
      "image/png": "[encoded data removed]"
     },
     "metadata": {
      "needs_background": "light"
     }
    }
   ]
  },
  {
   "cell_type": "code",
   "source": [],
   "metadata": {
    "id": "LRAt2p4Odb7_",
    "pycharm": {
     "name": "#%%\n"
    }
   },
   "id": "LRAt2p4Odb7_",
   "execution_count": 88,
   "outputs": []
  }
 ],
 "metadata": {
  "kernelspec": {
   "display_name": "Python (learn-env)",
   "language": "python",
   "name": "learn-env"
  },
  "language_info": {
   "codemirror_mode": {
    "name": "ipython",
    "version": 3
   },
   "file_extension": ".py",
   "mimetype": "text/x-python",
   "name": "python",
   "nbconvert_exporter": "python",
   "pygments_lexer": "ipython3",
   "version": "3.9.7"
  },
  "colab": {
   "name": "Colorado_River_Water_Resources.ipynb",
   "provenance": []
  }
 },
 "nbformat": 4,
 "nbformat_minor": 5
}